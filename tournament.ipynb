{
 "cells": [
  {
   "cell_type": "markdown",
   "metadata": {
    "id": "r6P8xlu2dmvB"
   },
   "source": [
    "# Optimization of Brazilian Football Championship with Genetic Algorithm"
   ]
  },
  {
   "cell_type": "markdown",
   "metadata": {
    "id": "TROcOVQidmvL"
   },
   "source": [
    "## 1. The Championship"
   ]
  },
  {
   "cell_type": "markdown",
   "metadata": {
    "id": "XQimdFqUdmvM"
   },
   "source": [
    "The Brazilian Football Championship is the main tournament of the most popular sport in Brazil. Most of the country is represented through one of the twenty teams (the Northern region was present in former editions). Brazil is a continent-sized country, so this tournament involves long trips, specially for teams in the Northeast region.<br> \n",
    "\n",
    "Starting with a set of conditions that will be discussed later, we will use Genetic Algorithms to propose a possible sequence of matches that minimize the impact of these long trips, although it is very clear there are teams who are geographically distant from the rest and there is no way to have every team with the same total distance. We try three different metrics for this optimization, all of them based on the distances traveled by each team.<br>\n",
    "\n",
    "This kind of problem is known as **TTP, Traveling Tournament Problem**. There is a huge number of possible combinations and it is really hard to get the optimum solution, even for a small number of teams."
   ]
  },
  {
   "cell_type": "markdown",
   "metadata": {
    "id": "0xH5j2RfdmvM"
   },
   "source": [
    "## 2. Available Data"
   ]
  },
  {
   "cell_type": "markdown",
   "metadata": {
    "id": "vbfnF5XNdmvN"
   },
   "source": [
    "It is very hard to create from scratch a table with the matches for each round. For this project, we will use the table of matches from the 2020 Championship. We will try to improve on that with our algorithm."
   ]
  },
  {
   "cell_type": "markdown",
   "metadata": {
    "id": "JjpMlgzIdmvN"
   },
   "source": [
    "Let's import the required libraries to show these datasets."
   ]
  },
  {
   "cell_type": "code",
   "execution_count": 1,
   "metadata": {
    "id": "T8wug6XsdmvO"
   },
   "outputs": [],
   "source": [
    "import pandas as pd\n",
    "import numpy as np\n",
    "import matplotlib.pyplot as plt\n",
    "import math\n",
    "\n",
    "%matplotlib inline"
   ]
  },
  {
   "cell_type": "markdown",
   "metadata": {
    "id": "_yJHFLQDdmvO"
   },
   "source": [
    "### 2.1. List of Teams"
   ]
  },
  {
   "cell_type": "markdown",
   "metadata": {
    "id": "4hsnCLFYdmvO"
   },
   "source": [
    "We need the list of the twenty teams with their home city. As we are interested in the distance traveled by each team, we will get the coordinates (latitude and longitude) for the center of the city as an approximation."
   ]
  },
  {
   "cell_type": "code",
   "execution_count": 2,
   "metadata": {
    "colab": {
     "base_uri": "https://localhost:8080/",
     "height": 204
    },
    "id": "rZqx-hAodmvP",
    "outputId": "f052221b-22f7-4dc9-abfb-3ed3eb5d11e3"
   },
   "outputs": [
    {
     "data": {
      "text/html": [
       "<div>\n",
       "<style scoped>\n",
       "    .dataframe tbody tr th:only-of-type {\n",
       "        vertical-align: middle;\n",
       "    }\n",
       "\n",
       "    .dataframe tbody tr th {\n",
       "        vertical-align: top;\n",
       "    }\n",
       "\n",
       "    .dataframe thead th {\n",
       "        text-align: right;\n",
       "    }\n",
       "</style>\n",
       "<table border=\"1\" class=\"dataframe\">\n",
       "  <thead>\n",
       "    <tr style=\"text-align: right;\">\n",
       "      <th></th>\n",
       "      <th>Team</th>\n",
       "      <th>City</th>\n",
       "    </tr>\n",
       "  </thead>\n",
       "  <tbody>\n",
       "    <tr>\n",
       "      <th>0</th>\n",
       "      <td>Atlético Goianiense</td>\n",
       "      <td>Goiânia</td>\n",
       "    </tr>\n",
       "    <tr>\n",
       "      <th>1</th>\n",
       "      <td>Atlético Mineiro</td>\n",
       "      <td>Belo Horizonte</td>\n",
       "    </tr>\n",
       "    <tr>\n",
       "      <th>2</th>\n",
       "      <td>Athletico Paranaense</td>\n",
       "      <td>Curitiba</td>\n",
       "    </tr>\n",
       "    <tr>\n",
       "      <th>3</th>\n",
       "      <td>Bahia</td>\n",
       "      <td>Salvador</td>\n",
       "    </tr>\n",
       "    <tr>\n",
       "      <th>4</th>\n",
       "      <td>Botafogo</td>\n",
       "      <td>Rio de Janeiro</td>\n",
       "    </tr>\n",
       "  </tbody>\n",
       "</table>\n",
       "</div>"
      ],
      "text/plain": [
       "                   Team            City\n",
       "0   Atlético Goianiense         Goiânia\n",
       "1      Atlético Mineiro  Belo Horizonte\n",
       "2  Athletico Paranaense        Curitiba\n",
       "3                 Bahia        Salvador\n",
       "4              Botafogo  Rio de Janeiro"
      ]
     },
     "execution_count": 2,
     "metadata": {},
     "output_type": "execute_result"
    }
   ],
   "source": [
    "list_teams_20 = pd.read_csv('teams.csv')\n",
    "list_teams_20.head()"
   ]
  },
  {
   "cell_type": "markdown",
   "metadata": {
    "id": "UajIwTHZdmvQ"
   },
   "source": [
    "Later we will set up a 20x20 table with the distance between each team's cities."
   ]
  },
  {
   "cell_type": "markdown",
   "metadata": {
    "id": "M7RYDg9edmvQ"
   },
   "source": [
    "### 2.2. 2020 Championship"
   ]
  },
  {
   "cell_type": "markdown",
   "metadata": {
    "id": "BXNoSXOydmvQ"
   },
   "source": [
    "Our starting point is the 2020 Championship, where we have the match order for each of the twenty teams. There are two halves, where the second one repeats the order of the first, but flipping the home and away teams. Taking this into account, we only need to worry about the first half."
   ]
  },
  {
   "cell_type": "markdown",
   "metadata": {
    "id": "2azGvKyZdmvR"
   },
   "source": [
    "We represent the matches for the first half with two tables, one with the opponents in each round and another telling us if the team plays at their home stadium or away (*h* or *a*)."
   ]
  },
  {
   "cell_type": "markdown",
   "metadata": {
    "id": "DSUzagZldmvR"
   },
   "source": [
    "#### 2.2.1 Sequence of matches"
   ]
  },
  {
   "cell_type": "code",
   "execution_count": 3,
   "metadata": {
    "colab": {
     "base_uri": "https://localhost:8080/",
     "height": 326
    },
    "id": "WG07PWvadmvR",
    "outputId": "77f41528-9c27-425a-b99b-5b30367e8528"
   },
   "outputs": [
    {
     "data": {
      "text/html": [
       "<div>\n",
       "<style scoped>\n",
       "    .dataframe tbody tr th:only-of-type {\n",
       "        vertical-align: middle;\n",
       "    }\n",
       "\n",
       "    .dataframe tbody tr th {\n",
       "        vertical-align: top;\n",
       "    }\n",
       "\n",
       "    .dataframe thead th {\n",
       "        text-align: right;\n",
       "    }\n",
       "</style>\n",
       "<table border=\"1\" class=\"dataframe\">\n",
       "  <thead>\n",
       "    <tr style=\"text-align: right;\">\n",
       "      <th></th>\n",
       "      <th>Team</th>\n",
       "      <th>Round 1</th>\n",
       "      <th>Round 2</th>\n",
       "      <th>Round 3</th>\n",
       "      <th>Round 4</th>\n",
       "      <th>Round 5</th>\n",
       "      <th>Round 6</th>\n",
       "      <th>Round 7</th>\n",
       "      <th>Round 8</th>\n",
       "      <th>Round 9</th>\n",
       "      <th>Round 10</th>\n",
       "      <th>Round 11</th>\n",
       "      <th>Round 12</th>\n",
       "      <th>Round 13</th>\n",
       "      <th>Round 14</th>\n",
       "      <th>Round 15</th>\n",
       "      <th>Round 16</th>\n",
       "      <th>Round 17</th>\n",
       "      <th>Round 18</th>\n",
       "      <th>Round 19</th>\n",
       "    </tr>\n",
       "  </thead>\n",
       "  <tbody>\n",
       "    <tr>\n",
       "      <th>0</th>\n",
       "      <td>Athlético Paranaense</td>\n",
       "      <td>Fortaleza</td>\n",
       "      <td>Goiás</td>\n",
       "      <td>Santos</td>\n",
       "      <td>Palmeiras</td>\n",
       "      <td>Fluminense</td>\n",
       "      <td>Atlético Mineiro</td>\n",
       "      <td>Red Bull Bragantino</td>\n",
       "      <td>Vasco da Gama</td>\n",
       "      <td>Botafogo</td>\n",
       "      <td>Coritiba</td>\n",
       "      <td>São Paulo</td>\n",
       "      <td>Bahia</td>\n",
       "      <td>Flamengo</td>\n",
       "      <td>Ceará</td>\n",
       "      <td>Internacional</td>\n",
       "      <td>Corinthians</td>\n",
       "      <td>Atlético Goianiense</td>\n",
       "      <td>Grêmio</td>\n",
       "      <td>Sport</td>\n",
       "    </tr>\n",
       "    <tr>\n",
       "      <th>1</th>\n",
       "      <td>Atlético Goianiense</td>\n",
       "      <td>Corinthians</td>\n",
       "      <td>Flamengo</td>\n",
       "      <td>Sport</td>\n",
       "      <td>Internacional</td>\n",
       "      <td>Goiás</td>\n",
       "      <td>Ceará</td>\n",
       "      <td>Fluminense</td>\n",
       "      <td>Grêmio</td>\n",
       "      <td>Vasco da Gama</td>\n",
       "      <td>Bahia</td>\n",
       "      <td>Atlético Mineiro</td>\n",
       "      <td>Botafogo</td>\n",
       "      <td>Fortaleza</td>\n",
       "      <td>São Paulo</td>\n",
       "      <td>Red Bull Bragantino</td>\n",
       "      <td>Santos</td>\n",
       "      <td>Athlético Paranaense</td>\n",
       "      <td>Palmeiras</td>\n",
       "      <td>Coritiba</td>\n",
       "    </tr>\n",
       "    <tr>\n",
       "      <th>2</th>\n",
       "      <td>Atlético Mineiro</td>\n",
       "      <td>Flamengo</td>\n",
       "      <td>Corinthians</td>\n",
       "      <td>Ceará</td>\n",
       "      <td>Botafogo</td>\n",
       "      <td>Internacional</td>\n",
       "      <td>Athlético Paranaense</td>\n",
       "      <td>São Paulo</td>\n",
       "      <td>Coritiba</td>\n",
       "      <td>Santos</td>\n",
       "      <td>Red Bull Bragantino</td>\n",
       "      <td>Atlético Goianiense</td>\n",
       "      <td>Grêmio</td>\n",
       "      <td>Vasco da Gama</td>\n",
       "      <td>Fortaleza</td>\n",
       "      <td>Goiás</td>\n",
       "      <td>Fluminense</td>\n",
       "      <td>Bahia</td>\n",
       "      <td>Sport</td>\n",
       "      <td>Palmeiras</td>\n",
       "    </tr>\n",
       "    <tr>\n",
       "      <th>3</th>\n",
       "      <td>Bahia</td>\n",
       "      <td>Botafogo</td>\n",
       "      <td>Coritiba</td>\n",
       "      <td>Red Bull Bragantino</td>\n",
       "      <td>São Paulo</td>\n",
       "      <td>Ceará</td>\n",
       "      <td>Palmeiras</td>\n",
       "      <td>Flamengo</td>\n",
       "      <td>Internacional</td>\n",
       "      <td>Grêmio</td>\n",
       "      <td>Atlético Goianiense</td>\n",
       "      <td>Corinthians</td>\n",
       "      <td>Athlético Paranaense</td>\n",
       "      <td>Sport</td>\n",
       "      <td>Vasco da Gama</td>\n",
       "      <td>Fluminense</td>\n",
       "      <td>Goiás</td>\n",
       "      <td>Atlético Mineiro</td>\n",
       "      <td>Fortaleza</td>\n",
       "      <td>Santos</td>\n",
       "    </tr>\n",
       "    <tr>\n",
       "      <th>4</th>\n",
       "      <td>Botafogo</td>\n",
       "      <td>Bahia</td>\n",
       "      <td>Red Bull Bragantino</td>\n",
       "      <td>Fortaleza</td>\n",
       "      <td>Atlético Mineiro</td>\n",
       "      <td>Flamengo</td>\n",
       "      <td>Internacional</td>\n",
       "      <td>Coritiba</td>\n",
       "      <td>Corinthians</td>\n",
       "      <td>Athlético Paranaense</td>\n",
       "      <td>Vasco da Gama</td>\n",
       "      <td>Santos</td>\n",
       "      <td>Atlético Goianiense</td>\n",
       "      <td>Fluminense</td>\n",
       "      <td>Palmeiras</td>\n",
       "      <td>Sport</td>\n",
       "      <td>Grêmio</td>\n",
       "      <td>Goiás</td>\n",
       "      <td>São Paulo</td>\n",
       "      <td>Ceará</td>\n",
       "    </tr>\n",
       "  </tbody>\n",
       "</table>\n",
       "</div>"
      ],
      "text/plain": [
       "                   Team      Round 1              Round 2  \\\n",
       "0  Athlético Paranaense    Fortaleza                Goiás   \n",
       "1   Atlético Goianiense  Corinthians             Flamengo   \n",
       "2      Atlético Mineiro     Flamengo          Corinthians   \n",
       "3                 Bahia     Botafogo             Coritiba   \n",
       "4              Botafogo        Bahia  Red Bull Bragantino   \n",
       "\n",
       "               Round 3           Round 4        Round 5               Round 6  \\\n",
       "0               Santos         Palmeiras     Fluminense      Atlético Mineiro   \n",
       "1                Sport     Internacional          Goiás                 Ceará   \n",
       "2                Ceará          Botafogo  Internacional  Athlético Paranaense   \n",
       "3  Red Bull Bragantino         São Paulo          Ceará             Palmeiras   \n",
       "4            Fortaleza  Atlético Mineiro       Flamengo         Internacional   \n",
       "\n",
       "               Round 7        Round 8               Round 9  \\\n",
       "0  Red Bull Bragantino  Vasco da Gama              Botafogo   \n",
       "1           Fluminense         Grêmio         Vasco da Gama   \n",
       "2            São Paulo       Coritiba                Santos   \n",
       "3             Flamengo  Internacional                Grêmio   \n",
       "4             Coritiba    Corinthians  Athlético Paranaense   \n",
       "\n",
       "              Round 10             Round 11              Round 12  \\\n",
       "0             Coritiba            São Paulo                 Bahia   \n",
       "1                Bahia     Atlético Mineiro              Botafogo   \n",
       "2  Red Bull Bragantino  Atlético Goianiense                Grêmio   \n",
       "3  Atlético Goianiense          Corinthians  Athlético Paranaense   \n",
       "4        Vasco da Gama               Santos   Atlético Goianiense   \n",
       "\n",
       "        Round 13       Round 14             Round 15     Round 16  \\\n",
       "0       Flamengo          Ceará        Internacional  Corinthians   \n",
       "1      Fortaleza      São Paulo  Red Bull Bragantino       Santos   \n",
       "2  Vasco da Gama      Fortaleza                Goiás   Fluminense   \n",
       "3          Sport  Vasco da Gama           Fluminense        Goiás   \n",
       "4     Fluminense      Palmeiras                Sport       Grêmio   \n",
       "\n",
       "               Round 17   Round 18   Round 19  \n",
       "0   Atlético Goianiense     Grêmio      Sport  \n",
       "1  Athlético Paranaense  Palmeiras   Coritiba  \n",
       "2                 Bahia      Sport  Palmeiras  \n",
       "3      Atlético Mineiro  Fortaleza     Santos  \n",
       "4                 Goiás  São Paulo      Ceará  "
      ]
     },
     "execution_count": 3,
     "metadata": {},
     "output_type": "execute_result"
    }
   ],
   "source": [
    "matches_20 = pd.read_csv('matches.csv')\n",
    "matches_20.head()"
   ]
  },
  {
   "cell_type": "markdown",
   "metadata": {
    "id": "-NW8yF_KdmvS"
   },
   "source": [
    "#### 2.2.2 Match location"
   ]
  },
  {
   "cell_type": "code",
   "execution_count": 4,
   "metadata": {
    "colab": {
     "base_uri": "https://localhost:8080/",
     "height": 255
    },
    "id": "c2tV8zA0dmvS",
    "outputId": "e4660d2c-062a-4b29-94c5-60fd44dd0375"
   },
   "outputs": [
    {
     "data": {
      "text/html": [
       "<div>\n",
       "<style scoped>\n",
       "    .dataframe tbody tr th:only-of-type {\n",
       "        vertical-align: middle;\n",
       "    }\n",
       "\n",
       "    .dataframe tbody tr th {\n",
       "        vertical-align: top;\n",
       "    }\n",
       "\n",
       "    .dataframe thead th {\n",
       "        text-align: right;\n",
       "    }\n",
       "</style>\n",
       "<table border=\"1\" class=\"dataframe\">\n",
       "  <thead>\n",
       "    <tr style=\"text-align: right;\">\n",
       "      <th></th>\n",
       "      <th>Team</th>\n",
       "      <th>Round 1</th>\n",
       "      <th>Round 2</th>\n",
       "      <th>Round 3</th>\n",
       "      <th>Round 4</th>\n",
       "      <th>Round 5</th>\n",
       "      <th>Round 6</th>\n",
       "      <th>Round 7</th>\n",
       "      <th>Round 8</th>\n",
       "      <th>Round 9</th>\n",
       "      <th>Round 10</th>\n",
       "      <th>Round 11</th>\n",
       "      <th>Round 12</th>\n",
       "      <th>Round 13</th>\n",
       "      <th>Round 14</th>\n",
       "      <th>Round 15</th>\n",
       "      <th>Round 16</th>\n",
       "      <th>Round 17</th>\n",
       "      <th>Round 18</th>\n",
       "      <th>Round 19</th>\n",
       "    </tr>\n",
       "  </thead>\n",
       "  <tbody>\n",
       "    <tr>\n",
       "      <th>0</th>\n",
       "      <td>Athlético Paranaense</td>\n",
       "      <td>a</td>\n",
       "      <td>h</td>\n",
       "      <td>a</td>\n",
       "      <td>h</td>\n",
       "      <td>h</td>\n",
       "      <td>a</td>\n",
       "      <td>h</td>\n",
       "      <td>a</td>\n",
       "      <td>h</td>\n",
       "      <td>h</td>\n",
       "      <td>a</td>\n",
       "      <td>h</td>\n",
       "      <td>a</td>\n",
       "      <td>h</td>\n",
       "      <td>a</td>\n",
       "      <td>h</td>\n",
       "      <td>a</td>\n",
       "      <td>h</td>\n",
       "      <td>a</td>\n",
       "    </tr>\n",
       "    <tr>\n",
       "      <th>1</th>\n",
       "      <td>Atlético Goianiense</td>\n",
       "      <td>a</td>\n",
       "      <td>h</td>\n",
       "      <td>h</td>\n",
       "      <td>a</td>\n",
       "      <td>a</td>\n",
       "      <td>h</td>\n",
       "      <td>a</td>\n",
       "      <td>h</td>\n",
       "      <td>a</td>\n",
       "      <td>a</td>\n",
       "      <td>h</td>\n",
       "      <td>h</td>\n",
       "      <td>a</td>\n",
       "      <td>a</td>\n",
       "      <td>h</td>\n",
       "      <td>a</td>\n",
       "      <td>h</td>\n",
       "      <td>h</td>\n",
       "      <td>a</td>\n",
       "    </tr>\n",
       "    <tr>\n",
       "      <th>2</th>\n",
       "      <td>Atlético Mineiro</td>\n",
       "      <td>a</td>\n",
       "      <td>h</td>\n",
       "      <td>h</td>\n",
       "      <td>a</td>\n",
       "      <td>a</td>\n",
       "      <td>h</td>\n",
       "      <td>h</td>\n",
       "      <td>a</td>\n",
       "      <td>a</td>\n",
       "      <td>h</td>\n",
       "      <td>a</td>\n",
       "      <td>h</td>\n",
       "      <td>h</td>\n",
       "      <td>a</td>\n",
       "      <td>h</td>\n",
       "      <td>h</td>\n",
       "      <td>a</td>\n",
       "      <td>h</td>\n",
       "      <td>a</td>\n",
       "    </tr>\n",
       "    <tr>\n",
       "      <th>3</th>\n",
       "      <td>Bahia</td>\n",
       "      <td>a</td>\n",
       "      <td>h</td>\n",
       "      <td>h</td>\n",
       "      <td>a</td>\n",
       "      <td>a</td>\n",
       "      <td>h</td>\n",
       "      <td>h</td>\n",
       "      <td>a</td>\n",
       "      <td>h</td>\n",
       "      <td>h</td>\n",
       "      <td>a</td>\n",
       "      <td>a</td>\n",
       "      <td>h</td>\n",
       "      <td>h</td>\n",
       "      <td>a</td>\n",
       "      <td>a</td>\n",
       "      <td>h</td>\n",
       "      <td>h</td>\n",
       "      <td>a</td>\n",
       "    </tr>\n",
       "    <tr>\n",
       "      <th>4</th>\n",
       "      <td>Botafogo</td>\n",
       "      <td>h</td>\n",
       "      <td>a</td>\n",
       "      <td>a</td>\n",
       "      <td>h</td>\n",
       "      <td>a</td>\n",
       "      <td>h</td>\n",
       "      <td>h</td>\n",
       "      <td>a</td>\n",
       "      <td>a</td>\n",
       "      <td>h</td>\n",
       "      <td>h</td>\n",
       "      <td>a</td>\n",
       "      <td>h</td>\n",
       "      <td>h</td>\n",
       "      <td>a</td>\n",
       "      <td>a</td>\n",
       "      <td>h</td>\n",
       "      <td>a</td>\n",
       "      <td>h</td>\n",
       "    </tr>\n",
       "  </tbody>\n",
       "</table>\n",
       "</div>"
      ],
      "text/plain": [
       "                   Team Round 1 Round 2 Round 3 Round 4 Round 5 Round 6  \\\n",
       "0  Athlético Paranaense       a       h       a       h       h       a   \n",
       "1   Atlético Goianiense       a       h       h       a       a       h   \n",
       "2      Atlético Mineiro       a       h       h       a       a       h   \n",
       "3                 Bahia       a       h       h       a       a       h   \n",
       "4              Botafogo       h       a       a       h       a       h   \n",
       "\n",
       "  Round 7 Round 8 Round 9 Round 10 Round 11 Round 12 Round 13 Round 14  \\\n",
       "0       h       a       h        h        a        h        a        h   \n",
       "1       a       h       a        a        h        h        a        a   \n",
       "2       h       a       a        h        a        h        h        a   \n",
       "3       h       a       h        h        a        a        h        h   \n",
       "4       h       a       a        h        h        a        h        h   \n",
       "\n",
       "  Round 15 Round 16 Round 17 Round 18 Round 19  \n",
       "0        a        h        a        h        a  \n",
       "1        h        a        h        h        a  \n",
       "2        h        h        a        h        a  \n",
       "3        a        a        h        h        a  \n",
       "4        a        a        h        a        h  "
      ]
     },
     "execution_count": 4,
     "metadata": {},
     "output_type": "execute_result"
    }
   ],
   "source": [
    "location_20 = pd.read_csv('location.csv')\n",
    "location_20.head()"
   ]
  },
  {
   "cell_type": "markdown",
   "metadata": {
    "id": "zTzcspsQdmvS"
   },
   "source": [
    "## 3. Data Transformation"
   ]
  },
  {
   "cell_type": "markdown",
   "metadata": {
    "id": "3GB_LEjKdmvU"
   },
   "source": [
    "We need to alter the table so that we can update the list of teams. We will replace each team by their position in the alphabetical order. For example, *Athlético Paranaense* will be replaced by *Team01*, *Atlético Goianiense* by *Team02*, and so on. We will have three generic tables."
   ]
  },
  {
   "cell_type": "code",
   "execution_count": 5,
   "metadata": {
    "id": "XgFaYwWpdmvW"
   },
   "outputs": [],
   "source": [
    "generic=['Team01','Team02','Team03','Team04','Team05','Team06','Team07','Team08','Team09','Team10',\n",
    "         'Team11','Team12','Team13','Team14','Team15','Team16','Team17','Team18','Team19','Team20']"
   ]
  },
  {
   "cell_type": "code",
   "execution_count": 6,
   "metadata": {
    "colab": {
     "base_uri": "https://localhost:8080/",
     "height": 218
    },
    "id": "eFNvmqR9dmvW",
    "outputId": "73f4af4e-7301-41ac-ce8c-8f0332ea1719"
   },
   "outputs": [
    {
     "data": {
      "text/html": [
       "<div>\n",
       "<style scoped>\n",
       "    .dataframe tbody tr th:only-of-type {\n",
       "        vertical-align: middle;\n",
       "    }\n",
       "\n",
       "    .dataframe tbody tr th {\n",
       "        vertical-align: top;\n",
       "    }\n",
       "\n",
       "    .dataframe thead th {\n",
       "        text-align: right;\n",
       "    }\n",
       "</style>\n",
       "<table border=\"1\" class=\"dataframe\">\n",
       "  <thead>\n",
       "    <tr style=\"text-align: right;\">\n",
       "      <th></th>\n",
       "    </tr>\n",
       "    <tr>\n",
       "      <th>Team</th>\n",
       "    </tr>\n",
       "  </thead>\n",
       "  <tbody>\n",
       "    <tr>\n",
       "      <th>Team01</th>\n",
       "    </tr>\n",
       "    <tr>\n",
       "      <th>Team02</th>\n",
       "    </tr>\n",
       "    <tr>\n",
       "      <th>Team03</th>\n",
       "    </tr>\n",
       "    <tr>\n",
       "      <th>Team04</th>\n",
       "    </tr>\n",
       "    <tr>\n",
       "      <th>Team05</th>\n",
       "    </tr>\n",
       "  </tbody>\n",
       "</table>\n",
       "</div>"
      ],
      "text/plain": [
       "Empty DataFrame\n",
       "Columns: []\n",
       "Index: [Team01, Team02, Team03, Team04, Team05]"
      ]
     },
     "execution_count": 6,
     "metadata": {},
     "output_type": "execute_result"
    }
   ],
   "source": [
    "list1=list_teams_20['Team'].tolist()\n",
    "list_teams = list_teams_20.replace(list1,generic)\n",
    "list_teams.drop(columns=['City'],inplace=True)\n",
    "list_teams = list_teams.set_index('Team')\n",
    "list_teams.head()"
   ]
  },
  {
   "cell_type": "code",
   "execution_count": 7,
   "metadata": {
    "colab": {
     "base_uri": "https://localhost:8080/",
     "height": 252
    },
    "id": "u1veNFHcdmvX",
    "outputId": "09453f13-379a-445a-d03f-04e3739eb8e8"
   },
   "outputs": [
    {
     "data": {
      "text/html": [
       "<div>\n",
       "<style scoped>\n",
       "    .dataframe tbody tr th:only-of-type {\n",
       "        vertical-align: middle;\n",
       "    }\n",
       "\n",
       "    .dataframe tbody tr th {\n",
       "        vertical-align: top;\n",
       "    }\n",
       "\n",
       "    .dataframe thead th {\n",
       "        text-align: right;\n",
       "    }\n",
       "</style>\n",
       "<table border=\"1\" class=\"dataframe\">\n",
       "  <thead>\n",
       "    <tr style=\"text-align: right;\">\n",
       "      <th></th>\n",
       "      <th>Round 1</th>\n",
       "      <th>Round 2</th>\n",
       "      <th>Round 3</th>\n",
       "      <th>Round 4</th>\n",
       "      <th>Round 5</th>\n",
       "      <th>Round 6</th>\n",
       "      <th>Round 7</th>\n",
       "      <th>Round 8</th>\n",
       "      <th>Round 9</th>\n",
       "      <th>Round 10</th>\n",
       "      <th>Round 11</th>\n",
       "      <th>Round 12</th>\n",
       "      <th>Round 13</th>\n",
       "      <th>Round 14</th>\n",
       "      <th>Round 15</th>\n",
       "      <th>Round 16</th>\n",
       "      <th>Round 17</th>\n",
       "      <th>Round 18</th>\n",
       "      <th>Round 19</th>\n",
       "    </tr>\n",
       "    <tr>\n",
       "      <th>Team</th>\n",
       "      <th></th>\n",
       "      <th></th>\n",
       "      <th></th>\n",
       "      <th></th>\n",
       "      <th></th>\n",
       "      <th></th>\n",
       "      <th></th>\n",
       "      <th></th>\n",
       "      <th></th>\n",
       "      <th></th>\n",
       "      <th></th>\n",
       "      <th></th>\n",
       "      <th></th>\n",
       "      <th></th>\n",
       "      <th></th>\n",
       "      <th></th>\n",
       "      <th></th>\n",
       "      <th></th>\n",
       "      <th></th>\n",
       "    </tr>\n",
       "  </thead>\n",
       "  <tbody>\n",
       "    <tr>\n",
       "      <th>Team01</th>\n",
       "      <td>Team11</td>\n",
       "      <td>Team12</td>\n",
       "      <td>Team17</td>\n",
       "      <td>Team15</td>\n",
       "      <td>Team10</td>\n",
       "      <td>Team03</td>\n",
       "      <td>Team16</td>\n",
       "      <td>Team20</td>\n",
       "      <td>Team05</td>\n",
       "      <td>Team08</td>\n",
       "      <td>Team18</td>\n",
       "      <td>Team04</td>\n",
       "      <td>Team09</td>\n",
       "      <td>Team06</td>\n",
       "      <td>Team14</td>\n",
       "      <td>Team07</td>\n",
       "      <td>Team02</td>\n",
       "      <td>Team13</td>\n",
       "      <td>Team19</td>\n",
       "    </tr>\n",
       "    <tr>\n",
       "      <th>Team02</th>\n",
       "      <td>Team07</td>\n",
       "      <td>Team09</td>\n",
       "      <td>Team19</td>\n",
       "      <td>Team14</td>\n",
       "      <td>Team12</td>\n",
       "      <td>Team06</td>\n",
       "      <td>Team10</td>\n",
       "      <td>Team13</td>\n",
       "      <td>Team20</td>\n",
       "      <td>Team04</td>\n",
       "      <td>Team03</td>\n",
       "      <td>Team05</td>\n",
       "      <td>Team11</td>\n",
       "      <td>Team18</td>\n",
       "      <td>Team16</td>\n",
       "      <td>Team17</td>\n",
       "      <td>Team01</td>\n",
       "      <td>Team15</td>\n",
       "      <td>Team08</td>\n",
       "    </tr>\n",
       "    <tr>\n",
       "      <th>Team03</th>\n",
       "      <td>Team09</td>\n",
       "      <td>Team07</td>\n",
       "      <td>Team06</td>\n",
       "      <td>Team05</td>\n",
       "      <td>Team14</td>\n",
       "      <td>Team01</td>\n",
       "      <td>Team18</td>\n",
       "      <td>Team08</td>\n",
       "      <td>Team17</td>\n",
       "      <td>Team16</td>\n",
       "      <td>Team02</td>\n",
       "      <td>Team13</td>\n",
       "      <td>Team20</td>\n",
       "      <td>Team11</td>\n",
       "      <td>Team12</td>\n",
       "      <td>Team10</td>\n",
       "      <td>Team04</td>\n",
       "      <td>Team19</td>\n",
       "      <td>Team15</td>\n",
       "    </tr>\n",
       "    <tr>\n",
       "      <th>Team04</th>\n",
       "      <td>Team05</td>\n",
       "      <td>Team08</td>\n",
       "      <td>Team16</td>\n",
       "      <td>Team18</td>\n",
       "      <td>Team06</td>\n",
       "      <td>Team15</td>\n",
       "      <td>Team09</td>\n",
       "      <td>Team14</td>\n",
       "      <td>Team13</td>\n",
       "      <td>Team02</td>\n",
       "      <td>Team07</td>\n",
       "      <td>Team01</td>\n",
       "      <td>Team19</td>\n",
       "      <td>Team20</td>\n",
       "      <td>Team10</td>\n",
       "      <td>Team12</td>\n",
       "      <td>Team03</td>\n",
       "      <td>Team11</td>\n",
       "      <td>Team17</td>\n",
       "    </tr>\n",
       "    <tr>\n",
       "      <th>Team05</th>\n",
       "      <td>Team04</td>\n",
       "      <td>Team16</td>\n",
       "      <td>Team11</td>\n",
       "      <td>Team03</td>\n",
       "      <td>Team09</td>\n",
       "      <td>Team14</td>\n",
       "      <td>Team08</td>\n",
       "      <td>Team07</td>\n",
       "      <td>Team01</td>\n",
       "      <td>Team20</td>\n",
       "      <td>Team17</td>\n",
       "      <td>Team02</td>\n",
       "      <td>Team10</td>\n",
       "      <td>Team15</td>\n",
       "      <td>Team19</td>\n",
       "      <td>Team13</td>\n",
       "      <td>Team12</td>\n",
       "      <td>Team18</td>\n",
       "      <td>Team06</td>\n",
       "    </tr>\n",
       "  </tbody>\n",
       "</table>\n",
       "</div>"
      ],
      "text/plain": [
       "       Round 1 Round 2 Round 3 Round 4 Round 5 Round 6 Round 7 Round 8  \\\n",
       "Team                                                                     \n",
       "Team01  Team11  Team12  Team17  Team15  Team10  Team03  Team16  Team20   \n",
       "Team02  Team07  Team09  Team19  Team14  Team12  Team06  Team10  Team13   \n",
       "Team03  Team09  Team07  Team06  Team05  Team14  Team01  Team18  Team08   \n",
       "Team04  Team05  Team08  Team16  Team18  Team06  Team15  Team09  Team14   \n",
       "Team05  Team04  Team16  Team11  Team03  Team09  Team14  Team08  Team07   \n",
       "\n",
       "       Round 9 Round 10 Round 11 Round 12 Round 13 Round 14 Round 15 Round 16  \\\n",
       "Team                                                                            \n",
       "Team01  Team05   Team08   Team18   Team04   Team09   Team06   Team14   Team07   \n",
       "Team02  Team20   Team04   Team03   Team05   Team11   Team18   Team16   Team17   \n",
       "Team03  Team17   Team16   Team02   Team13   Team20   Team11   Team12   Team10   \n",
       "Team04  Team13   Team02   Team07   Team01   Team19   Team20   Team10   Team12   \n",
       "Team05  Team01   Team20   Team17   Team02   Team10   Team15   Team19   Team13   \n",
       "\n",
       "       Round 17 Round 18 Round 19  \n",
       "Team                               \n",
       "Team01   Team02   Team13   Team19  \n",
       "Team02   Team01   Team15   Team08  \n",
       "Team03   Team04   Team19   Team15  \n",
       "Team04   Team03   Team11   Team17  \n",
       "Team05   Team12   Team18   Team06  "
      ]
     },
     "execution_count": 7,
     "metadata": {},
     "output_type": "execute_result"
    }
   ],
   "source": [
    "list1 = matches_20['Team'].tolist()\n",
    "matches = matches_20.replace(list1,generic)\n",
    "matches = matches.set_index('Team')\n",
    "matches.head()"
   ]
  },
  {
   "cell_type": "code",
   "execution_count": 8,
   "metadata": {
    "colab": {
     "base_uri": "https://localhost:8080/",
     "height": 252
    },
    "id": "ZIkr4Ng9dmvY",
    "outputId": "1509fc38-1f79-400d-b7db-aeffe3a80811"
   },
   "outputs": [
    {
     "data": {
      "text/html": [
       "<div>\n",
       "<style scoped>\n",
       "    .dataframe tbody tr th:only-of-type {\n",
       "        vertical-align: middle;\n",
       "    }\n",
       "\n",
       "    .dataframe tbody tr th {\n",
       "        vertical-align: top;\n",
       "    }\n",
       "\n",
       "    .dataframe thead th {\n",
       "        text-align: right;\n",
       "    }\n",
       "</style>\n",
       "<table border=\"1\" class=\"dataframe\">\n",
       "  <thead>\n",
       "    <tr style=\"text-align: right;\">\n",
       "      <th></th>\n",
       "      <th>Round 1</th>\n",
       "      <th>Round 2</th>\n",
       "      <th>Round 3</th>\n",
       "      <th>Round 4</th>\n",
       "      <th>Round 5</th>\n",
       "      <th>Round 6</th>\n",
       "      <th>Round 7</th>\n",
       "      <th>Round 8</th>\n",
       "      <th>Round 9</th>\n",
       "      <th>Round 10</th>\n",
       "      <th>Round 11</th>\n",
       "      <th>Round 12</th>\n",
       "      <th>Round 13</th>\n",
       "      <th>Round 14</th>\n",
       "      <th>Round 15</th>\n",
       "      <th>Round 16</th>\n",
       "      <th>Round 17</th>\n",
       "      <th>Round 18</th>\n",
       "      <th>Round 19</th>\n",
       "    </tr>\n",
       "    <tr>\n",
       "      <th>Team</th>\n",
       "      <th></th>\n",
       "      <th></th>\n",
       "      <th></th>\n",
       "      <th></th>\n",
       "      <th></th>\n",
       "      <th></th>\n",
       "      <th></th>\n",
       "      <th></th>\n",
       "      <th></th>\n",
       "      <th></th>\n",
       "      <th></th>\n",
       "      <th></th>\n",
       "      <th></th>\n",
       "      <th></th>\n",
       "      <th></th>\n",
       "      <th></th>\n",
       "      <th></th>\n",
       "      <th></th>\n",
       "      <th></th>\n",
       "    </tr>\n",
       "  </thead>\n",
       "  <tbody>\n",
       "    <tr>\n",
       "      <th>Team01</th>\n",
       "      <td>1</td>\n",
       "      <td>0</td>\n",
       "      <td>1</td>\n",
       "      <td>0</td>\n",
       "      <td>0</td>\n",
       "      <td>1</td>\n",
       "      <td>0</td>\n",
       "      <td>1</td>\n",
       "      <td>0</td>\n",
       "      <td>0</td>\n",
       "      <td>1</td>\n",
       "      <td>0</td>\n",
       "      <td>1</td>\n",
       "      <td>0</td>\n",
       "      <td>1</td>\n",
       "      <td>0</td>\n",
       "      <td>1</td>\n",
       "      <td>0</td>\n",
       "      <td>1</td>\n",
       "    </tr>\n",
       "    <tr>\n",
       "      <th>Team02</th>\n",
       "      <td>1</td>\n",
       "      <td>0</td>\n",
       "      <td>0</td>\n",
       "      <td>1</td>\n",
       "      <td>1</td>\n",
       "      <td>0</td>\n",
       "      <td>1</td>\n",
       "      <td>0</td>\n",
       "      <td>1</td>\n",
       "      <td>1</td>\n",
       "      <td>0</td>\n",
       "      <td>0</td>\n",
       "      <td>1</td>\n",
       "      <td>1</td>\n",
       "      <td>0</td>\n",
       "      <td>1</td>\n",
       "      <td>0</td>\n",
       "      <td>0</td>\n",
       "      <td>1</td>\n",
       "    </tr>\n",
       "    <tr>\n",
       "      <th>Team03</th>\n",
       "      <td>1</td>\n",
       "      <td>0</td>\n",
       "      <td>0</td>\n",
       "      <td>1</td>\n",
       "      <td>1</td>\n",
       "      <td>0</td>\n",
       "      <td>0</td>\n",
       "      <td>1</td>\n",
       "      <td>1</td>\n",
       "      <td>0</td>\n",
       "      <td>1</td>\n",
       "      <td>0</td>\n",
       "      <td>0</td>\n",
       "      <td>1</td>\n",
       "      <td>0</td>\n",
       "      <td>0</td>\n",
       "      <td>1</td>\n",
       "      <td>0</td>\n",
       "      <td>1</td>\n",
       "    </tr>\n",
       "    <tr>\n",
       "      <th>Team04</th>\n",
       "      <td>1</td>\n",
       "      <td>0</td>\n",
       "      <td>0</td>\n",
       "      <td>1</td>\n",
       "      <td>1</td>\n",
       "      <td>0</td>\n",
       "      <td>0</td>\n",
       "      <td>1</td>\n",
       "      <td>0</td>\n",
       "      <td>0</td>\n",
       "      <td>1</td>\n",
       "      <td>1</td>\n",
       "      <td>0</td>\n",
       "      <td>0</td>\n",
       "      <td>1</td>\n",
       "      <td>1</td>\n",
       "      <td>0</td>\n",
       "      <td>0</td>\n",
       "      <td>1</td>\n",
       "    </tr>\n",
       "    <tr>\n",
       "      <th>Team05</th>\n",
       "      <td>0</td>\n",
       "      <td>1</td>\n",
       "      <td>1</td>\n",
       "      <td>0</td>\n",
       "      <td>1</td>\n",
       "      <td>0</td>\n",
       "      <td>0</td>\n",
       "      <td>1</td>\n",
       "      <td>1</td>\n",
       "      <td>0</td>\n",
       "      <td>0</td>\n",
       "      <td>1</td>\n",
       "      <td>0</td>\n",
       "      <td>0</td>\n",
       "      <td>1</td>\n",
       "      <td>1</td>\n",
       "      <td>0</td>\n",
       "      <td>1</td>\n",
       "      <td>0</td>\n",
       "    </tr>\n",
       "  </tbody>\n",
       "</table>\n",
       "</div>"
      ],
      "text/plain": [
       "        Round 1  Round 2  Round 3  Round 4  Round 5  Round 6  Round 7  \\\n",
       "Team                                                                    \n",
       "Team01        1        0        1        0        0        1        0   \n",
       "Team02        1        0        0        1        1        0        1   \n",
       "Team03        1        0        0        1        1        0        0   \n",
       "Team04        1        0        0        1        1        0        0   \n",
       "Team05        0        1        1        0        1        0        0   \n",
       "\n",
       "        Round 8  Round 9  Round 10  Round 11  Round 12  Round 13  Round 14  \\\n",
       "Team                                                                         \n",
       "Team01        1        0         0         1         0         1         0   \n",
       "Team02        0        1         1         0         0         1         1   \n",
       "Team03        1        1         0         1         0         0         1   \n",
       "Team04        1        0         0         1         1         0         0   \n",
       "Team05        1        1         0         0         1         0         0   \n",
       "\n",
       "        Round 15  Round 16  Round 17  Round 18  Round 19  \n",
       "Team                                                      \n",
       "Team01         1         0         1         0         1  \n",
       "Team02         0         1         0         0         1  \n",
       "Team03         0         0         1         0         1  \n",
       "Team04         1         1         0         0         1  \n",
       "Team05         1         1         0         1         0  "
      ]
     },
     "execution_count": 8,
     "metadata": {},
     "output_type": "execute_result"
    }
   ],
   "source": [
    "list1 = location_20['Team'].tolist()\n",
    "locations = location_20.replace(list1,generic)\n",
    "locations = locations.replace(['h','a'],[0,1])\n",
    "locations = locations.set_index('Team')\n",
    "locations.head()"
   ]
  },
  {
   "cell_type": "markdown",
   "metadata": {},
   "source": [
    "## 4. Genetic Algorithm and Definition of the Problem"
   ]
  },
  {
   "cell_type": "markdown",
   "metadata": {
    "id": "KJPVdVX0dmvY"
   },
   "source": [
    "This kind of problem is very complex, as there are too many possible combinations. For the Brazilian Championship, it is probable that the full table of matches is made by hand, with only one assumption:\n",
    "1. No team can play more than two rounds in a row at home or away."
   ]
  },
  {
   "cell_type": "markdown",
   "metadata": {
    "id": "gllatQn2dmvS"
   },
   "source": [
    "For our exercise, we will work with an Express Tournament. The number of rounds is the same, but we add another condition:\n",
    "\n",
    "2. The teams don't return to their home city, going from one match to the location of the next.\n"
   ]
  },
  {
   "cell_type": "markdown",
   "metadata": {
    "id": "dA0m-c99dmvT"
   },
   "source": [
    "This new condition is only relevant to our evaluation metric. Without this condition, the total distance traveled by each team would be the sum of distance from their home cities to all the others. By adding this artificial condition, we are able to run our algorithm. The other option would be to develop a more complex metric."
   ]
  },
  {
   "cell_type": "markdown",
   "metadata": {},
   "source": [
    "We have three tables to work with. To get the optimum results, we should make changes in all of them at the same time, but this is rather difficult. Let's tackle one at a time, leaving the other two fixed."
   ]
  },
  {
   "cell_type": "markdown",
   "metadata": {},
   "source": [
    "For each case, we will create a initial set of possible configurations, represented by a vector or a matrix. They will be our genes for the genetic algorithm. These are evaluated based on the metrics we propose and the best ones will be used to generate a new set of configurations. This process is repeated a pre-determined number of times and should result on an optimized result."
   ]
  },
  {
   "cell_type": "markdown",
   "metadata": {
    "id": "6JhcG7TzdmvZ"
   },
   "source": [
    "### 4.1. List of teams"
   ]
  },
  {
   "cell_type": "markdown",
   "metadata": {
    "id": "QR_JsoUrdmvZ"
   },
   "source": [
    "We are going to make changes in the order of the teams, keeping the matches and location tables fixed. That means defining which team is '*Team01*', which one is '*Team02*', until '*Team20*'. The original list is in alphabetical order."
   ]
  },
  {
   "cell_type": "code",
   "execution_count": 9,
   "metadata": {
    "colab": {
     "base_uri": "https://localhost:8080/"
    },
    "id": "XPPZ9OUzdmvZ",
    "outputId": "e4ddabd4-9c64-42a6-92e0-dd02ad073d7d"
   },
   "outputs": [
    {
     "name": "stdout",
     "output_type": "stream",
     "text": [
      "There are 2432902008176640000 possibilities for this set of teams.\n"
     ]
    }
   ],
   "source": [
    "print('There are',math.factorial(20),'possibilities for this set of teams.')"
   ]
  },
  {
   "cell_type": "markdown",
   "metadata": {
    "id": "FfEy25OldmvZ"
   },
   "source": [
    "It is very obvious there would be a high computational cost if we must go through all of them."
   ]
  },
  {
   "cell_type": "markdown",
   "metadata": {},
   "source": [
    "In this case, our gene is a vector with the numbers from 1 to 20. The numbers represent each team in the alphabetical order, and the position in the vector represents the position in the generic list. That is, if the first number in the vector is 5, the fifth team in the alphabetical list will be '*Team01*'. The mutation for each generation is the selection of two positions in the vector and swapping the teams."
   ]
  },
  {
   "cell_type": "markdown",
   "metadata": {
    "id": "tVywj8yddmva"
   },
   "source": [
    "### 4.2. Match location"
   ]
  },
  {
   "cell_type": "markdown",
   "metadata": {
    "id": "KOCvnxHDdmva"
   },
   "source": [
    "We are going to make changes to the location table, keeping the order and matches tables fixed. That is, define the sequence of home and away matches for each team. It is important to respect the condition that no team can play more than two games in a row at home or away."
   ]
  },
  {
   "cell_type": "markdown",
   "metadata": {
    "id": "2XZpdYIMdmva"
   },
   "source": [
    "In this case, our gene is a 20x19 matrix, where each row is a team and each column is a round. The mutation is to pick a single match in the matches table and swap the home team. It is a valid mutation if the condition above is met."
   ]
  },
  {
   "cell_type": "markdown",
   "metadata": {
    "id": "neobT_HOdmvb"
   },
   "source": [
    "### 4.3. Match order"
   ]
  },
  {
   "cell_type": "markdown",
   "metadata": {
    "id": "5j7vL9fZdmvb"
   },
   "source": [
    "We are going to make changes to the matches table, keeping the order of the teams fixed. That is, define the sequence of matches for each team.  When we alter the sequence of the rounds, this also affects the location table. It is important to respect the condition that no team can play more than two games in a row at home or away."
   ]
  },
  {
   "cell_type": "markdown",
   "metadata": {
    "id": "dx4f1U3Rdmvb"
   },
   "source": [
    "To simplify this case, our gene is a vector with numbers from 1 to 19, The numbers represent each round in the original order, and the position in the vector represents the position in the new order. That is, if the first number in the vector is 5, the fifth round in the original order will be considered the first round. The mutation for each generation is the selection of two positions in the vector and swapping the rounds. Again, it is important to respect the condition that no team can play more than two games in a row at home or away."
   ]
  },
  {
   "cell_type": "markdown",
   "metadata": {
    "id": "NTnL6FUAdmvb"
   },
   "source": [
    "## 5. Tables of Distances"
   ]
  },
  {
   "cell_type": "markdown",
   "metadata": {
    "id": "kbUX--WNdmvT"
   },
   "source": [
    "We need four tables in our dataset:\n",
    "1. list of teams\n",
    "2. table with matches\n",
    "3. table with locations\n",
    "4. distance between cities\n",
    "\n",
    "The last table is used only in our evaluation function. It is the only one missing, so let's create it."
   ]
  },
  {
   "cell_type": "markdown",
   "metadata": {
    "id": "8G41eIoedmvc"
   },
   "source": [
    "We will load a library that returns the city's coordinates (Latitude and Longitude) and then we will create a new table with the distance between the all the cities."
   ]
  },
  {
   "cell_type": "markdown",
   "metadata": {
    "id": "EaUZz-Jzdmvc"
   },
   "source": [
    "Loading the required libraries."
   ]
  },
  {
   "cell_type": "code",
   "execution_count": 10,
   "metadata": {
    "colab": {
     "base_uri": "https://localhost:8080/"
    },
    "id": "CDLXeLredmvd",
    "outputId": "2a2b9361-5cc2-4864-e300-9bf9d358aac9"
   },
   "outputs": [
    {
     "name": "stdout",
     "output_type": "stream",
     "text": [
      "Requirement already satisfied: geopy in /home/rodrigolink/anaconda3/lib/python3.8/site-packages (2.1.0)\n",
      "Requirement already satisfied: geographiclib<2,>=1.49 in /home/rodrigolink/anaconda3/lib/python3.8/site-packages (from geopy) (1.50)\n"
     ]
    }
   ],
   "source": [
    "!pip3 install geopy\n",
    "from geopy.geocoders import Nominatim\n",
    "import time\n",
    "app = Nominatim(user_agent=\"gabrasileirao\")"
   ]
  },
  {
   "cell_type": "markdown",
   "metadata": {
    "id": "hY1gMu5Wdmvd"
   },
   "source": [
    "Defining the function that returns the coordinates."
   ]
  },
  {
   "cell_type": "code",
   "execution_count": 11,
   "metadata": {
    "id": "a8chMgYNdmvd"
   },
   "outputs": [],
   "source": [
    "def get_location_by_address(address):\n",
    "    \"\"\"This function returns a location as raw from an address\n",
    "    will repeat until success\"\"\"\n",
    "    time.sleep(1)\n",
    "    try:\n",
    "        return app.geocode(address).raw\n",
    "    except:\n",
    "        return get_location_by_address(address)"
   ]
  },
  {
   "cell_type": "markdown",
   "metadata": {
    "id": "VVkJeI8_dmvd"
   },
   "source": [
    "For each team, let's get the coordinates."
   ]
  },
  {
   "cell_type": "code",
   "execution_count": 12,
   "metadata": {
    "colab": {
     "base_uri": "https://localhost:8080/",
     "height": 544
    },
    "id": "1KY1DrE4dmve",
    "outputId": "e0a8ae3d-e192-457a-ef62-e0b29ff904df"
   },
   "outputs": [
    {
     "name": "stdout",
     "output_type": "stream",
     "text": [
      "0\n",
      "1\n",
      "2\n",
      "3\n",
      "4\n",
      "5\n",
      "6\n",
      "7\n",
      "8\n",
      "9\n",
      "10\n",
      "11\n",
      "12\n",
      "13\n",
      "14\n",
      "15\n",
      "16\n",
      "17\n",
      "18\n",
      "19\n"
     ]
    },
    {
     "data": {
      "text/html": [
       "<div>\n",
       "<style scoped>\n",
       "    .dataframe tbody tr th:only-of-type {\n",
       "        vertical-align: middle;\n",
       "    }\n",
       "\n",
       "    .dataframe tbody tr th {\n",
       "        vertical-align: top;\n",
       "    }\n",
       "\n",
       "    .dataframe thead th {\n",
       "        text-align: right;\n",
       "    }\n",
       "</style>\n",
       "<table border=\"1\" class=\"dataframe\">\n",
       "  <thead>\n",
       "    <tr style=\"text-align: right;\">\n",
       "      <th></th>\n",
       "      <th>Team</th>\n",
       "      <th>City</th>\n",
       "      <th>Latitude</th>\n",
       "      <th>Longitude</th>\n",
       "    </tr>\n",
       "  </thead>\n",
       "  <tbody>\n",
       "    <tr>\n",
       "      <th>0</th>\n",
       "      <td>Atlético Goianiense</td>\n",
       "      <td>Goiânia</td>\n",
       "      <td>-16.680882</td>\n",
       "      <td>-49.2532691</td>\n",
       "    </tr>\n",
       "    <tr>\n",
       "      <th>1</th>\n",
       "      <td>Atlético Mineiro</td>\n",
       "      <td>Belo Horizonte</td>\n",
       "      <td>-19.9227318</td>\n",
       "      <td>-43.9450948</td>\n",
       "    </tr>\n",
       "    <tr>\n",
       "      <th>2</th>\n",
       "      <td>Athletico Paranaense</td>\n",
       "      <td>Curitiba</td>\n",
       "      <td>-25.4295963</td>\n",
       "      <td>-49.2712724</td>\n",
       "    </tr>\n",
       "    <tr>\n",
       "      <th>3</th>\n",
       "      <td>Bahia</td>\n",
       "      <td>Salvador</td>\n",
       "      <td>-12.9822499</td>\n",
       "      <td>-38.4812772</td>\n",
       "    </tr>\n",
       "    <tr>\n",
       "      <th>4</th>\n",
       "      <td>Botafogo</td>\n",
       "      <td>Rio de Janeiro</td>\n",
       "      <td>-22.9110137</td>\n",
       "      <td>-43.2093727</td>\n",
       "    </tr>\n",
       "  </tbody>\n",
       "</table>\n",
       "</div>"
      ],
      "text/plain": [
       "                   Team            City     Latitude    Longitude\n",
       "0   Atlético Goianiense         Goiânia   -16.680882  -49.2532691\n",
       "1      Atlético Mineiro  Belo Horizonte  -19.9227318  -43.9450948\n",
       "2  Athletico Paranaense        Curitiba  -25.4295963  -49.2712724\n",
       "3                 Bahia        Salvador  -12.9822499  -38.4812772\n",
       "4              Botafogo  Rio de Janeiro  -22.9110137  -43.2093727"
      ]
     },
     "execution_count": 12,
     "metadata": {},
     "output_type": "execute_result"
    }
   ],
   "source": [
    "list_teams_20['Latitude']=0.\n",
    "list_teams_20['Longitude']=0.\n",
    "for ii in range(list_teams_20.shape[0]):\n",
    "    print(ii)\n",
    "    address = [list_teams_20.iloc[ii,1],'Brazil']\n",
    "    location = get_location_by_address(address)\n",
    "    list_teams_20.iloc[ii,-2] = location[\"lat\"]\n",
    "    list_teams_20.iloc[ii,-1] = location[\"lon\"]\n",
    "list_teams_20.head()"
   ]
  },
  {
   "cell_type": "code",
   "execution_count": 13,
   "metadata": {
    "id": "1XZC7SUvdmve"
   },
   "outputs": [],
   "source": [
    "list_teams_20['Latitude']=list_teams_20['Latitude'].astype(float)\n",
    "list_teams_20['Longitude']=list_teams_20['Longitude'].astype(float)"
   ]
  },
  {
   "cell_type": "markdown",
   "metadata": {
    "id": "TB6tBj4pdmve"
   },
   "source": [
    "Let's put each city in the map."
   ]
  },
  {
   "cell_type": "code",
   "execution_count": 14,
   "metadata": {
    "colab": {
     "base_uri": "https://localhost:8080/"
    },
    "id": "ZKkGMbNYdmve",
    "outputId": "e21dec96-0a22-432f-dd04-0ebe511aea24"
   },
   "outputs": [
    {
     "name": "stdout",
     "output_type": "stream",
     "text": [
      "Requirement already satisfied: folium in /home/rodrigolink/anaconda3/lib/python3.8/site-packages (0.12.1)\n",
      "Requirement already satisfied: requests in /home/rodrigolink/anaconda3/lib/python3.8/site-packages (from folium) (2.24.0)\n",
      "Requirement already satisfied: jinja2>=2.9 in /home/rodrigolink/anaconda3/lib/python3.8/site-packages (from folium) (2.11.2)\n",
      "Requirement already satisfied: branca>=0.3.0 in /home/rodrigolink/anaconda3/lib/python3.8/site-packages (from folium) (0.4.2)\n",
      "Requirement already satisfied: numpy in /home/rodrigolink/anaconda3/lib/python3.8/site-packages (from folium) (1.19.2)\n",
      "Requirement already satisfied: idna<3,>=2.5 in /home/rodrigolink/anaconda3/lib/python3.8/site-packages (from requests->folium) (2.10)\n",
      "Requirement already satisfied: certifi>=2017.4.17 in /home/rodrigolink/anaconda3/lib/python3.8/site-packages (from requests->folium) (2020.6.20)\n",
      "Requirement already satisfied: urllib3!=1.25.0,!=1.25.1,<1.26,>=1.21.1 in /home/rodrigolink/anaconda3/lib/python3.8/site-packages (from requests->folium) (1.25.11)\n",
      "Requirement already satisfied: chardet<4,>=3.0.2 in /home/rodrigolink/anaconda3/lib/python3.8/site-packages (from requests->folium) (3.0.4)\n",
      "Requirement already satisfied: MarkupSafe>=0.23 in /home/rodrigolink/anaconda3/lib/python3.8/site-packages (from jinja2>=2.9->folium) (1.1.1)\n"
     ]
    }
   ],
   "source": [
    "!pip install folium\n",
    "import folium # map rendering library"
   ]
  },
  {
   "cell_type": "code",
   "execution_count": 15,
   "metadata": {
    "colab": {
     "base_uri": "https://localhost:8080/",
     "height": 915
    },
    "id": "iKkWRk7idmvf",
    "outputId": "81ae2a86-4d40-46bc-a1c6-3d84461e77e9"
   },
   "outputs": [
    {
     "data": {
      "text/html": [
       "<div style=\"width:100%;\"><div style=\"position:relative;width:100%;height:0;padding-bottom:60%;\"><span style=\"color:#565656\">Make this Notebook Trusted to load map: File -> Trust Notebook</span><iframe src=\"about:blank\" style=\"position:absolute;width:100%;height:100%;left:0;top:0;border:none !important;\" data-html=%3C%21DOCTYPE%20html%3E%0A%3Chead%3E%20%20%20%20%0A%20%20%20%20%3Cmeta%20http-equiv%3D%22content-type%22%20content%3D%22text/html%3B%20charset%3DUTF-8%22%20/%3E%0A%20%20%20%20%0A%20%20%20%20%20%20%20%20%3Cscript%3E%0A%20%20%20%20%20%20%20%20%20%20%20%20L_NO_TOUCH%20%3D%20false%3B%0A%20%20%20%20%20%20%20%20%20%20%20%20L_DISABLE_3D%20%3D%20false%3B%0A%20%20%20%20%20%20%20%20%3C/script%3E%0A%20%20%20%20%0A%20%20%20%20%3Cstyle%3Ehtml%2C%20body%20%7Bwidth%3A%20100%25%3Bheight%3A%20100%25%3Bmargin%3A%200%3Bpadding%3A%200%3B%7D%3C/style%3E%0A%20%20%20%20%3Cstyle%3E%23map%20%7Bposition%3Aabsolute%3Btop%3A0%3Bbottom%3A0%3Bright%3A0%3Bleft%3A0%3B%7D%3C/style%3E%0A%20%20%20%20%3Cscript%20src%3D%22https%3A//cdn.jsdelivr.net/npm/leaflet%401.6.0/dist/leaflet.js%22%3E%3C/script%3E%0A%20%20%20%20%3Cscript%20src%3D%22https%3A//code.jquery.com/jquery-1.12.4.min.js%22%3E%3C/script%3E%0A%20%20%20%20%3Cscript%20src%3D%22https%3A//maxcdn.bootstrapcdn.com/bootstrap/3.2.0/js/bootstrap.min.js%22%3E%3C/script%3E%0A%20%20%20%20%3Cscript%20src%3D%22https%3A//cdnjs.cloudflare.com/ajax/libs/Leaflet.awesome-markers/2.0.2/leaflet.awesome-markers.js%22%3E%3C/script%3E%0A%20%20%20%20%3Clink%20rel%3D%22stylesheet%22%20href%3D%22https%3A//cdn.jsdelivr.net/npm/leaflet%401.6.0/dist/leaflet.css%22/%3E%0A%20%20%20%20%3Clink%20rel%3D%22stylesheet%22%20href%3D%22https%3A//maxcdn.bootstrapcdn.com/bootstrap/3.2.0/css/bootstrap.min.css%22/%3E%0A%20%20%20%20%3Clink%20rel%3D%22stylesheet%22%20href%3D%22https%3A//maxcdn.bootstrapcdn.com/bootstrap/3.2.0/css/bootstrap-theme.min.css%22/%3E%0A%20%20%20%20%3Clink%20rel%3D%22stylesheet%22%20href%3D%22https%3A//maxcdn.bootstrapcdn.com/font-awesome/4.6.3/css/font-awesome.min.css%22/%3E%0A%20%20%20%20%3Clink%20rel%3D%22stylesheet%22%20href%3D%22https%3A//cdnjs.cloudflare.com/ajax/libs/Leaflet.awesome-markers/2.0.2/leaflet.awesome-markers.css%22/%3E%0A%20%20%20%20%3Clink%20rel%3D%22stylesheet%22%20href%3D%22https%3A//cdn.jsdelivr.net/gh/python-visualization/folium/folium/templates/leaflet.awesome.rotate.min.css%22/%3E%0A%20%20%20%20%0A%20%20%20%20%20%20%20%20%20%20%20%20%3Cmeta%20name%3D%22viewport%22%20content%3D%22width%3Ddevice-width%2C%0A%20%20%20%20%20%20%20%20%20%20%20%20%20%20%20%20initial-scale%3D1.0%2C%20maximum-scale%3D1.0%2C%20user-scalable%3Dno%22%20/%3E%0A%20%20%20%20%20%20%20%20%20%20%20%20%3Cstyle%3E%0A%20%20%20%20%20%20%20%20%20%20%20%20%20%20%20%20%23map_d4480265d6e942259bda8771bd3b7ba5%20%7B%0A%20%20%20%20%20%20%20%20%20%20%20%20%20%20%20%20%20%20%20%20position%3A%20relative%3B%0A%20%20%20%20%20%20%20%20%20%20%20%20%20%20%20%20%20%20%20%20width%3A%20100.0%25%3B%0A%20%20%20%20%20%20%20%20%20%20%20%20%20%20%20%20%20%20%20%20height%3A%20100.0%25%3B%0A%20%20%20%20%20%20%20%20%20%20%20%20%20%20%20%20%20%20%20%20left%3A%200.0%25%3B%0A%20%20%20%20%20%20%20%20%20%20%20%20%20%20%20%20%20%20%20%20top%3A%200.0%25%3B%0A%20%20%20%20%20%20%20%20%20%20%20%20%20%20%20%20%7D%0A%20%20%20%20%20%20%20%20%20%20%20%20%3C/style%3E%0A%20%20%20%20%20%20%20%20%0A%3C/head%3E%0A%3Cbody%3E%20%20%20%20%0A%20%20%20%20%0A%20%20%20%20%20%20%20%20%20%20%20%20%3Cdiv%20class%3D%22folium-map%22%20id%3D%22map_d4480265d6e942259bda8771bd3b7ba5%22%20%3E%3C/div%3E%0A%20%20%20%20%20%20%20%20%0A%3C/body%3E%0A%3Cscript%3E%20%20%20%20%0A%20%20%20%20%0A%20%20%20%20%20%20%20%20%20%20%20%20var%20map_d4480265d6e942259bda8771bd3b7ba5%20%3D%20L.map%28%0A%20%20%20%20%20%20%20%20%20%20%20%20%20%20%20%20%22map_d4480265d6e942259bda8771bd3b7ba5%22%2C%0A%20%20%20%20%20%20%20%20%20%20%20%20%20%20%20%20%7B%0A%20%20%20%20%20%20%20%20%20%20%20%20%20%20%20%20%20%20%20%20center%3A%20%5B-10.3333333%2C%20-53.2%5D%2C%0A%20%20%20%20%20%20%20%20%20%20%20%20%20%20%20%20%20%20%20%20crs%3A%20L.CRS.EPSG3857%2C%0A%20%20%20%20%20%20%20%20%20%20%20%20%20%20%20%20%20%20%20%20zoom%3A%204%2C%0A%20%20%20%20%20%20%20%20%20%20%20%20%20%20%20%20%20%20%20%20zoomControl%3A%20true%2C%0A%20%20%20%20%20%20%20%20%20%20%20%20%20%20%20%20%20%20%20%20preferCanvas%3A%20false%2C%0A%20%20%20%20%20%20%20%20%20%20%20%20%20%20%20%20%7D%0A%20%20%20%20%20%20%20%20%20%20%20%20%29%3B%0A%0A%20%20%20%20%20%20%20%20%20%20%20%20%0A%0A%20%20%20%20%20%20%20%20%0A%20%20%20%20%0A%20%20%20%20%20%20%20%20%20%20%20%20var%20tile_layer_f5ef1f6e62f049ef92d293f1aaa68f8f%20%3D%20L.tileLayer%28%0A%20%20%20%20%20%20%20%20%20%20%20%20%20%20%20%20%22https%3A//%7Bs%7D.tile.openstreetmap.org/%7Bz%7D/%7Bx%7D/%7By%7D.png%22%2C%0A%20%20%20%20%20%20%20%20%20%20%20%20%20%20%20%20%7B%22attribution%22%3A%20%22Data%20by%20%5Cu0026copy%3B%20%5Cu003ca%20href%3D%5C%22http%3A//openstreetmap.org%5C%22%5Cu003eOpenStreetMap%5Cu003c/a%5Cu003e%2C%20under%20%5Cu003ca%20href%3D%5C%22http%3A//www.openstreetmap.org/copyright%5C%22%5Cu003eODbL%5Cu003c/a%5Cu003e.%22%2C%20%22detectRetina%22%3A%20false%2C%20%22maxNativeZoom%22%3A%2018%2C%20%22maxZoom%22%3A%2018%2C%20%22minZoom%22%3A%200%2C%20%22noWrap%22%3A%20false%2C%20%22opacity%22%3A%201%2C%20%22subdomains%22%3A%20%22abc%22%2C%20%22tms%22%3A%20false%7D%0A%20%20%20%20%20%20%20%20%20%20%20%20%29.addTo%28map_d4480265d6e942259bda8771bd3b7ba5%29%3B%0A%20%20%20%20%20%20%20%20%0A%20%20%20%20%0A%20%20%20%20%20%20%20%20%20%20%20%20var%20circle_marker_75323c7f470947b4b6de5e5ebea945ff%20%3D%20L.circleMarker%28%0A%20%20%20%20%20%20%20%20%20%20%20%20%20%20%20%20%5B-16.680882%2C%20-49.2532691%5D%2C%0A%20%20%20%20%20%20%20%20%20%20%20%20%20%20%20%20%7B%22bubblingMouseEvents%22%3A%20true%2C%20%22color%22%3A%20%22blue%22%2C%20%22dashArray%22%3A%20null%2C%20%22dashOffset%22%3A%20null%2C%20%22fill%22%3A%20true%2C%20%22fillColor%22%3A%20%22%233186cc%22%2C%20%22fillOpacity%22%3A%200.7%2C%20%22fillRule%22%3A%20%22evenodd%22%2C%20%22lineCap%22%3A%20%22round%22%2C%20%22lineJoin%22%3A%20%22round%22%2C%20%22opacity%22%3A%201.0%2C%20%22radius%22%3A%205%2C%20%22stroke%22%3A%20true%2C%20%22weight%22%3A%203%7D%0A%20%20%20%20%20%20%20%20%20%20%20%20%29.addTo%28map_d4480265d6e942259bda8771bd3b7ba5%29%3B%0A%20%20%20%20%20%20%20%20%0A%20%20%20%20%0A%20%20%20%20%20%20%20%20var%20popup_c4def48bf5c847c8bf5decb5e4787ff8%20%3D%20L.popup%28%7B%22maxWidth%22%3A%20%22100%25%22%7D%29%3B%0A%0A%20%20%20%20%20%20%20%20%0A%20%20%20%20%20%20%20%20%20%20%20%20var%20html_2e6e140f10ce4939bbadceca7ee971ba%20%3D%20%24%28%60%3Cdiv%20id%3D%22html_2e6e140f10ce4939bbadceca7ee971ba%22%20style%3D%22width%3A%20100.0%25%3B%20height%3A%20100.0%25%3B%22%3EAtl%C3%A9tico%20Goianiense%3C/div%3E%60%29%5B0%5D%3B%0A%20%20%20%20%20%20%20%20%20%20%20%20popup_c4def48bf5c847c8bf5decb5e4787ff8.setContent%28html_2e6e140f10ce4939bbadceca7ee971ba%29%3B%0A%20%20%20%20%20%20%20%20%0A%0A%20%20%20%20%20%20%20%20circle_marker_75323c7f470947b4b6de5e5ebea945ff.bindPopup%28popup_c4def48bf5c847c8bf5decb5e4787ff8%29%0A%20%20%20%20%20%20%20%20%3B%0A%0A%20%20%20%20%20%20%20%20%0A%20%20%20%20%0A%20%20%20%20%0A%20%20%20%20%20%20%20%20%20%20%20%20var%20circle_marker_6e1383fa453b405c844b22109660c470%20%3D%20L.circleMarker%28%0A%20%20%20%20%20%20%20%20%20%20%20%20%20%20%20%20%5B-19.9227318%2C%20-43.9450948%5D%2C%0A%20%20%20%20%20%20%20%20%20%20%20%20%20%20%20%20%7B%22bubblingMouseEvents%22%3A%20true%2C%20%22color%22%3A%20%22blue%22%2C%20%22dashArray%22%3A%20null%2C%20%22dashOffset%22%3A%20null%2C%20%22fill%22%3A%20true%2C%20%22fillColor%22%3A%20%22%233186cc%22%2C%20%22fillOpacity%22%3A%200.7%2C%20%22fillRule%22%3A%20%22evenodd%22%2C%20%22lineCap%22%3A%20%22round%22%2C%20%22lineJoin%22%3A%20%22round%22%2C%20%22opacity%22%3A%201.0%2C%20%22radius%22%3A%205%2C%20%22stroke%22%3A%20true%2C%20%22weight%22%3A%203%7D%0A%20%20%20%20%20%20%20%20%20%20%20%20%29.addTo%28map_d4480265d6e942259bda8771bd3b7ba5%29%3B%0A%20%20%20%20%20%20%20%20%0A%20%20%20%20%0A%20%20%20%20%20%20%20%20var%20popup_15aba50433c3445a87e0a04fcbbf452d%20%3D%20L.popup%28%7B%22maxWidth%22%3A%20%22100%25%22%7D%29%3B%0A%0A%20%20%20%20%20%20%20%20%0A%20%20%20%20%20%20%20%20%20%20%20%20var%20html_a14b973638bd43e6831fe263841cb819%20%3D%20%24%28%60%3Cdiv%20id%3D%22html_a14b973638bd43e6831fe263841cb819%22%20style%3D%22width%3A%20100.0%25%3B%20height%3A%20100.0%25%3B%22%3EAtl%C3%A9tico%20Mineiro%3C/div%3E%60%29%5B0%5D%3B%0A%20%20%20%20%20%20%20%20%20%20%20%20popup_15aba50433c3445a87e0a04fcbbf452d.setContent%28html_a14b973638bd43e6831fe263841cb819%29%3B%0A%20%20%20%20%20%20%20%20%0A%0A%20%20%20%20%20%20%20%20circle_marker_6e1383fa453b405c844b22109660c470.bindPopup%28popup_15aba50433c3445a87e0a04fcbbf452d%29%0A%20%20%20%20%20%20%20%20%3B%0A%0A%20%20%20%20%20%20%20%20%0A%20%20%20%20%0A%20%20%20%20%0A%20%20%20%20%20%20%20%20%20%20%20%20var%20circle_marker_7a94e3eaf2e3425e9595f39443a391ff%20%3D%20L.circleMarker%28%0A%20%20%20%20%20%20%20%20%20%20%20%20%20%20%20%20%5B-25.4295963%2C%20-49.2712724%5D%2C%0A%20%20%20%20%20%20%20%20%20%20%20%20%20%20%20%20%7B%22bubblingMouseEvents%22%3A%20true%2C%20%22color%22%3A%20%22blue%22%2C%20%22dashArray%22%3A%20null%2C%20%22dashOffset%22%3A%20null%2C%20%22fill%22%3A%20true%2C%20%22fillColor%22%3A%20%22%233186cc%22%2C%20%22fillOpacity%22%3A%200.7%2C%20%22fillRule%22%3A%20%22evenodd%22%2C%20%22lineCap%22%3A%20%22round%22%2C%20%22lineJoin%22%3A%20%22round%22%2C%20%22opacity%22%3A%201.0%2C%20%22radius%22%3A%205%2C%20%22stroke%22%3A%20true%2C%20%22weight%22%3A%203%7D%0A%20%20%20%20%20%20%20%20%20%20%20%20%29.addTo%28map_d4480265d6e942259bda8771bd3b7ba5%29%3B%0A%20%20%20%20%20%20%20%20%0A%20%20%20%20%0A%20%20%20%20%20%20%20%20var%20popup_590f5f8a0ca4497aa4c5b31820febe13%20%3D%20L.popup%28%7B%22maxWidth%22%3A%20%22100%25%22%7D%29%3B%0A%0A%20%20%20%20%20%20%20%20%0A%20%20%20%20%20%20%20%20%20%20%20%20var%20html_0cd5f5b9fef84c8bb664527182056b06%20%3D%20%24%28%60%3Cdiv%20id%3D%22html_0cd5f5b9fef84c8bb664527182056b06%22%20style%3D%22width%3A%20100.0%25%3B%20height%3A%20100.0%25%3B%22%3EAthletico%20Paranaense%3C/div%3E%60%29%5B0%5D%3B%0A%20%20%20%20%20%20%20%20%20%20%20%20popup_590f5f8a0ca4497aa4c5b31820febe13.setContent%28html_0cd5f5b9fef84c8bb664527182056b06%29%3B%0A%20%20%20%20%20%20%20%20%0A%0A%20%20%20%20%20%20%20%20circle_marker_7a94e3eaf2e3425e9595f39443a391ff.bindPopup%28popup_590f5f8a0ca4497aa4c5b31820febe13%29%0A%20%20%20%20%20%20%20%20%3B%0A%0A%20%20%20%20%20%20%20%20%0A%20%20%20%20%0A%20%20%20%20%0A%20%20%20%20%20%20%20%20%20%20%20%20var%20circle_marker_3fe1a021167d40a4866db8b8d3b6911b%20%3D%20L.circleMarker%28%0A%20%20%20%20%20%20%20%20%20%20%20%20%20%20%20%20%5B-12.9822499%2C%20-38.4812772%5D%2C%0A%20%20%20%20%20%20%20%20%20%20%20%20%20%20%20%20%7B%22bubblingMouseEvents%22%3A%20true%2C%20%22color%22%3A%20%22blue%22%2C%20%22dashArray%22%3A%20null%2C%20%22dashOffset%22%3A%20null%2C%20%22fill%22%3A%20true%2C%20%22fillColor%22%3A%20%22%233186cc%22%2C%20%22fillOpacity%22%3A%200.7%2C%20%22fillRule%22%3A%20%22evenodd%22%2C%20%22lineCap%22%3A%20%22round%22%2C%20%22lineJoin%22%3A%20%22round%22%2C%20%22opacity%22%3A%201.0%2C%20%22radius%22%3A%205%2C%20%22stroke%22%3A%20true%2C%20%22weight%22%3A%203%7D%0A%20%20%20%20%20%20%20%20%20%20%20%20%29.addTo%28map_d4480265d6e942259bda8771bd3b7ba5%29%3B%0A%20%20%20%20%20%20%20%20%0A%20%20%20%20%0A%20%20%20%20%20%20%20%20var%20popup_02b04ccca18241c29132b0164dab2b76%20%3D%20L.popup%28%7B%22maxWidth%22%3A%20%22100%25%22%7D%29%3B%0A%0A%20%20%20%20%20%20%20%20%0A%20%20%20%20%20%20%20%20%20%20%20%20var%20html_95f8ab89c98f41d0bdfe74fc5fafbfb3%20%3D%20%24%28%60%3Cdiv%20id%3D%22html_95f8ab89c98f41d0bdfe74fc5fafbfb3%22%20style%3D%22width%3A%20100.0%25%3B%20height%3A%20100.0%25%3B%22%3EBahia%3C/div%3E%60%29%5B0%5D%3B%0A%20%20%20%20%20%20%20%20%20%20%20%20popup_02b04ccca18241c29132b0164dab2b76.setContent%28html_95f8ab89c98f41d0bdfe74fc5fafbfb3%29%3B%0A%20%20%20%20%20%20%20%20%0A%0A%20%20%20%20%20%20%20%20circle_marker_3fe1a021167d40a4866db8b8d3b6911b.bindPopup%28popup_02b04ccca18241c29132b0164dab2b76%29%0A%20%20%20%20%20%20%20%20%3B%0A%0A%20%20%20%20%20%20%20%20%0A%20%20%20%20%0A%20%20%20%20%0A%20%20%20%20%20%20%20%20%20%20%20%20var%20circle_marker_6dbc2a58446b4290957be4c6a535d45c%20%3D%20L.circleMarker%28%0A%20%20%20%20%20%20%20%20%20%20%20%20%20%20%20%20%5B-22.9110137%2C%20-43.2093727%5D%2C%0A%20%20%20%20%20%20%20%20%20%20%20%20%20%20%20%20%7B%22bubblingMouseEvents%22%3A%20true%2C%20%22color%22%3A%20%22blue%22%2C%20%22dashArray%22%3A%20null%2C%20%22dashOffset%22%3A%20null%2C%20%22fill%22%3A%20true%2C%20%22fillColor%22%3A%20%22%233186cc%22%2C%20%22fillOpacity%22%3A%200.7%2C%20%22fillRule%22%3A%20%22evenodd%22%2C%20%22lineCap%22%3A%20%22round%22%2C%20%22lineJoin%22%3A%20%22round%22%2C%20%22opacity%22%3A%201.0%2C%20%22radius%22%3A%205%2C%20%22stroke%22%3A%20true%2C%20%22weight%22%3A%203%7D%0A%20%20%20%20%20%20%20%20%20%20%20%20%29.addTo%28map_d4480265d6e942259bda8771bd3b7ba5%29%3B%0A%20%20%20%20%20%20%20%20%0A%20%20%20%20%0A%20%20%20%20%20%20%20%20var%20popup_9c1827489a284b1cbb9cc269269b059c%20%3D%20L.popup%28%7B%22maxWidth%22%3A%20%22100%25%22%7D%29%3B%0A%0A%20%20%20%20%20%20%20%20%0A%20%20%20%20%20%20%20%20%20%20%20%20var%20html_938a1680ec17401e8bcd7cf9c8ecc5cb%20%3D%20%24%28%60%3Cdiv%20id%3D%22html_938a1680ec17401e8bcd7cf9c8ecc5cb%22%20style%3D%22width%3A%20100.0%25%3B%20height%3A%20100.0%25%3B%22%3EBotafogo%3C/div%3E%60%29%5B0%5D%3B%0A%20%20%20%20%20%20%20%20%20%20%20%20popup_9c1827489a284b1cbb9cc269269b059c.setContent%28html_938a1680ec17401e8bcd7cf9c8ecc5cb%29%3B%0A%20%20%20%20%20%20%20%20%0A%0A%20%20%20%20%20%20%20%20circle_marker_6dbc2a58446b4290957be4c6a535d45c.bindPopup%28popup_9c1827489a284b1cbb9cc269269b059c%29%0A%20%20%20%20%20%20%20%20%3B%0A%0A%20%20%20%20%20%20%20%20%0A%20%20%20%20%0A%20%20%20%20%0A%20%20%20%20%20%20%20%20%20%20%20%20var%20circle_marker_da0ea4106c9848be8886abbc9678928f%20%3D%20L.circleMarker%28%0A%20%20%20%20%20%20%20%20%20%20%20%20%20%20%20%20%5B-3.7304512%2C%20-38.5217989%5D%2C%0A%20%20%20%20%20%20%20%20%20%20%20%20%20%20%20%20%7B%22bubblingMouseEvents%22%3A%20true%2C%20%22color%22%3A%20%22blue%22%2C%20%22dashArray%22%3A%20null%2C%20%22dashOffset%22%3A%20null%2C%20%22fill%22%3A%20true%2C%20%22fillColor%22%3A%20%22%233186cc%22%2C%20%22fillOpacity%22%3A%200.7%2C%20%22fillRule%22%3A%20%22evenodd%22%2C%20%22lineCap%22%3A%20%22round%22%2C%20%22lineJoin%22%3A%20%22round%22%2C%20%22opacity%22%3A%201.0%2C%20%22radius%22%3A%205%2C%20%22stroke%22%3A%20true%2C%20%22weight%22%3A%203%7D%0A%20%20%20%20%20%20%20%20%20%20%20%20%29.addTo%28map_d4480265d6e942259bda8771bd3b7ba5%29%3B%0A%20%20%20%20%20%20%20%20%0A%20%20%20%20%0A%20%20%20%20%20%20%20%20var%20popup_f2b2017816d3403cb2e24109fd1a74c8%20%3D%20L.popup%28%7B%22maxWidth%22%3A%20%22100%25%22%7D%29%3B%0A%0A%20%20%20%20%20%20%20%20%0A%20%20%20%20%20%20%20%20%20%20%20%20var%20html_2357dab74faf4ad0991355f77a2b008f%20%3D%20%24%28%60%3Cdiv%20id%3D%22html_2357dab74faf4ad0991355f77a2b008f%22%20style%3D%22width%3A%20100.0%25%3B%20height%3A%20100.0%25%3B%22%3ECear%C3%A1%3C/div%3E%60%29%5B0%5D%3B%0A%20%20%20%20%20%20%20%20%20%20%20%20popup_f2b2017816d3403cb2e24109fd1a74c8.setContent%28html_2357dab74faf4ad0991355f77a2b008f%29%3B%0A%20%20%20%20%20%20%20%20%0A%0A%20%20%20%20%20%20%20%20circle_marker_da0ea4106c9848be8886abbc9678928f.bindPopup%28popup_f2b2017816d3403cb2e24109fd1a74c8%29%0A%20%20%20%20%20%20%20%20%3B%0A%0A%20%20%20%20%20%20%20%20%0A%20%20%20%20%0A%20%20%20%20%0A%20%20%20%20%20%20%20%20%20%20%20%20var%20circle_marker_8ba7575dc29c49b18f3f9714f544b06a%20%3D%20L.circleMarker%28%0A%20%20%20%20%20%20%20%20%20%20%20%20%20%20%20%20%5B-23.5506507%2C%20-46.6333824%5D%2C%0A%20%20%20%20%20%20%20%20%20%20%20%20%20%20%20%20%7B%22bubblingMouseEvents%22%3A%20true%2C%20%22color%22%3A%20%22blue%22%2C%20%22dashArray%22%3A%20null%2C%20%22dashOffset%22%3A%20null%2C%20%22fill%22%3A%20true%2C%20%22fillColor%22%3A%20%22%233186cc%22%2C%20%22fillOpacity%22%3A%200.7%2C%20%22fillRule%22%3A%20%22evenodd%22%2C%20%22lineCap%22%3A%20%22round%22%2C%20%22lineJoin%22%3A%20%22round%22%2C%20%22opacity%22%3A%201.0%2C%20%22radius%22%3A%205%2C%20%22stroke%22%3A%20true%2C%20%22weight%22%3A%203%7D%0A%20%20%20%20%20%20%20%20%20%20%20%20%29.addTo%28map_d4480265d6e942259bda8771bd3b7ba5%29%3B%0A%20%20%20%20%20%20%20%20%0A%20%20%20%20%0A%20%20%20%20%20%20%20%20var%20popup_8e12637b632c4b69bb1418e9fef20696%20%3D%20L.popup%28%7B%22maxWidth%22%3A%20%22100%25%22%7D%29%3B%0A%0A%20%20%20%20%20%20%20%20%0A%20%20%20%20%20%20%20%20%20%20%20%20var%20html_e6dd8182f8d34af982f637ebd1ece43e%20%3D%20%24%28%60%3Cdiv%20id%3D%22html_e6dd8182f8d34af982f637ebd1ece43e%22%20style%3D%22width%3A%20100.0%25%3B%20height%3A%20100.0%25%3B%22%3ECorinthians%3C/div%3E%60%29%5B0%5D%3B%0A%20%20%20%20%20%20%20%20%20%20%20%20popup_8e12637b632c4b69bb1418e9fef20696.setContent%28html_e6dd8182f8d34af982f637ebd1ece43e%29%3B%0A%20%20%20%20%20%20%20%20%0A%0A%20%20%20%20%20%20%20%20circle_marker_8ba7575dc29c49b18f3f9714f544b06a.bindPopup%28popup_8e12637b632c4b69bb1418e9fef20696%29%0A%20%20%20%20%20%20%20%20%3B%0A%0A%20%20%20%20%20%20%20%20%0A%20%20%20%20%0A%20%20%20%20%0A%20%20%20%20%20%20%20%20%20%20%20%20var%20circle_marker_e7de053a58be4a48a9029288976362df%20%3D%20L.circleMarker%28%0A%20%20%20%20%20%20%20%20%20%20%20%20%20%20%20%20%5B-25.4295963%2C%20-49.2712724%5D%2C%0A%20%20%20%20%20%20%20%20%20%20%20%20%20%20%20%20%7B%22bubblingMouseEvents%22%3A%20true%2C%20%22color%22%3A%20%22blue%22%2C%20%22dashArray%22%3A%20null%2C%20%22dashOffset%22%3A%20null%2C%20%22fill%22%3A%20true%2C%20%22fillColor%22%3A%20%22%233186cc%22%2C%20%22fillOpacity%22%3A%200.7%2C%20%22fillRule%22%3A%20%22evenodd%22%2C%20%22lineCap%22%3A%20%22round%22%2C%20%22lineJoin%22%3A%20%22round%22%2C%20%22opacity%22%3A%201.0%2C%20%22radius%22%3A%205%2C%20%22stroke%22%3A%20true%2C%20%22weight%22%3A%203%7D%0A%20%20%20%20%20%20%20%20%20%20%20%20%29.addTo%28map_d4480265d6e942259bda8771bd3b7ba5%29%3B%0A%20%20%20%20%20%20%20%20%0A%20%20%20%20%0A%20%20%20%20%20%20%20%20var%20popup_944e7330cfc94feb9e3728c1e85cb439%20%3D%20L.popup%28%7B%22maxWidth%22%3A%20%22100%25%22%7D%29%3B%0A%0A%20%20%20%20%20%20%20%20%0A%20%20%20%20%20%20%20%20%20%20%20%20var%20html_7a8b72989a9b42a8821ce3cf395f0e27%20%3D%20%24%28%60%3Cdiv%20id%3D%22html_7a8b72989a9b42a8821ce3cf395f0e27%22%20style%3D%22width%3A%20100.0%25%3B%20height%3A%20100.0%25%3B%22%3ECoritiba%3C/div%3E%60%29%5B0%5D%3B%0A%20%20%20%20%20%20%20%20%20%20%20%20popup_944e7330cfc94feb9e3728c1e85cb439.setContent%28html_7a8b72989a9b42a8821ce3cf395f0e27%29%3B%0A%20%20%20%20%20%20%20%20%0A%0A%20%20%20%20%20%20%20%20circle_marker_e7de053a58be4a48a9029288976362df.bindPopup%28popup_944e7330cfc94feb9e3728c1e85cb439%29%0A%20%20%20%20%20%20%20%20%3B%0A%0A%20%20%20%20%20%20%20%20%0A%20%20%20%20%0A%20%20%20%20%0A%20%20%20%20%20%20%20%20%20%20%20%20var%20circle_marker_583876da02124cca9eb39b3927c51b4d%20%3D%20L.circleMarker%28%0A%20%20%20%20%20%20%20%20%20%20%20%20%20%20%20%20%5B-22.9110137%2C%20-43.2093727%5D%2C%0A%20%20%20%20%20%20%20%20%20%20%20%20%20%20%20%20%7B%22bubblingMouseEvents%22%3A%20true%2C%20%22color%22%3A%20%22blue%22%2C%20%22dashArray%22%3A%20null%2C%20%22dashOffset%22%3A%20null%2C%20%22fill%22%3A%20true%2C%20%22fillColor%22%3A%20%22%233186cc%22%2C%20%22fillOpacity%22%3A%200.7%2C%20%22fillRule%22%3A%20%22evenodd%22%2C%20%22lineCap%22%3A%20%22round%22%2C%20%22lineJoin%22%3A%20%22round%22%2C%20%22opacity%22%3A%201.0%2C%20%22radius%22%3A%205%2C%20%22stroke%22%3A%20true%2C%20%22weight%22%3A%203%7D%0A%20%20%20%20%20%20%20%20%20%20%20%20%29.addTo%28map_d4480265d6e942259bda8771bd3b7ba5%29%3B%0A%20%20%20%20%20%20%20%20%0A%20%20%20%20%0A%20%20%20%20%20%20%20%20var%20popup_21ede9572cc84fb5a615c6509a6b9e47%20%3D%20L.popup%28%7B%22maxWidth%22%3A%20%22100%25%22%7D%29%3B%0A%0A%20%20%20%20%20%20%20%20%0A%20%20%20%20%20%20%20%20%20%20%20%20var%20html_48b940d4ef2c4d368f01c2a23332ad0c%20%3D%20%24%28%60%3Cdiv%20id%3D%22html_48b940d4ef2c4d368f01c2a23332ad0c%22%20style%3D%22width%3A%20100.0%25%3B%20height%3A%20100.0%25%3B%22%3EFlamengo%3C/div%3E%60%29%5B0%5D%3B%0A%20%20%20%20%20%20%20%20%20%20%20%20popup_21ede9572cc84fb5a615c6509a6b9e47.setContent%28html_48b940d4ef2c4d368f01c2a23332ad0c%29%3B%0A%20%20%20%20%20%20%20%20%0A%0A%20%20%20%20%20%20%20%20circle_marker_583876da02124cca9eb39b3927c51b4d.bindPopup%28popup_21ede9572cc84fb5a615c6509a6b9e47%29%0A%20%20%20%20%20%20%20%20%3B%0A%0A%20%20%20%20%20%20%20%20%0A%20%20%20%20%0A%20%20%20%20%0A%20%20%20%20%20%20%20%20%20%20%20%20var%20circle_marker_df875b68697b459abfac605ae1f2c18b%20%3D%20L.circleMarker%28%0A%20%20%20%20%20%20%20%20%20%20%20%20%20%20%20%20%5B-22.9110137%2C%20-43.2093727%5D%2C%0A%20%20%20%20%20%20%20%20%20%20%20%20%20%20%20%20%7B%22bubblingMouseEvents%22%3A%20true%2C%20%22color%22%3A%20%22blue%22%2C%20%22dashArray%22%3A%20null%2C%20%22dashOffset%22%3A%20null%2C%20%22fill%22%3A%20true%2C%20%22fillColor%22%3A%20%22%233186cc%22%2C%20%22fillOpacity%22%3A%200.7%2C%20%22fillRule%22%3A%20%22evenodd%22%2C%20%22lineCap%22%3A%20%22round%22%2C%20%22lineJoin%22%3A%20%22round%22%2C%20%22opacity%22%3A%201.0%2C%20%22radius%22%3A%205%2C%20%22stroke%22%3A%20true%2C%20%22weight%22%3A%203%7D%0A%20%20%20%20%20%20%20%20%20%20%20%20%29.addTo%28map_d4480265d6e942259bda8771bd3b7ba5%29%3B%0A%20%20%20%20%20%20%20%20%0A%20%20%20%20%0A%20%20%20%20%20%20%20%20var%20popup_9a8c73aa25c148c68e8fff4d716f0db4%20%3D%20L.popup%28%7B%22maxWidth%22%3A%20%22100%25%22%7D%29%3B%0A%0A%20%20%20%20%20%20%20%20%0A%20%20%20%20%20%20%20%20%20%20%20%20var%20html_7688d0f023f0493f8ec542d09ac230a6%20%3D%20%24%28%60%3Cdiv%20id%3D%22html_7688d0f023f0493f8ec542d09ac230a6%22%20style%3D%22width%3A%20100.0%25%3B%20height%3A%20100.0%25%3B%22%3EFluminense%3C/div%3E%60%29%5B0%5D%3B%0A%20%20%20%20%20%20%20%20%20%20%20%20popup_9a8c73aa25c148c68e8fff4d716f0db4.setContent%28html_7688d0f023f0493f8ec542d09ac230a6%29%3B%0A%20%20%20%20%20%20%20%20%0A%0A%20%20%20%20%20%20%20%20circle_marker_df875b68697b459abfac605ae1f2c18b.bindPopup%28popup_9a8c73aa25c148c68e8fff4d716f0db4%29%0A%20%20%20%20%20%20%20%20%3B%0A%0A%20%20%20%20%20%20%20%20%0A%20%20%20%20%0A%20%20%20%20%0A%20%20%20%20%20%20%20%20%20%20%20%20var%20circle_marker_dcc76888295542f8be57301c0a280c85%20%3D%20L.circleMarker%28%0A%20%20%20%20%20%20%20%20%20%20%20%20%20%20%20%20%5B-3.7304512%2C%20-38.5217989%5D%2C%0A%20%20%20%20%20%20%20%20%20%20%20%20%20%20%20%20%7B%22bubblingMouseEvents%22%3A%20true%2C%20%22color%22%3A%20%22blue%22%2C%20%22dashArray%22%3A%20null%2C%20%22dashOffset%22%3A%20null%2C%20%22fill%22%3A%20true%2C%20%22fillColor%22%3A%20%22%233186cc%22%2C%20%22fillOpacity%22%3A%200.7%2C%20%22fillRule%22%3A%20%22evenodd%22%2C%20%22lineCap%22%3A%20%22round%22%2C%20%22lineJoin%22%3A%20%22round%22%2C%20%22opacity%22%3A%201.0%2C%20%22radius%22%3A%205%2C%20%22stroke%22%3A%20true%2C%20%22weight%22%3A%203%7D%0A%20%20%20%20%20%20%20%20%20%20%20%20%29.addTo%28map_d4480265d6e942259bda8771bd3b7ba5%29%3B%0A%20%20%20%20%20%20%20%20%0A%20%20%20%20%0A%20%20%20%20%20%20%20%20var%20popup_71e4073ed47a4bfb915bd3152326e4a3%20%3D%20L.popup%28%7B%22maxWidth%22%3A%20%22100%25%22%7D%29%3B%0A%0A%20%20%20%20%20%20%20%20%0A%20%20%20%20%20%20%20%20%20%20%20%20var%20html_0b2bef778c8a42819180ce6a38d88e7f%20%3D%20%24%28%60%3Cdiv%20id%3D%22html_0b2bef778c8a42819180ce6a38d88e7f%22%20style%3D%22width%3A%20100.0%25%3B%20height%3A%20100.0%25%3B%22%3EFortaleza%3C/div%3E%60%29%5B0%5D%3B%0A%20%20%20%20%20%20%20%20%20%20%20%20popup_71e4073ed47a4bfb915bd3152326e4a3.setContent%28html_0b2bef778c8a42819180ce6a38d88e7f%29%3B%0A%20%20%20%20%20%20%20%20%0A%0A%20%20%20%20%20%20%20%20circle_marker_dcc76888295542f8be57301c0a280c85.bindPopup%28popup_71e4073ed47a4bfb915bd3152326e4a3%29%0A%20%20%20%20%20%20%20%20%3B%0A%0A%20%20%20%20%20%20%20%20%0A%20%20%20%20%0A%20%20%20%20%0A%20%20%20%20%20%20%20%20%20%20%20%20var%20circle_marker_98a7652de17e4a6cacc6f8b143d7560d%20%3D%20L.circleMarker%28%0A%20%20%20%20%20%20%20%20%20%20%20%20%20%20%20%20%5B-16.680882%2C%20-49.2532691%5D%2C%0A%20%20%20%20%20%20%20%20%20%20%20%20%20%20%20%20%7B%22bubblingMouseEvents%22%3A%20true%2C%20%22color%22%3A%20%22blue%22%2C%20%22dashArray%22%3A%20null%2C%20%22dashOffset%22%3A%20null%2C%20%22fill%22%3A%20true%2C%20%22fillColor%22%3A%20%22%233186cc%22%2C%20%22fillOpacity%22%3A%200.7%2C%20%22fillRule%22%3A%20%22evenodd%22%2C%20%22lineCap%22%3A%20%22round%22%2C%20%22lineJoin%22%3A%20%22round%22%2C%20%22opacity%22%3A%201.0%2C%20%22radius%22%3A%205%2C%20%22stroke%22%3A%20true%2C%20%22weight%22%3A%203%7D%0A%20%20%20%20%20%20%20%20%20%20%20%20%29.addTo%28map_d4480265d6e942259bda8771bd3b7ba5%29%3B%0A%20%20%20%20%20%20%20%20%0A%20%20%20%20%0A%20%20%20%20%20%20%20%20var%20popup_cba3097056bf4764b39492811c9cc162%20%3D%20L.popup%28%7B%22maxWidth%22%3A%20%22100%25%22%7D%29%3B%0A%0A%20%20%20%20%20%20%20%20%0A%20%20%20%20%20%20%20%20%20%20%20%20var%20html_83d3cbac18414803bcc8bdad1760acf9%20%3D%20%24%28%60%3Cdiv%20id%3D%22html_83d3cbac18414803bcc8bdad1760acf9%22%20style%3D%22width%3A%20100.0%25%3B%20height%3A%20100.0%25%3B%22%3EGoi%C3%A1s%3C/div%3E%60%29%5B0%5D%3B%0A%20%20%20%20%20%20%20%20%20%20%20%20popup_cba3097056bf4764b39492811c9cc162.setContent%28html_83d3cbac18414803bcc8bdad1760acf9%29%3B%0A%20%20%20%20%20%20%20%20%0A%0A%20%20%20%20%20%20%20%20circle_marker_98a7652de17e4a6cacc6f8b143d7560d.bindPopup%28popup_cba3097056bf4764b39492811c9cc162%29%0A%20%20%20%20%20%20%20%20%3B%0A%0A%20%20%20%20%20%20%20%20%0A%20%20%20%20%0A%20%20%20%20%0A%20%20%20%20%20%20%20%20%20%20%20%20var%20circle_marker_2ae87c1af5794f00866cd90dc44bbe76%20%3D%20L.circleMarker%28%0A%20%20%20%20%20%20%20%20%20%20%20%20%20%20%20%20%5B-30.0324999%2C%20-51.2303767%5D%2C%0A%20%20%20%20%20%20%20%20%20%20%20%20%20%20%20%20%7B%22bubblingMouseEvents%22%3A%20true%2C%20%22color%22%3A%20%22blue%22%2C%20%22dashArray%22%3A%20null%2C%20%22dashOffset%22%3A%20null%2C%20%22fill%22%3A%20true%2C%20%22fillColor%22%3A%20%22%233186cc%22%2C%20%22fillOpacity%22%3A%200.7%2C%20%22fillRule%22%3A%20%22evenodd%22%2C%20%22lineCap%22%3A%20%22round%22%2C%20%22lineJoin%22%3A%20%22round%22%2C%20%22opacity%22%3A%201.0%2C%20%22radius%22%3A%205%2C%20%22stroke%22%3A%20true%2C%20%22weight%22%3A%203%7D%0A%20%20%20%20%20%20%20%20%20%20%20%20%29.addTo%28map_d4480265d6e942259bda8771bd3b7ba5%29%3B%0A%20%20%20%20%20%20%20%20%0A%20%20%20%20%0A%20%20%20%20%20%20%20%20var%20popup_35e09bb49cb145488b2cea8dff37fdda%20%3D%20L.popup%28%7B%22maxWidth%22%3A%20%22100%25%22%7D%29%3B%0A%0A%20%20%20%20%20%20%20%20%0A%20%20%20%20%20%20%20%20%20%20%20%20var%20html_25e79da183ae4f11a914eb002f0be863%20%3D%20%24%28%60%3Cdiv%20id%3D%22html_25e79da183ae4f11a914eb002f0be863%22%20style%3D%22width%3A%20100.0%25%3B%20height%3A%20100.0%25%3B%22%3EGr%C3%AAmio%3C/div%3E%60%29%5B0%5D%3B%0A%20%20%20%20%20%20%20%20%20%20%20%20popup_35e09bb49cb145488b2cea8dff37fdda.setContent%28html_25e79da183ae4f11a914eb002f0be863%29%3B%0A%20%20%20%20%20%20%20%20%0A%0A%20%20%20%20%20%20%20%20circle_marker_2ae87c1af5794f00866cd90dc44bbe76.bindPopup%28popup_35e09bb49cb145488b2cea8dff37fdda%29%0A%20%20%20%20%20%20%20%20%3B%0A%0A%20%20%20%20%20%20%20%20%0A%20%20%20%20%0A%20%20%20%20%0A%20%20%20%20%20%20%20%20%20%20%20%20var%20circle_marker_2d195bd32255497cacbe37f64f83595e%20%3D%20L.circleMarker%28%0A%20%20%20%20%20%20%20%20%20%20%20%20%20%20%20%20%5B-30.0324999%2C%20-51.2303767%5D%2C%0A%20%20%20%20%20%20%20%20%20%20%20%20%20%20%20%20%7B%22bubblingMouseEvents%22%3A%20true%2C%20%22color%22%3A%20%22blue%22%2C%20%22dashArray%22%3A%20null%2C%20%22dashOffset%22%3A%20null%2C%20%22fill%22%3A%20true%2C%20%22fillColor%22%3A%20%22%233186cc%22%2C%20%22fillOpacity%22%3A%200.7%2C%20%22fillRule%22%3A%20%22evenodd%22%2C%20%22lineCap%22%3A%20%22round%22%2C%20%22lineJoin%22%3A%20%22round%22%2C%20%22opacity%22%3A%201.0%2C%20%22radius%22%3A%205%2C%20%22stroke%22%3A%20true%2C%20%22weight%22%3A%203%7D%0A%20%20%20%20%20%20%20%20%20%20%20%20%29.addTo%28map_d4480265d6e942259bda8771bd3b7ba5%29%3B%0A%20%20%20%20%20%20%20%20%0A%20%20%20%20%0A%20%20%20%20%20%20%20%20var%20popup_69db3fc268a04e5fab7e48bcfab0c0ab%20%3D%20L.popup%28%7B%22maxWidth%22%3A%20%22100%25%22%7D%29%3B%0A%0A%20%20%20%20%20%20%20%20%0A%20%20%20%20%20%20%20%20%20%20%20%20var%20html_ca203cb3f02f4093b78e72b99c397659%20%3D%20%24%28%60%3Cdiv%20id%3D%22html_ca203cb3f02f4093b78e72b99c397659%22%20style%3D%22width%3A%20100.0%25%3B%20height%3A%20100.0%25%3B%22%3EInternacional%3C/div%3E%60%29%5B0%5D%3B%0A%20%20%20%20%20%20%20%20%20%20%20%20popup_69db3fc268a04e5fab7e48bcfab0c0ab.setContent%28html_ca203cb3f02f4093b78e72b99c397659%29%3B%0A%20%20%20%20%20%20%20%20%0A%0A%20%20%20%20%20%20%20%20circle_marker_2d195bd32255497cacbe37f64f83595e.bindPopup%28popup_69db3fc268a04e5fab7e48bcfab0c0ab%29%0A%20%20%20%20%20%20%20%20%3B%0A%0A%20%20%20%20%20%20%20%20%0A%20%20%20%20%0A%20%20%20%20%0A%20%20%20%20%20%20%20%20%20%20%20%20var%20circle_marker_45c7eb9e284a44928bd2f5cd74607657%20%3D%20L.circleMarker%28%0A%20%20%20%20%20%20%20%20%20%20%20%20%20%20%20%20%5B-23.5506507%2C%20-46.6333824%5D%2C%0A%20%20%20%20%20%20%20%20%20%20%20%20%20%20%20%20%7B%22bubblingMouseEvents%22%3A%20true%2C%20%22color%22%3A%20%22blue%22%2C%20%22dashArray%22%3A%20null%2C%20%22dashOffset%22%3A%20null%2C%20%22fill%22%3A%20true%2C%20%22fillColor%22%3A%20%22%233186cc%22%2C%20%22fillOpacity%22%3A%200.7%2C%20%22fillRule%22%3A%20%22evenodd%22%2C%20%22lineCap%22%3A%20%22round%22%2C%20%22lineJoin%22%3A%20%22round%22%2C%20%22opacity%22%3A%201.0%2C%20%22radius%22%3A%205%2C%20%22stroke%22%3A%20true%2C%20%22weight%22%3A%203%7D%0A%20%20%20%20%20%20%20%20%20%20%20%20%29.addTo%28map_d4480265d6e942259bda8771bd3b7ba5%29%3B%0A%20%20%20%20%20%20%20%20%0A%20%20%20%20%0A%20%20%20%20%20%20%20%20var%20popup_7ef15836d713488fb3867f4f0e220be5%20%3D%20L.popup%28%7B%22maxWidth%22%3A%20%22100%25%22%7D%29%3B%0A%0A%20%20%20%20%20%20%20%20%0A%20%20%20%20%20%20%20%20%20%20%20%20var%20html_4f0c31a8fcc04edda67d61b5ae831b9a%20%3D%20%24%28%60%3Cdiv%20id%3D%22html_4f0c31a8fcc04edda67d61b5ae831b9a%22%20style%3D%22width%3A%20100.0%25%3B%20height%3A%20100.0%25%3B%22%3EPalmeiras%3C/div%3E%60%29%5B0%5D%3B%0A%20%20%20%20%20%20%20%20%20%20%20%20popup_7ef15836d713488fb3867f4f0e220be5.setContent%28html_4f0c31a8fcc04edda67d61b5ae831b9a%29%3B%0A%20%20%20%20%20%20%20%20%0A%0A%20%20%20%20%20%20%20%20circle_marker_45c7eb9e284a44928bd2f5cd74607657.bindPopup%28popup_7ef15836d713488fb3867f4f0e220be5%29%0A%20%20%20%20%20%20%20%20%3B%0A%0A%20%20%20%20%20%20%20%20%0A%20%20%20%20%0A%20%20%20%20%0A%20%20%20%20%20%20%20%20%20%20%20%20var%20circle_marker_5374a35fb5a742bbb2d9485e29a2ca03%20%3D%20L.circleMarker%28%0A%20%20%20%20%20%20%20%20%20%20%20%20%20%20%20%20%5B-22.9520235%2C%20-46.5418586%5D%2C%0A%20%20%20%20%20%20%20%20%20%20%20%20%20%20%20%20%7B%22bubblingMouseEvents%22%3A%20true%2C%20%22color%22%3A%20%22blue%22%2C%20%22dashArray%22%3A%20null%2C%20%22dashOffset%22%3A%20null%2C%20%22fill%22%3A%20true%2C%20%22fillColor%22%3A%20%22%233186cc%22%2C%20%22fillOpacity%22%3A%200.7%2C%20%22fillRule%22%3A%20%22evenodd%22%2C%20%22lineCap%22%3A%20%22round%22%2C%20%22lineJoin%22%3A%20%22round%22%2C%20%22opacity%22%3A%201.0%2C%20%22radius%22%3A%205%2C%20%22stroke%22%3A%20true%2C%20%22weight%22%3A%203%7D%0A%20%20%20%20%20%20%20%20%20%20%20%20%29.addTo%28map_d4480265d6e942259bda8771bd3b7ba5%29%3B%0A%20%20%20%20%20%20%20%20%0A%20%20%20%20%0A%20%20%20%20%20%20%20%20var%20popup_6cb93e18fcb64271ad08a61fd8451f42%20%3D%20L.popup%28%7B%22maxWidth%22%3A%20%22100%25%22%7D%29%3B%0A%0A%20%20%20%20%20%20%20%20%0A%20%20%20%20%20%20%20%20%20%20%20%20var%20html_4d6d19c6194a4eb6a5609d5555c0bf9f%20%3D%20%24%28%60%3Cdiv%20id%3D%22html_4d6d19c6194a4eb6a5609d5555c0bf9f%22%20style%3D%22width%3A%20100.0%25%3B%20height%3A%20100.0%25%3B%22%3ERed%20Bull%20Bragantino%3C/div%3E%60%29%5B0%5D%3B%0A%20%20%20%20%20%20%20%20%20%20%20%20popup_6cb93e18fcb64271ad08a61fd8451f42.setContent%28html_4d6d19c6194a4eb6a5609d5555c0bf9f%29%3B%0A%20%20%20%20%20%20%20%20%0A%0A%20%20%20%20%20%20%20%20circle_marker_5374a35fb5a742bbb2d9485e29a2ca03.bindPopup%28popup_6cb93e18fcb64271ad08a61fd8451f42%29%0A%20%20%20%20%20%20%20%20%3B%0A%0A%20%20%20%20%20%20%20%20%0A%20%20%20%20%0A%20%20%20%20%0A%20%20%20%20%20%20%20%20%20%20%20%20var%20circle_marker_b43d50105d2e4889974e177742c87f1d%20%3D%20L.circleMarker%28%0A%20%20%20%20%20%20%20%20%20%20%20%20%20%20%20%20%5B-23.960833%2C%20-46.333889%5D%2C%0A%20%20%20%20%20%20%20%20%20%20%20%20%20%20%20%20%7B%22bubblingMouseEvents%22%3A%20true%2C%20%22color%22%3A%20%22blue%22%2C%20%22dashArray%22%3A%20null%2C%20%22dashOffset%22%3A%20null%2C%20%22fill%22%3A%20true%2C%20%22fillColor%22%3A%20%22%233186cc%22%2C%20%22fillOpacity%22%3A%200.7%2C%20%22fillRule%22%3A%20%22evenodd%22%2C%20%22lineCap%22%3A%20%22round%22%2C%20%22lineJoin%22%3A%20%22round%22%2C%20%22opacity%22%3A%201.0%2C%20%22radius%22%3A%205%2C%20%22stroke%22%3A%20true%2C%20%22weight%22%3A%203%7D%0A%20%20%20%20%20%20%20%20%20%20%20%20%29.addTo%28map_d4480265d6e942259bda8771bd3b7ba5%29%3B%0A%20%20%20%20%20%20%20%20%0A%20%20%20%20%0A%20%20%20%20%20%20%20%20var%20popup_3d8c005a1bda479d81560b32186d78de%20%3D%20L.popup%28%7B%22maxWidth%22%3A%20%22100%25%22%7D%29%3B%0A%0A%20%20%20%20%20%20%20%20%0A%20%20%20%20%20%20%20%20%20%20%20%20var%20html_bf2c32af51f64ce196a856c708cd2a32%20%3D%20%24%28%60%3Cdiv%20id%3D%22html_bf2c32af51f64ce196a856c708cd2a32%22%20style%3D%22width%3A%20100.0%25%3B%20height%3A%20100.0%25%3B%22%3ESantos%3C/div%3E%60%29%5B0%5D%3B%0A%20%20%20%20%20%20%20%20%20%20%20%20popup_3d8c005a1bda479d81560b32186d78de.setContent%28html_bf2c32af51f64ce196a856c708cd2a32%29%3B%0A%20%20%20%20%20%20%20%20%0A%0A%20%20%20%20%20%20%20%20circle_marker_b43d50105d2e4889974e177742c87f1d.bindPopup%28popup_3d8c005a1bda479d81560b32186d78de%29%0A%20%20%20%20%20%20%20%20%3B%0A%0A%20%20%20%20%20%20%20%20%0A%20%20%20%20%0A%20%20%20%20%0A%20%20%20%20%20%20%20%20%20%20%20%20var%20circle_marker_544fd538711c4fde84e3bceca0afacbd%20%3D%20L.circleMarker%28%0A%20%20%20%20%20%20%20%20%20%20%20%20%20%20%20%20%5B-23.5506507%2C%20-46.6333824%5D%2C%0A%20%20%20%20%20%20%20%20%20%20%20%20%20%20%20%20%7B%22bubblingMouseEvents%22%3A%20true%2C%20%22color%22%3A%20%22blue%22%2C%20%22dashArray%22%3A%20null%2C%20%22dashOffset%22%3A%20null%2C%20%22fill%22%3A%20true%2C%20%22fillColor%22%3A%20%22%233186cc%22%2C%20%22fillOpacity%22%3A%200.7%2C%20%22fillRule%22%3A%20%22evenodd%22%2C%20%22lineCap%22%3A%20%22round%22%2C%20%22lineJoin%22%3A%20%22round%22%2C%20%22opacity%22%3A%201.0%2C%20%22radius%22%3A%205%2C%20%22stroke%22%3A%20true%2C%20%22weight%22%3A%203%7D%0A%20%20%20%20%20%20%20%20%20%20%20%20%29.addTo%28map_d4480265d6e942259bda8771bd3b7ba5%29%3B%0A%20%20%20%20%20%20%20%20%0A%20%20%20%20%0A%20%20%20%20%20%20%20%20var%20popup_ae5c1a38bec9403da6c70f7716237608%20%3D%20L.popup%28%7B%22maxWidth%22%3A%20%22100%25%22%7D%29%3B%0A%0A%20%20%20%20%20%20%20%20%0A%20%20%20%20%20%20%20%20%20%20%20%20var%20html_73373b41c052451580b00e24128bc115%20%3D%20%24%28%60%3Cdiv%20id%3D%22html_73373b41c052451580b00e24128bc115%22%20style%3D%22width%3A%20100.0%25%3B%20height%3A%20100.0%25%3B%22%3ES%C3%A3o%20Paulo%3C/div%3E%60%29%5B0%5D%3B%0A%20%20%20%20%20%20%20%20%20%20%20%20popup_ae5c1a38bec9403da6c70f7716237608.setContent%28html_73373b41c052451580b00e24128bc115%29%3B%0A%20%20%20%20%20%20%20%20%0A%0A%20%20%20%20%20%20%20%20circle_marker_544fd538711c4fde84e3bceca0afacbd.bindPopup%28popup_ae5c1a38bec9403da6c70f7716237608%29%0A%20%20%20%20%20%20%20%20%3B%0A%0A%20%20%20%20%20%20%20%20%0A%20%20%20%20%0A%20%20%20%20%0A%20%20%20%20%20%20%20%20%20%20%20%20var%20circle_marker_5734801ac5a94c4cbf7a9c3f2b1d5f09%20%3D%20L.circleMarker%28%0A%20%20%20%20%20%20%20%20%20%20%20%20%20%20%20%20%5B-8.0584933%2C%20-34.8848193%5D%2C%0A%20%20%20%20%20%20%20%20%20%20%20%20%20%20%20%20%7B%22bubblingMouseEvents%22%3A%20true%2C%20%22color%22%3A%20%22blue%22%2C%20%22dashArray%22%3A%20null%2C%20%22dashOffset%22%3A%20null%2C%20%22fill%22%3A%20true%2C%20%22fillColor%22%3A%20%22%233186cc%22%2C%20%22fillOpacity%22%3A%200.7%2C%20%22fillRule%22%3A%20%22evenodd%22%2C%20%22lineCap%22%3A%20%22round%22%2C%20%22lineJoin%22%3A%20%22round%22%2C%20%22opacity%22%3A%201.0%2C%20%22radius%22%3A%205%2C%20%22stroke%22%3A%20true%2C%20%22weight%22%3A%203%7D%0A%20%20%20%20%20%20%20%20%20%20%20%20%29.addTo%28map_d4480265d6e942259bda8771bd3b7ba5%29%3B%0A%20%20%20%20%20%20%20%20%0A%20%20%20%20%0A%20%20%20%20%20%20%20%20var%20popup_d29d9e7779e34ce38aab84267999909f%20%3D%20L.popup%28%7B%22maxWidth%22%3A%20%22100%25%22%7D%29%3B%0A%0A%20%20%20%20%20%20%20%20%0A%20%20%20%20%20%20%20%20%20%20%20%20var%20html_78f00e549d8f4575b07eba4f4a4db5ce%20%3D%20%24%28%60%3Cdiv%20id%3D%22html_78f00e549d8f4575b07eba4f4a4db5ce%22%20style%3D%22width%3A%20100.0%25%3B%20height%3A%20100.0%25%3B%22%3ESport%3C/div%3E%60%29%5B0%5D%3B%0A%20%20%20%20%20%20%20%20%20%20%20%20popup_d29d9e7779e34ce38aab84267999909f.setContent%28html_78f00e549d8f4575b07eba4f4a4db5ce%29%3B%0A%20%20%20%20%20%20%20%20%0A%0A%20%20%20%20%20%20%20%20circle_marker_5734801ac5a94c4cbf7a9c3f2b1d5f09.bindPopup%28popup_d29d9e7779e34ce38aab84267999909f%29%0A%20%20%20%20%20%20%20%20%3B%0A%0A%20%20%20%20%20%20%20%20%0A%20%20%20%20%0A%20%20%20%20%0A%20%20%20%20%20%20%20%20%20%20%20%20var%20circle_marker_8c9d1036f8cd4c2d8a5902fb41400942%20%3D%20L.circleMarker%28%0A%20%20%20%20%20%20%20%20%20%20%20%20%20%20%20%20%5B-22.9110137%2C%20-43.2093727%5D%2C%0A%20%20%20%20%20%20%20%20%20%20%20%20%20%20%20%20%7B%22bubblingMouseEvents%22%3A%20true%2C%20%22color%22%3A%20%22blue%22%2C%20%22dashArray%22%3A%20null%2C%20%22dashOffset%22%3A%20null%2C%20%22fill%22%3A%20true%2C%20%22fillColor%22%3A%20%22%233186cc%22%2C%20%22fillOpacity%22%3A%200.7%2C%20%22fillRule%22%3A%20%22evenodd%22%2C%20%22lineCap%22%3A%20%22round%22%2C%20%22lineJoin%22%3A%20%22round%22%2C%20%22opacity%22%3A%201.0%2C%20%22radius%22%3A%205%2C%20%22stroke%22%3A%20true%2C%20%22weight%22%3A%203%7D%0A%20%20%20%20%20%20%20%20%20%20%20%20%29.addTo%28map_d4480265d6e942259bda8771bd3b7ba5%29%3B%0A%20%20%20%20%20%20%20%20%0A%20%20%20%20%0A%20%20%20%20%20%20%20%20var%20popup_9092658799f04d4d9e118f4f04a1a21e%20%3D%20L.popup%28%7B%22maxWidth%22%3A%20%22100%25%22%7D%29%3B%0A%0A%20%20%20%20%20%20%20%20%0A%20%20%20%20%20%20%20%20%20%20%20%20var%20html_bee2e0df072149e58c867bf45d5e7f48%20%3D%20%24%28%60%3Cdiv%20id%3D%22html_bee2e0df072149e58c867bf45d5e7f48%22%20style%3D%22width%3A%20100.0%25%3B%20height%3A%20100.0%25%3B%22%3EVasco%20da%20Gama%3C/div%3E%60%29%5B0%5D%3B%0A%20%20%20%20%20%20%20%20%20%20%20%20popup_9092658799f04d4d9e118f4f04a1a21e.setContent%28html_bee2e0df072149e58c867bf45d5e7f48%29%3B%0A%20%20%20%20%20%20%20%20%0A%0A%20%20%20%20%20%20%20%20circle_marker_8c9d1036f8cd4c2d8a5902fb41400942.bindPopup%28popup_9092658799f04d4d9e118f4f04a1a21e%29%0A%20%20%20%20%20%20%20%20%3B%0A%0A%20%20%20%20%20%20%20%20%0A%20%20%20%20%0A%3C/script%3E onload=\"this.contentDocument.open();this.contentDocument.write(    decodeURIComponent(this.getAttribute('data-html')));this.contentDocument.close();\" allowfullscreen webkitallowfullscreen mozallowfullscreen></iframe></div></div>"
      ],
      "text/plain": [
       "<folium.folium.Map at 0x7f0c4ef64460>"
      ]
     },
     "execution_count": 15,
     "metadata": {},
     "output_type": "execute_result"
    }
   ],
   "source": [
    "#map centered at Brasília\n",
    "map_brasil = folium.Map(location=[-10.3333333, -53.2], zoom_start=4)\n",
    "\n",
    "# add markers to map\n",
    "for lat, lng, time in zip(list_teams_20['Latitude'], list_teams_20['Longitude'], list_teams_20['Team']):\n",
    "    label = '{}'.format(time)\n",
    "    label = folium.Popup(label, parse_html=True)\n",
    "    folium.CircleMarker(\n",
    "        [lat, lng],\n",
    "        radius=5,\n",
    "        popup=label,\n",
    "        color='blue',\n",
    "        fill=True,\n",
    "        fill_color='#3186cc',\n",
    "        fill_opacity=0.7,\n",
    "        parse_html=False).add_to(map_brasil)  \n",
    "    \n",
    "map_brasil"
   ]
  },
  {
   "cell_type": "markdown",
   "metadata": {
    "id": "8iIAsICDdmvf"
   },
   "source": [
    "We have 20 teams spreading over 11 cities, in 9 states. Now, we can create the table with the distances between each team. Again, we are defining a function to do the math."
   ]
  },
  {
   "cell_type": "markdown",
   "metadata": {
    "id": "cRNuHHyCdmvg"
   },
   "source": [
    "Let's create an empty matrix."
   ]
  },
  {
   "cell_type": "code",
   "execution_count": 16,
   "metadata": {
    "colab": {
     "base_uri": "https://localhost:8080/",
     "height": 292
    },
    "id": "yUbltxZZdmvg",
    "outputId": "248c89a3-9f97-4030-a90a-506aa9b4e632"
   },
   "outputs": [
    {
     "data": {
      "text/html": [
       "<div>\n",
       "<style scoped>\n",
       "    .dataframe tbody tr th:only-of-type {\n",
       "        vertical-align: middle;\n",
       "    }\n",
       "\n",
       "    .dataframe tbody tr th {\n",
       "        vertical-align: top;\n",
       "    }\n",
       "\n",
       "    .dataframe thead th {\n",
       "        text-align: right;\n",
       "    }\n",
       "</style>\n",
       "<table border=\"1\" class=\"dataframe\">\n",
       "  <thead>\n",
       "    <tr style=\"text-align: right;\">\n",
       "      <th></th>\n",
       "      <th>Team</th>\n",
       "      <th>Atlético Goianiense</th>\n",
       "      <th>Atlético Mineiro</th>\n",
       "      <th>Athletico Paranaense</th>\n",
       "      <th>Bahia</th>\n",
       "      <th>Botafogo</th>\n",
       "      <th>Ceará</th>\n",
       "      <th>Corinthians</th>\n",
       "      <th>Coritiba</th>\n",
       "      <th>Flamengo</th>\n",
       "      <th>...</th>\n",
       "      <th>Fortaleza</th>\n",
       "      <th>Goiás</th>\n",
       "      <th>Grêmio</th>\n",
       "      <th>Internacional</th>\n",
       "      <th>Palmeiras</th>\n",
       "      <th>Red Bull Bragantino</th>\n",
       "      <th>Santos</th>\n",
       "      <th>São Paulo</th>\n",
       "      <th>Sport</th>\n",
       "      <th>Vasco da Gama</th>\n",
       "    </tr>\n",
       "  </thead>\n",
       "  <tbody>\n",
       "    <tr>\n",
       "      <th>0</th>\n",
       "      <td>Atlético Goianiense</td>\n",
       "      <td>NaN</td>\n",
       "      <td>NaN</td>\n",
       "      <td>NaN</td>\n",
       "      <td>NaN</td>\n",
       "      <td>NaN</td>\n",
       "      <td>NaN</td>\n",
       "      <td>NaN</td>\n",
       "      <td>NaN</td>\n",
       "      <td>NaN</td>\n",
       "      <td>...</td>\n",
       "      <td>NaN</td>\n",
       "      <td>NaN</td>\n",
       "      <td>NaN</td>\n",
       "      <td>NaN</td>\n",
       "      <td>NaN</td>\n",
       "      <td>NaN</td>\n",
       "      <td>NaN</td>\n",
       "      <td>NaN</td>\n",
       "      <td>NaN</td>\n",
       "      <td>NaN</td>\n",
       "    </tr>\n",
       "    <tr>\n",
       "      <th>1</th>\n",
       "      <td>Atlético Mineiro</td>\n",
       "      <td>NaN</td>\n",
       "      <td>NaN</td>\n",
       "      <td>NaN</td>\n",
       "      <td>NaN</td>\n",
       "      <td>NaN</td>\n",
       "      <td>NaN</td>\n",
       "      <td>NaN</td>\n",
       "      <td>NaN</td>\n",
       "      <td>NaN</td>\n",
       "      <td>...</td>\n",
       "      <td>NaN</td>\n",
       "      <td>NaN</td>\n",
       "      <td>NaN</td>\n",
       "      <td>NaN</td>\n",
       "      <td>NaN</td>\n",
       "      <td>NaN</td>\n",
       "      <td>NaN</td>\n",
       "      <td>NaN</td>\n",
       "      <td>NaN</td>\n",
       "      <td>NaN</td>\n",
       "    </tr>\n",
       "    <tr>\n",
       "      <th>2</th>\n",
       "      <td>Athletico Paranaense</td>\n",
       "      <td>NaN</td>\n",
       "      <td>NaN</td>\n",
       "      <td>NaN</td>\n",
       "      <td>NaN</td>\n",
       "      <td>NaN</td>\n",
       "      <td>NaN</td>\n",
       "      <td>NaN</td>\n",
       "      <td>NaN</td>\n",
       "      <td>NaN</td>\n",
       "      <td>...</td>\n",
       "      <td>NaN</td>\n",
       "      <td>NaN</td>\n",
       "      <td>NaN</td>\n",
       "      <td>NaN</td>\n",
       "      <td>NaN</td>\n",
       "      <td>NaN</td>\n",
       "      <td>NaN</td>\n",
       "      <td>NaN</td>\n",
       "      <td>NaN</td>\n",
       "      <td>NaN</td>\n",
       "    </tr>\n",
       "    <tr>\n",
       "      <th>3</th>\n",
       "      <td>Bahia</td>\n",
       "      <td>NaN</td>\n",
       "      <td>NaN</td>\n",
       "      <td>NaN</td>\n",
       "      <td>NaN</td>\n",
       "      <td>NaN</td>\n",
       "      <td>NaN</td>\n",
       "      <td>NaN</td>\n",
       "      <td>NaN</td>\n",
       "      <td>NaN</td>\n",
       "      <td>...</td>\n",
       "      <td>NaN</td>\n",
       "      <td>NaN</td>\n",
       "      <td>NaN</td>\n",
       "      <td>NaN</td>\n",
       "      <td>NaN</td>\n",
       "      <td>NaN</td>\n",
       "      <td>NaN</td>\n",
       "      <td>NaN</td>\n",
       "      <td>NaN</td>\n",
       "      <td>NaN</td>\n",
       "    </tr>\n",
       "    <tr>\n",
       "      <th>4</th>\n",
       "      <td>Botafogo</td>\n",
       "      <td>NaN</td>\n",
       "      <td>NaN</td>\n",
       "      <td>NaN</td>\n",
       "      <td>NaN</td>\n",
       "      <td>NaN</td>\n",
       "      <td>NaN</td>\n",
       "      <td>NaN</td>\n",
       "      <td>NaN</td>\n",
       "      <td>NaN</td>\n",
       "      <td>...</td>\n",
       "      <td>NaN</td>\n",
       "      <td>NaN</td>\n",
       "      <td>NaN</td>\n",
       "      <td>NaN</td>\n",
       "      <td>NaN</td>\n",
       "      <td>NaN</td>\n",
       "      <td>NaN</td>\n",
       "      <td>NaN</td>\n",
       "      <td>NaN</td>\n",
       "      <td>NaN</td>\n",
       "    </tr>\n",
       "  </tbody>\n",
       "</table>\n",
       "<p>5 rows × 21 columns</p>\n",
       "</div>"
      ],
      "text/plain": [
       "                   Team Atlético Goianiense Atlético Mineiro  \\\n",
       "0   Atlético Goianiense                 NaN              NaN   \n",
       "1      Atlético Mineiro                 NaN              NaN   \n",
       "2  Athletico Paranaense                 NaN              NaN   \n",
       "3                 Bahia                 NaN              NaN   \n",
       "4              Botafogo                 NaN              NaN   \n",
       "\n",
       "  Athletico Paranaense Bahia Botafogo Ceará Corinthians Coritiba Flamengo  \\\n",
       "0                  NaN   NaN      NaN   NaN         NaN      NaN      NaN   \n",
       "1                  NaN   NaN      NaN   NaN         NaN      NaN      NaN   \n",
       "2                  NaN   NaN      NaN   NaN         NaN      NaN      NaN   \n",
       "3                  NaN   NaN      NaN   NaN         NaN      NaN      NaN   \n",
       "4                  NaN   NaN      NaN   NaN         NaN      NaN      NaN   \n",
       "\n",
       "   ... Fortaleza Goiás Grêmio Internacional Palmeiras Red Bull Bragantino  \\\n",
       "0  ...       NaN   NaN    NaN           NaN       NaN                 NaN   \n",
       "1  ...       NaN   NaN    NaN           NaN       NaN                 NaN   \n",
       "2  ...       NaN   NaN    NaN           NaN       NaN                 NaN   \n",
       "3  ...       NaN   NaN    NaN           NaN       NaN                 NaN   \n",
       "4  ...       NaN   NaN    NaN           NaN       NaN                 NaN   \n",
       "\n",
       "  Santos São Paulo Sport Vasco da Gama  \n",
       "0    NaN       NaN   NaN           NaN  \n",
       "1    NaN       NaN   NaN           NaN  \n",
       "2    NaN       NaN   NaN           NaN  \n",
       "3    NaN       NaN   NaN           NaN  \n",
       "4    NaN       NaN   NaN           NaN  \n",
       "\n",
       "[5 rows x 21 columns]"
      ]
     },
     "execution_count": 16,
     "metadata": {},
     "output_type": "execute_result"
    }
   ],
   "source": [
    "distances = pd.DataFrame(columns=['Team']+list_teams_20['Team'].tolist())\n",
    "distances['Team'] = list_teams_20['Team'].tolist()\n",
    "distances.head()"
   ]
  },
  {
   "cell_type": "markdown",
   "metadata": {
    "id": "9W7jC2HPdmvg"
   },
   "source": [
    "Loading the library that calculates the distance from the coordinates."
   ]
  },
  {
   "cell_type": "code",
   "execution_count": 17,
   "metadata": {
    "colab": {
     "base_uri": "https://localhost:8080/"
    },
    "id": "hke2bihldmvh",
    "outputId": "8ddce5ad-635d-4eec-8410-d2aba4507a95"
   },
   "outputs": [
    {
     "name": "stdout",
     "output_type": "stream",
     "text": [
      "Requirement already satisfied: haversine in /home/rodrigolink/anaconda3/lib/python3.8/site-packages (2.3.1)\n"
     ]
    }
   ],
   "source": [
    "!pip install haversine\n",
    "import haversine as hs\n"
   ]
  },
  {
   "cell_type": "code",
   "execution_count": 18,
   "metadata": {
    "colab": {
     "base_uri": "https://localhost:8080/",
     "height": 292
    },
    "id": "pwkUQ82Ndmvh",
    "outputId": "0213d1cd-0cbe-4560-a992-085102afb8a1"
   },
   "outputs": [
    {
     "data": {
      "text/html": [
       "<div>\n",
       "<style scoped>\n",
       "    .dataframe tbody tr th:only-of-type {\n",
       "        vertical-align: middle;\n",
       "    }\n",
       "\n",
       "    .dataframe tbody tr th {\n",
       "        vertical-align: top;\n",
       "    }\n",
       "\n",
       "    .dataframe thead th {\n",
       "        text-align: right;\n",
       "    }\n",
       "</style>\n",
       "<table border=\"1\" class=\"dataframe\">\n",
       "  <thead>\n",
       "    <tr style=\"text-align: right;\">\n",
       "      <th></th>\n",
       "      <th>Team</th>\n",
       "      <th>Atlético Goianiense</th>\n",
       "      <th>Atlético Mineiro</th>\n",
       "      <th>Athletico Paranaense</th>\n",
       "      <th>Bahia</th>\n",
       "      <th>Botafogo</th>\n",
       "      <th>Ceará</th>\n",
       "      <th>Corinthians</th>\n",
       "      <th>Coritiba</th>\n",
       "      <th>Flamengo</th>\n",
       "      <th>...</th>\n",
       "      <th>Fortaleza</th>\n",
       "      <th>Goiás</th>\n",
       "      <th>Grêmio</th>\n",
       "      <th>Internacional</th>\n",
       "      <th>Palmeiras</th>\n",
       "      <th>Red Bull Bragantino</th>\n",
       "      <th>Santos</th>\n",
       "      <th>São Paulo</th>\n",
       "      <th>Sport</th>\n",
       "      <th>Vasco da Gama</th>\n",
       "    </tr>\n",
       "  </thead>\n",
       "  <tbody>\n",
       "    <tr>\n",
       "      <th>0</th>\n",
       "      <td>Atlético Goianiense</td>\n",
       "      <td>0</td>\n",
       "      <td>666.215</td>\n",
       "      <td>972.816</td>\n",
       "      <td>1228.42</td>\n",
       "      <td>937.644</td>\n",
       "      <td>1856.43</td>\n",
       "      <td>811.308</td>\n",
       "      <td>972.816</td>\n",
       "      <td>937.644</td>\n",
       "      <td>...</td>\n",
       "      <td>1856.43</td>\n",
       "      <td>0</td>\n",
       "      <td>1498.19</td>\n",
       "      <td>1498.19</td>\n",
       "      <td>811.308</td>\n",
       "      <td>752.725</td>\n",
       "      <td>864.739</td>\n",
       "      <td>811.308</td>\n",
       "      <td>1830</td>\n",
       "      <td>937.644</td>\n",
       "    </tr>\n",
       "    <tr>\n",
       "      <th>1</th>\n",
       "      <td>Atlético Mineiro</td>\n",
       "      <td>666.215</td>\n",
       "      <td>0</td>\n",
       "      <td>820.485</td>\n",
       "      <td>966.725</td>\n",
       "      <td>340.896</td>\n",
       "      <td>1894.08</td>\n",
       "      <td>489.691</td>\n",
       "      <td>820.485</td>\n",
       "      <td>340.896</td>\n",
       "      <td>...</td>\n",
       "      <td>1894.08</td>\n",
       "      <td>666.215</td>\n",
       "      <td>1341.83</td>\n",
       "      <td>1341.83</td>\n",
       "      <td>489.691</td>\n",
       "      <td>430.9</td>\n",
       "      <td>512.134</td>\n",
       "      <td>489.691</td>\n",
       "      <td>1640.7</td>\n",
       "      <td>340.896</td>\n",
       "    </tr>\n",
       "    <tr>\n",
       "      <th>2</th>\n",
       "      <td>Athletico Paranaense</td>\n",
       "      <td>972.816</td>\n",
       "      <td>820.485</td>\n",
       "      <td>0</td>\n",
       "      <td>1786.64</td>\n",
       "      <td>675.611</td>\n",
       "      <td>2672.15</td>\n",
       "      <td>338.956</td>\n",
       "      <td>0</td>\n",
       "      <td>675.611</td>\n",
       "      <td>...</td>\n",
       "      <td>2672.15</td>\n",
       "      <td>972.816</td>\n",
       "      <td>546.903</td>\n",
       "      <td>546.903</td>\n",
       "      <td>338.956</td>\n",
       "      <td>390.537</td>\n",
       "      <td>338.708</td>\n",
       "      <td>338.956</td>\n",
       "      <td>2460.42</td>\n",
       "      <td>675.611</td>\n",
       "    </tr>\n",
       "    <tr>\n",
       "      <th>3</th>\n",
       "      <td>Bahia</td>\n",
       "      <td>1228.42</td>\n",
       "      <td>966.725</td>\n",
       "      <td>1786.64</td>\n",
       "      <td>0</td>\n",
       "      <td>1211.69</td>\n",
       "      <td>1028.76</td>\n",
       "      <td>1455.69</td>\n",
       "      <td>1786.64</td>\n",
       "      <td>1211.69</td>\n",
       "      <td>...</td>\n",
       "      <td>1028.76</td>\n",
       "      <td>1228.42</td>\n",
       "      <td>2305.24</td>\n",
       "      <td>2305.24</td>\n",
       "      <td>1455.69</td>\n",
       "      <td>1397.62</td>\n",
       "      <td>1474.19</td>\n",
       "      <td>1455.69</td>\n",
       "      <td>673.975</td>\n",
       "      <td>1211.69</td>\n",
       "    </tr>\n",
       "    <tr>\n",
       "      <th>4</th>\n",
       "      <td>Botafogo</td>\n",
       "      <td>937.644</td>\n",
       "      <td>340.896</td>\n",
       "      <td>675.611</td>\n",
       "      <td>1211.69</td>\n",
       "      <td>0</td>\n",
       "      <td>2191.62</td>\n",
       "      <td>357.01</td>\n",
       "      <td>675.611</td>\n",
       "      <td>0</td>\n",
       "      <td>...</td>\n",
       "      <td>2191.62</td>\n",
       "      <td>937.644</td>\n",
       "      <td>1123.76</td>\n",
       "      <td>1123.76</td>\n",
       "      <td>357.01</td>\n",
       "      <td>341.295</td>\n",
       "      <td>339.459</td>\n",
       "      <td>357.01</td>\n",
       "      <td>1875.55</td>\n",
       "      <td>0</td>\n",
       "    </tr>\n",
       "  </tbody>\n",
       "</table>\n",
       "<p>5 rows × 21 columns</p>\n",
       "</div>"
      ],
      "text/plain": [
       "                   Team Atlético Goianiense Atlético Mineiro  \\\n",
       "0   Atlético Goianiense                   0          666.215   \n",
       "1      Atlético Mineiro             666.215                0   \n",
       "2  Athletico Paranaense             972.816          820.485   \n",
       "3                 Bahia             1228.42          966.725   \n",
       "4              Botafogo             937.644          340.896   \n",
       "\n",
       "  Athletico Paranaense    Bahia Botafogo    Ceará Corinthians Coritiba  \\\n",
       "0              972.816  1228.42  937.644  1856.43     811.308  972.816   \n",
       "1              820.485  966.725  340.896  1894.08     489.691  820.485   \n",
       "2                    0  1786.64  675.611  2672.15     338.956        0   \n",
       "3              1786.64        0  1211.69  1028.76     1455.69  1786.64   \n",
       "4              675.611  1211.69        0  2191.62      357.01  675.611   \n",
       "\n",
       "  Flamengo  ... Fortaleza    Goiás   Grêmio Internacional Palmeiras  \\\n",
       "0  937.644  ...   1856.43        0  1498.19       1498.19   811.308   \n",
       "1  340.896  ...   1894.08  666.215  1341.83       1341.83   489.691   \n",
       "2  675.611  ...   2672.15  972.816  546.903       546.903   338.956   \n",
       "3  1211.69  ...   1028.76  1228.42  2305.24       2305.24   1455.69   \n",
       "4        0  ...   2191.62  937.644  1123.76       1123.76    357.01   \n",
       "\n",
       "  Red Bull Bragantino   Santos São Paulo    Sport Vasco da Gama  \n",
       "0             752.725  864.739   811.308     1830       937.644  \n",
       "1               430.9  512.134   489.691   1640.7       340.896  \n",
       "2             390.537  338.708   338.956  2460.42       675.611  \n",
       "3             1397.62  1474.19   1455.69  673.975       1211.69  \n",
       "4             341.295  339.459    357.01  1875.55             0  \n",
       "\n",
       "[5 rows x 21 columns]"
      ]
     },
     "execution_count": 18,
     "metadata": {},
     "output_type": "execute_result"
    }
   ],
   "source": [
    "for ii in range(len(list_teams_20)):\n",
    "    for jj in range(len(list_teams_20)):\n",
    "        loc1=(list_teams_20.iloc[ii,-2],list_teams_20.iloc[ii,-1])\n",
    "        loc2=(list_teams_20.iloc[jj,-2],list_teams_20.iloc[jj,-1])\n",
    "        distances.iloc[ii,jj+1]=hs.haversine(loc1,loc2)\n",
    "\n",
    "distances.head()"
   ]
  },
  {
   "cell_type": "code",
   "execution_count": 19,
   "metadata": {
    "colab": {
     "base_uri": "https://localhost:8080/",
     "height": 323
    },
    "id": "uIAGQRQodmvi",
    "outputId": "d073ffa5-3455-4c5d-b854-9220c47b8861"
   },
   "outputs": [
    {
     "data": {
      "text/html": [
       "<div>\n",
       "<style scoped>\n",
       "    .dataframe tbody tr th:only-of-type {\n",
       "        vertical-align: middle;\n",
       "    }\n",
       "\n",
       "    .dataframe tbody tr th {\n",
       "        vertical-align: top;\n",
       "    }\n",
       "\n",
       "    .dataframe thead th {\n",
       "        text-align: right;\n",
       "    }\n",
       "</style>\n",
       "<table border=\"1\" class=\"dataframe\">\n",
       "  <thead>\n",
       "    <tr style=\"text-align: right;\">\n",
       "      <th></th>\n",
       "      <th>Atlético Goianiense</th>\n",
       "      <th>Atlético Mineiro</th>\n",
       "      <th>Athletico Paranaense</th>\n",
       "      <th>Bahia</th>\n",
       "      <th>Botafogo</th>\n",
       "      <th>Ceará</th>\n",
       "      <th>Corinthians</th>\n",
       "      <th>Coritiba</th>\n",
       "      <th>Flamengo</th>\n",
       "      <th>Fluminense</th>\n",
       "      <th>Fortaleza</th>\n",
       "      <th>Goiás</th>\n",
       "      <th>Grêmio</th>\n",
       "      <th>Internacional</th>\n",
       "      <th>Palmeiras</th>\n",
       "      <th>Red Bull Bragantino</th>\n",
       "      <th>Santos</th>\n",
       "      <th>São Paulo</th>\n",
       "      <th>Sport</th>\n",
       "      <th>Vasco da Gama</th>\n",
       "    </tr>\n",
       "    <tr>\n",
       "      <th>Team</th>\n",
       "      <th></th>\n",
       "      <th></th>\n",
       "      <th></th>\n",
       "      <th></th>\n",
       "      <th></th>\n",
       "      <th></th>\n",
       "      <th></th>\n",
       "      <th></th>\n",
       "      <th></th>\n",
       "      <th></th>\n",
       "      <th></th>\n",
       "      <th></th>\n",
       "      <th></th>\n",
       "      <th></th>\n",
       "      <th></th>\n",
       "      <th></th>\n",
       "      <th></th>\n",
       "      <th></th>\n",
       "      <th></th>\n",
       "      <th></th>\n",
       "    </tr>\n",
       "  </thead>\n",
       "  <tbody>\n",
       "    <tr>\n",
       "      <th>Atlético Goianiense</th>\n",
       "      <td>0</td>\n",
       "      <td>666.215</td>\n",
       "      <td>972.816</td>\n",
       "      <td>1228.42</td>\n",
       "      <td>937.644</td>\n",
       "      <td>1856.43</td>\n",
       "      <td>811.308</td>\n",
       "      <td>972.816</td>\n",
       "      <td>937.644</td>\n",
       "      <td>937.644</td>\n",
       "      <td>1856.43</td>\n",
       "      <td>0</td>\n",
       "      <td>1498.19</td>\n",
       "      <td>1498.19</td>\n",
       "      <td>811.308</td>\n",
       "      <td>752.725</td>\n",
       "      <td>864.739</td>\n",
       "      <td>811.308</td>\n",
       "      <td>1830</td>\n",
       "      <td>937.644</td>\n",
       "    </tr>\n",
       "    <tr>\n",
       "      <th>Atlético Mineiro</th>\n",
       "      <td>666.215</td>\n",
       "      <td>0</td>\n",
       "      <td>820.485</td>\n",
       "      <td>966.725</td>\n",
       "      <td>340.896</td>\n",
       "      <td>1894.08</td>\n",
       "      <td>489.691</td>\n",
       "      <td>820.485</td>\n",
       "      <td>340.896</td>\n",
       "      <td>340.896</td>\n",
       "      <td>1894.08</td>\n",
       "      <td>666.215</td>\n",
       "      <td>1341.83</td>\n",
       "      <td>1341.83</td>\n",
       "      <td>489.691</td>\n",
       "      <td>430.9</td>\n",
       "      <td>512.134</td>\n",
       "      <td>489.691</td>\n",
       "      <td>1640.7</td>\n",
       "      <td>340.896</td>\n",
       "    </tr>\n",
       "    <tr>\n",
       "      <th>Athletico Paranaense</th>\n",
       "      <td>972.816</td>\n",
       "      <td>820.485</td>\n",
       "      <td>0</td>\n",
       "      <td>1786.64</td>\n",
       "      <td>675.611</td>\n",
       "      <td>2672.15</td>\n",
       "      <td>338.956</td>\n",
       "      <td>0</td>\n",
       "      <td>675.611</td>\n",
       "      <td>675.611</td>\n",
       "      <td>2672.15</td>\n",
       "      <td>972.816</td>\n",
       "      <td>546.903</td>\n",
       "      <td>546.903</td>\n",
       "      <td>338.956</td>\n",
       "      <td>390.537</td>\n",
       "      <td>338.708</td>\n",
       "      <td>338.956</td>\n",
       "      <td>2460.42</td>\n",
       "      <td>675.611</td>\n",
       "    </tr>\n",
       "    <tr>\n",
       "      <th>Bahia</th>\n",
       "      <td>1228.42</td>\n",
       "      <td>966.725</td>\n",
       "      <td>1786.64</td>\n",
       "      <td>0</td>\n",
       "      <td>1211.69</td>\n",
       "      <td>1028.76</td>\n",
       "      <td>1455.69</td>\n",
       "      <td>1786.64</td>\n",
       "      <td>1211.69</td>\n",
       "      <td>1211.69</td>\n",
       "      <td>1028.76</td>\n",
       "      <td>1228.42</td>\n",
       "      <td>2305.24</td>\n",
       "      <td>2305.24</td>\n",
       "      <td>1455.69</td>\n",
       "      <td>1397.62</td>\n",
       "      <td>1474.19</td>\n",
       "      <td>1455.69</td>\n",
       "      <td>673.975</td>\n",
       "      <td>1211.69</td>\n",
       "    </tr>\n",
       "    <tr>\n",
       "      <th>Botafogo</th>\n",
       "      <td>937.644</td>\n",
       "      <td>340.896</td>\n",
       "      <td>675.611</td>\n",
       "      <td>1211.69</td>\n",
       "      <td>0</td>\n",
       "      <td>2191.62</td>\n",
       "      <td>357.01</td>\n",
       "      <td>675.611</td>\n",
       "      <td>0</td>\n",
       "      <td>0</td>\n",
       "      <td>2191.62</td>\n",
       "      <td>937.644</td>\n",
       "      <td>1123.76</td>\n",
       "      <td>1123.76</td>\n",
       "      <td>357.01</td>\n",
       "      <td>341.295</td>\n",
       "      <td>339.459</td>\n",
       "      <td>357.01</td>\n",
       "      <td>1875.55</td>\n",
       "      <td>0</td>\n",
       "    </tr>\n",
       "  </tbody>\n",
       "</table>\n",
       "</div>"
      ],
      "text/plain": [
       "                     Atlético Goianiense Atlético Mineiro  \\\n",
       "Team                                                        \n",
       "Atlético Goianiense                    0          666.215   \n",
       "Atlético Mineiro                 666.215                0   \n",
       "Athletico Paranaense             972.816          820.485   \n",
       "Bahia                            1228.42          966.725   \n",
       "Botafogo                         937.644          340.896   \n",
       "\n",
       "                     Athletico Paranaense    Bahia Botafogo    Ceará  \\\n",
       "Team                                                                   \n",
       "Atlético Goianiense               972.816  1228.42  937.644  1856.43   \n",
       "Atlético Mineiro                  820.485  966.725  340.896  1894.08   \n",
       "Athletico Paranaense                    0  1786.64  675.611  2672.15   \n",
       "Bahia                             1786.64        0  1211.69  1028.76   \n",
       "Botafogo                          675.611  1211.69        0  2191.62   \n",
       "\n",
       "                     Corinthians Coritiba Flamengo Fluminense Fortaleza  \\\n",
       "Team                                                                      \n",
       "Atlético Goianiense      811.308  972.816  937.644    937.644   1856.43   \n",
       "Atlético Mineiro         489.691  820.485  340.896    340.896   1894.08   \n",
       "Athletico Paranaense     338.956        0  675.611    675.611   2672.15   \n",
       "Bahia                    1455.69  1786.64  1211.69    1211.69   1028.76   \n",
       "Botafogo                  357.01  675.611        0          0   2191.62   \n",
       "\n",
       "                        Goiás   Grêmio Internacional Palmeiras  \\\n",
       "Team                                                             \n",
       "Atlético Goianiense         0  1498.19       1498.19   811.308   \n",
       "Atlético Mineiro      666.215  1341.83       1341.83   489.691   \n",
       "Athletico Paranaense  972.816  546.903       546.903   338.956   \n",
       "Bahia                 1228.42  2305.24       2305.24   1455.69   \n",
       "Botafogo              937.644  1123.76       1123.76    357.01   \n",
       "\n",
       "                     Red Bull Bragantino   Santos São Paulo    Sport  \\\n",
       "Team                                                                   \n",
       "Atlético Goianiense              752.725  864.739   811.308     1830   \n",
       "Atlético Mineiro                   430.9  512.134   489.691   1640.7   \n",
       "Athletico Paranaense             390.537  338.708   338.956  2460.42   \n",
       "Bahia                            1397.62  1474.19   1455.69  673.975   \n",
       "Botafogo                         341.295  339.459    357.01  1875.55   \n",
       "\n",
       "                     Vasco da Gama  \n",
       "Team                                \n",
       "Atlético Goianiense        937.644  \n",
       "Atlético Mineiro           340.896  \n",
       "Athletico Paranaense       675.611  \n",
       "Bahia                      1211.69  \n",
       "Botafogo                         0  "
      ]
     },
     "execution_count": 19,
     "metadata": {},
     "output_type": "execute_result"
    }
   ],
   "source": [
    "distances=distances.set_index('Team')\n",
    "distances.head()"
   ]
  },
  {
   "cell_type": "code",
   "execution_count": 20,
   "metadata": {
    "colab": {
     "base_uri": "https://localhost:8080/"
    },
    "id": "leOkdcSOdmvj",
    "outputId": "b87126e1-8e8f-4172-c206-4ea05a13fc59"
   },
   "outputs": [
    {
     "name": "stdout",
     "output_type": "stream",
     "text": [
      "For example, the distance between Bahia and Grêmio is: 2305.244411273193 kilometers.\n"
     ]
    }
   ],
   "source": [
    "print('For example, the distance between Bahia and Grêmio is:',distances.loc['Bahia','Grêmio'],'kilometers.')"
   ]
  },
  {
   "cell_type": "markdown",
   "metadata": {
    "id": "YX5pFRRcdmvj"
   },
   "source": [
    "## 6. Evaluation Function"
   ]
  },
  {
   "cell_type": "markdown",
   "metadata": {
    "id": "RqzLiLVndmvj"
   },
   "source": [
    "We need to develop a function that gives us a score of a configuration so we can determine the best ones to create the next generation to be tested. This is the function we want to optimize. We will base it on the distance traveled by each team. For example, for '*Team01*', the distance between its home city to the location of the first match, plus the distance to the location of the second one, and so on.<br>\n",
    "We have two conditions in our tournament:\n",
    "1. No team can play more than two rounds in a row at home or away.\n",
    "2. The teams don't return to their home city, going from one match to the location of the next."
   ]
  },
  {
   "cell_type": "markdown",
   "metadata": {
    "id": "rQ2Njyxwdmvj"
   },
   "source": [
    "We will try three different metrics, but they all depend on the vector with the total distance traveled by each team."
   ]
  },
  {
   "cell_type": "markdown",
   "metadata": {
    "id": "QxQbW1eTdmvk"
   },
   "source": [
    "Our three proposed evaluation functions:\n",
    "1. minimizing the total sum of the distance;\n",
    "2. minimizing the difference between the smallest and the largest distances;\n",
    "3. minimizing the standard deviation of the distribution of distances."
   ]
  },
  {
   "cell_type": "markdown",
   "metadata": {
    "id": "NY_ZMH00dmvk"
   },
   "source": [
    "To understand the process, let's evaluate the actual table from the 2020 Championship. Then we can see if we get a better result with our algorithm."
   ]
  },
  {
   "cell_type": "markdown",
   "metadata": {
    "id": "QBAU26Phdmvn"
   },
   "source": [
    "With the lists of locations and the matches, we can get the sequence of travels for each team, starting and ending at home. Each row shows the location of the match for a team. Every on starts at home and then moves to the first match, when half of the teams doesn't travel."
   ]
  },
  {
   "cell_type": "code",
   "execution_count": 21,
   "metadata": {
    "colab": {
     "base_uri": "https://localhost:8080/",
     "height": 689
    },
    "id": "LR2ZDr2Vdmvo",
    "outputId": "20874c4b-674d-4a72-de9c-ed58f2454925"
   },
   "outputs": [
    {
     "data": {
      "text/html": [
       "<div>\n",
       "<style scoped>\n",
       "    .dataframe tbody tr th:only-of-type {\n",
       "        vertical-align: middle;\n",
       "    }\n",
       "\n",
       "    .dataframe tbody tr th {\n",
       "        vertical-align: top;\n",
       "    }\n",
       "\n",
       "    .dataframe thead th {\n",
       "        text-align: right;\n",
       "    }\n",
       "</style>\n",
       "<table border=\"1\" class=\"dataframe\">\n",
       "  <thead>\n",
       "    <tr style=\"text-align: right;\">\n",
       "      <th></th>\n",
       "      <th>0</th>\n",
       "      <th>1</th>\n",
       "      <th>2</th>\n",
       "      <th>3</th>\n",
       "      <th>4</th>\n",
       "      <th>5</th>\n",
       "      <th>6</th>\n",
       "      <th>7</th>\n",
       "      <th>8</th>\n",
       "      <th>9</th>\n",
       "      <th>...</th>\n",
       "      <th>30</th>\n",
       "      <th>31</th>\n",
       "      <th>32</th>\n",
       "      <th>33</th>\n",
       "      <th>34</th>\n",
       "      <th>35</th>\n",
       "      <th>36</th>\n",
       "      <th>37</th>\n",
       "      <th>38</th>\n",
       "      <th>39</th>\n",
       "    </tr>\n",
       "  </thead>\n",
       "  <tbody>\n",
       "    <tr>\n",
       "      <th>0</th>\n",
       "      <td>Team01</td>\n",
       "      <td>Team11</td>\n",
       "      <td>Team01</td>\n",
       "      <td>Team17</td>\n",
       "      <td>Team01</td>\n",
       "      <td>Team01</td>\n",
       "      <td>Team03</td>\n",
       "      <td>Team01</td>\n",
       "      <td>Team20</td>\n",
       "      <td>Team01</td>\n",
       "      <td>...</td>\n",
       "      <td>Team01</td>\n",
       "      <td>Team04</td>\n",
       "      <td>Team01</td>\n",
       "      <td>Team06</td>\n",
       "      <td>Team01</td>\n",
       "      <td>Team07</td>\n",
       "      <td>Team01</td>\n",
       "      <td>Team13</td>\n",
       "      <td>Team01</td>\n",
       "      <td>Team01</td>\n",
       "    </tr>\n",
       "    <tr>\n",
       "      <th>1</th>\n",
       "      <td>Team02</td>\n",
       "      <td>Team07</td>\n",
       "      <td>Team02</td>\n",
       "      <td>Team02</td>\n",
       "      <td>Team14</td>\n",
       "      <td>Team12</td>\n",
       "      <td>Team02</td>\n",
       "      <td>Team10</td>\n",
       "      <td>Team02</td>\n",
       "      <td>Team20</td>\n",
       "      <td>...</td>\n",
       "      <td>Team03</td>\n",
       "      <td>Team05</td>\n",
       "      <td>Team02</td>\n",
       "      <td>Team02</td>\n",
       "      <td>Team16</td>\n",
       "      <td>Team02</td>\n",
       "      <td>Team01</td>\n",
       "      <td>Team15</td>\n",
       "      <td>Team02</td>\n",
       "      <td>Team02</td>\n",
       "    </tr>\n",
       "    <tr>\n",
       "      <th>2</th>\n",
       "      <td>Team03</td>\n",
       "      <td>Team09</td>\n",
       "      <td>Team03</td>\n",
       "      <td>Team03</td>\n",
       "      <td>Team05</td>\n",
       "      <td>Team14</td>\n",
       "      <td>Team03</td>\n",
       "      <td>Team03</td>\n",
       "      <td>Team08</td>\n",
       "      <td>Team17</td>\n",
       "      <td>...</td>\n",
       "      <td>Team03</td>\n",
       "      <td>Team13</td>\n",
       "      <td>Team20</td>\n",
       "      <td>Team03</td>\n",
       "      <td>Team12</td>\n",
       "      <td>Team10</td>\n",
       "      <td>Team03</td>\n",
       "      <td>Team19</td>\n",
       "      <td>Team03</td>\n",
       "      <td>Team03</td>\n",
       "    </tr>\n",
       "    <tr>\n",
       "      <th>3</th>\n",
       "      <td>Team04</td>\n",
       "      <td>Team05</td>\n",
       "      <td>Team04</td>\n",
       "      <td>Team04</td>\n",
       "      <td>Team18</td>\n",
       "      <td>Team06</td>\n",
       "      <td>Team04</td>\n",
       "      <td>Team04</td>\n",
       "      <td>Team14</td>\n",
       "      <td>Team04</td>\n",
       "      <td>...</td>\n",
       "      <td>Team04</td>\n",
       "      <td>Team04</td>\n",
       "      <td>Team19</td>\n",
       "      <td>Team20</td>\n",
       "      <td>Team04</td>\n",
       "      <td>Team04</td>\n",
       "      <td>Team03</td>\n",
       "      <td>Team11</td>\n",
       "      <td>Team04</td>\n",
       "      <td>Team04</td>\n",
       "    </tr>\n",
       "    <tr>\n",
       "      <th>4</th>\n",
       "      <td>Team05</td>\n",
       "      <td>Team05</td>\n",
       "      <td>Team16</td>\n",
       "      <td>Team11</td>\n",
       "      <td>Team05</td>\n",
       "      <td>Team09</td>\n",
       "      <td>Team05</td>\n",
       "      <td>Team05</td>\n",
       "      <td>Team07</td>\n",
       "      <td>Team01</td>\n",
       "      <td>...</td>\n",
       "      <td>Team17</td>\n",
       "      <td>Team05</td>\n",
       "      <td>Team10</td>\n",
       "      <td>Team15</td>\n",
       "      <td>Team05</td>\n",
       "      <td>Team05</td>\n",
       "      <td>Team12</td>\n",
       "      <td>Team05</td>\n",
       "      <td>Team06</td>\n",
       "      <td>Team05</td>\n",
       "    </tr>\n",
       "    <tr>\n",
       "      <th>5</th>\n",
       "      <td>Team06</td>\n",
       "      <td>Team19</td>\n",
       "      <td>Team06</td>\n",
       "      <td>Team03</td>\n",
       "      <td>Team06</td>\n",
       "      <td>Team06</td>\n",
       "      <td>Team02</td>\n",
       "      <td>Team06</td>\n",
       "      <td>Team06</td>\n",
       "      <td>Team14</td>\n",
       "      <td>...</td>\n",
       "      <td>Team06</td>\n",
       "      <td>Team12</td>\n",
       "      <td>Team06</td>\n",
       "      <td>Team06</td>\n",
       "      <td>Team07</td>\n",
       "      <td>Team18</td>\n",
       "      <td>Team06</td>\n",
       "      <td>Team08</td>\n",
       "      <td>Team06</td>\n",
       "      <td>Team06</td>\n",
       "    </tr>\n",
       "    <tr>\n",
       "      <th>6</th>\n",
       "      <td>Team07</td>\n",
       "      <td>Team07</td>\n",
       "      <td>Team03</td>\n",
       "      <td>Team13</td>\n",
       "      <td>Team07</td>\n",
       "      <td>Team07</td>\n",
       "      <td>Team18</td>\n",
       "      <td>Team12</td>\n",
       "      <td>Team07</td>\n",
       "      <td>Team07</td>\n",
       "      <td>...</td>\n",
       "      <td>Team04</td>\n",
       "      <td>Team07</td>\n",
       "      <td>Team07</td>\n",
       "      <td>Team17</td>\n",
       "      <td>Team07</td>\n",
       "      <td>Team07</td>\n",
       "      <td>Team09</td>\n",
       "      <td>Team07</td>\n",
       "      <td>Team14</td>\n",
       "      <td>Team07</td>\n",
       "    </tr>\n",
       "    <tr>\n",
       "      <th>7</th>\n",
       "      <td>Team08</td>\n",
       "      <td>Team08</td>\n",
       "      <td>Team04</td>\n",
       "      <td>Team08</td>\n",
       "      <td>Team08</td>\n",
       "      <td>Team16</td>\n",
       "      <td>Team08</td>\n",
       "      <td>Team05</td>\n",
       "      <td>Team08</td>\n",
       "      <td>Team12</td>\n",
       "      <td>...</td>\n",
       "      <td>Team20</td>\n",
       "      <td>Team08</td>\n",
       "      <td>Team18</td>\n",
       "      <td>Team08</td>\n",
       "      <td>Team11</td>\n",
       "      <td>Team08</td>\n",
       "      <td>Team17</td>\n",
       "      <td>Team08</td>\n",
       "      <td>Team02</td>\n",
       "      <td>Team08</td>\n",
       "    </tr>\n",
       "    <tr>\n",
       "      <th>8</th>\n",
       "      <td>Team09</td>\n",
       "      <td>Team09</td>\n",
       "      <td>Team02</td>\n",
       "      <td>Team08</td>\n",
       "      <td>Team09</td>\n",
       "      <td>Team09</td>\n",
       "      <td>Team17</td>\n",
       "      <td>Team04</td>\n",
       "      <td>Team09</td>\n",
       "      <td>Team09</td>\n",
       "      <td>...</td>\n",
       "      <td>Team12</td>\n",
       "      <td>Team09</td>\n",
       "      <td>Team01</td>\n",
       "      <td>Team19</td>\n",
       "      <td>Team09</td>\n",
       "      <td>Team16</td>\n",
       "      <td>Team09</td>\n",
       "      <td>Team09</td>\n",
       "      <td>Team18</td>\n",
       "      <td>Team09</td>\n",
       "    </tr>\n",
       "    <tr>\n",
       "      <th>9</th>\n",
       "      <td>Team10</td>\n",
       "      <td>Team13</td>\n",
       "      <td>Team10</td>\n",
       "      <td>Team10</td>\n",
       "      <td>Team16</td>\n",
       "      <td>Team01</td>\n",
       "      <td>Team10</td>\n",
       "      <td>Team10</td>\n",
       "      <td>Team18</td>\n",
       "      <td>Team09</td>\n",
       "      <td>...</td>\n",
       "      <td>Team10</td>\n",
       "      <td>Team08</td>\n",
       "      <td>Team10</td>\n",
       "      <td>Team10</td>\n",
       "      <td>Team04</td>\n",
       "      <td>Team10</td>\n",
       "      <td>Team06</td>\n",
       "      <td>Team17</td>\n",
       "      <td>Team10</td>\n",
       "      <td>Team10</td>\n",
       "    </tr>\n",
       "    <tr>\n",
       "      <th>10</th>\n",
       "      <td>Team11</td>\n",
       "      <td>Team11</td>\n",
       "      <td>Team18</td>\n",
       "      <td>Team11</td>\n",
       "      <td>Team12</td>\n",
       "      <td>Team07</td>\n",
       "      <td>Team11</td>\n",
       "      <td>Team06</td>\n",
       "      <td>Team09</td>\n",
       "      <td>Team11</td>\n",
       "      <td>...</td>\n",
       "      <td>Team14</td>\n",
       "      <td>Team11</td>\n",
       "      <td>Team02</td>\n",
       "      <td>Team03</td>\n",
       "      <td>Team11</td>\n",
       "      <td>Team11</td>\n",
       "      <td>Team15</td>\n",
       "      <td>Team11</td>\n",
       "      <td>Team10</td>\n",
       "      <td>Team11</td>\n",
       "    </tr>\n",
       "    <tr>\n",
       "      <th>11</th>\n",
       "      <td>Team12</td>\n",
       "      <td>Team12</td>\n",
       "      <td>Team01</td>\n",
       "      <td>Team15</td>\n",
       "      <td>Team12</td>\n",
       "      <td>Team12</td>\n",
       "      <td>Team13</td>\n",
       "      <td>Team12</td>\n",
       "      <td>Team19</td>\n",
       "      <td>Team12</td>\n",
       "      <td>...</td>\n",
       "      <td>Team12</td>\n",
       "      <td>Team12</td>\n",
       "      <td>Team17</td>\n",
       "      <td>Team10</td>\n",
       "      <td>Team12</td>\n",
       "      <td>Team04</td>\n",
       "      <td>Team12</td>\n",
       "      <td>Team12</td>\n",
       "      <td>Team20</td>\n",
       "      <td>Team12</td>\n",
       "    </tr>\n",
       "    <tr>\n",
       "      <th>12</th>\n",
       "      <td>Team13</td>\n",
       "      <td>Team13</td>\n",
       "      <td>Team06</td>\n",
       "      <td>Team13</td>\n",
       "      <td>Team09</td>\n",
       "      <td>Team20</td>\n",
       "      <td>Team13</td>\n",
       "      <td>Team13</td>\n",
       "      <td>Team02</td>\n",
       "      <td>Team04</td>\n",
       "      <td>...</td>\n",
       "      <td>Team15</td>\n",
       "      <td>Team13</td>\n",
       "      <td>Team14</td>\n",
       "      <td>Team08</td>\n",
       "      <td>Team13</td>\n",
       "      <td>Team05</td>\n",
       "      <td>Team13</td>\n",
       "      <td>Team13</td>\n",
       "      <td>Team16</td>\n",
       "      <td>Team13</td>\n",
       "    </tr>\n",
       "    <tr>\n",
       "      <th>13</th>\n",
       "      <td>Team14</td>\n",
       "      <td>Team08</td>\n",
       "      <td>Team14</td>\n",
       "      <td>Team10</td>\n",
       "      <td>Team14</td>\n",
       "      <td>Team14</td>\n",
       "      <td>Team05</td>\n",
       "      <td>Team15</td>\n",
       "      <td>Team14</td>\n",
       "      <td>Team14</td>\n",
       "      <td>...</td>\n",
       "      <td>Team14</td>\n",
       "      <td>Team18</td>\n",
       "      <td>Team14</td>\n",
       "      <td>Team14</td>\n",
       "      <td>Team01</td>\n",
       "      <td>Team14</td>\n",
       "      <td>Team20</td>\n",
       "      <td>Team09</td>\n",
       "      <td>Team14</td>\n",
       "      <td>Team14</td>\n",
       "    </tr>\n",
       "    <tr>\n",
       "      <th>14</th>\n",
       "      <td>Team15</td>\n",
       "      <td>Team15</td>\n",
       "      <td>Team10</td>\n",
       "      <td>Team15</td>\n",
       "      <td>Team01</td>\n",
       "      <td>Team15</td>\n",
       "      <td>Team04</td>\n",
       "      <td>Team15</td>\n",
       "      <td>Team16</td>\n",
       "      <td>Team07</td>\n",
       "      <td>...</td>\n",
       "      <td>Team15</td>\n",
       "      <td>Team09</td>\n",
       "      <td>Team06</td>\n",
       "      <td>Team15</td>\n",
       "      <td>Team18</td>\n",
       "      <td>Team08</td>\n",
       "      <td>Team15</td>\n",
       "      <td>Team15</td>\n",
       "      <td>Team03</td>\n",
       "      <td>Team15</td>\n",
       "    </tr>\n",
       "    <tr>\n",
       "      <th>15</th>\n",
       "      <td>Team16</td>\n",
       "      <td>Team17</td>\n",
       "      <td>Team16</td>\n",
       "      <td>Team04</td>\n",
       "      <td>Team16</td>\n",
       "      <td>Team16</td>\n",
       "      <td>Team11</td>\n",
       "      <td>Team01</td>\n",
       "      <td>Team16</td>\n",
       "      <td>Team18</td>\n",
       "      <td>...</td>\n",
       "      <td>Team06</td>\n",
       "      <td>Team16</td>\n",
       "      <td>Team07</td>\n",
       "      <td>Team14</td>\n",
       "      <td>Team16</td>\n",
       "      <td>Team16</td>\n",
       "      <td>Team19</td>\n",
       "      <td>Team12</td>\n",
       "      <td>Team16</td>\n",
       "      <td>Team16</td>\n",
       "    </tr>\n",
       "    <tr>\n",
       "      <th>16</th>\n",
       "      <td>Team17</td>\n",
       "      <td>Team17</td>\n",
       "      <td>Team14</td>\n",
       "      <td>Team17</td>\n",
       "      <td>Team19</td>\n",
       "      <td>Team15</td>\n",
       "      <td>Team17</td>\n",
       "      <td>Team17</td>\n",
       "      <td>Team06</td>\n",
       "      <td>Team17</td>\n",
       "      <td>...</td>\n",
       "      <td>Team17</td>\n",
       "      <td>Team11</td>\n",
       "      <td>Team17</td>\n",
       "      <td>Team17</td>\n",
       "      <td>Team13</td>\n",
       "      <td>Team02</td>\n",
       "      <td>Team17</td>\n",
       "      <td>Team17</td>\n",
       "      <td>Team04</td>\n",
       "      <td>Team17</td>\n",
       "    </tr>\n",
       "    <tr>\n",
       "      <th>17</th>\n",
       "      <td>Team18</td>\n",
       "      <td>Team12</td>\n",
       "      <td>Team18</td>\n",
       "      <td>Team20</td>\n",
       "      <td>Team18</td>\n",
       "      <td>Team19</td>\n",
       "      <td>Team18</td>\n",
       "      <td>Team03</td>\n",
       "      <td>Team18</td>\n",
       "      <td>Team18</td>\n",
       "      <td>...</td>\n",
       "      <td>Team01</td>\n",
       "      <td>Team18</td>\n",
       "      <td>Team18</td>\n",
       "      <td>Team02</td>\n",
       "      <td>Team18</td>\n",
       "      <td>Team18</td>\n",
       "      <td>Team13</td>\n",
       "      <td>Team05</td>\n",
       "      <td>Team18</td>\n",
       "      <td>Team18</td>\n",
       "    </tr>\n",
       "    <tr>\n",
       "      <th>18</th>\n",
       "      <td>Team19</td>\n",
       "      <td>Team19</td>\n",
       "      <td>Team20</td>\n",
       "      <td>Team02</td>\n",
       "      <td>Team19</td>\n",
       "      <td>Team19</td>\n",
       "      <td>Team08</td>\n",
       "      <td>Team13</td>\n",
       "      <td>Team19</td>\n",
       "      <td>Team11</td>\n",
       "      <td>...</td>\n",
       "      <td>Team10</td>\n",
       "      <td>Team07</td>\n",
       "      <td>Team19</td>\n",
       "      <td>Team19</td>\n",
       "      <td>Team05</td>\n",
       "      <td>Team14</td>\n",
       "      <td>Team19</td>\n",
       "      <td>Team19</td>\n",
       "      <td>Team01</td>\n",
       "      <td>Team19</td>\n",
       "    </tr>\n",
       "    <tr>\n",
       "      <th>19</th>\n",
       "      <td>Team20</td>\n",
       "      <td>Team15</td>\n",
       "      <td>Team20</td>\n",
       "      <td>Team20</td>\n",
       "      <td>Team06</td>\n",
       "      <td>Team20</td>\n",
       "      <td>Team10</td>\n",
       "      <td>Team17</td>\n",
       "      <td>Team20</td>\n",
       "      <td>Team20</td>\n",
       "      <td>...</td>\n",
       "      <td>Team20</td>\n",
       "      <td>Team16</td>\n",
       "      <td>Team20</td>\n",
       "      <td>Team20</td>\n",
       "      <td>Team09</td>\n",
       "      <td>Team11</td>\n",
       "      <td>Team20</td>\n",
       "      <td>Team07</td>\n",
       "      <td>Team20</td>\n",
       "      <td>Team20</td>\n",
       "    </tr>\n",
       "  </tbody>\n",
       "</table>\n",
       "<p>20 rows × 40 columns</p>\n",
       "</div>"
      ],
      "text/plain": [
       "        0       1       2       3       4       5       6       7       8   \\\n",
       "0   Team01  Team11  Team01  Team17  Team01  Team01  Team03  Team01  Team20   \n",
       "1   Team02  Team07  Team02  Team02  Team14  Team12  Team02  Team10  Team02   \n",
       "2   Team03  Team09  Team03  Team03  Team05  Team14  Team03  Team03  Team08   \n",
       "3   Team04  Team05  Team04  Team04  Team18  Team06  Team04  Team04  Team14   \n",
       "4   Team05  Team05  Team16  Team11  Team05  Team09  Team05  Team05  Team07   \n",
       "5   Team06  Team19  Team06  Team03  Team06  Team06  Team02  Team06  Team06   \n",
       "6   Team07  Team07  Team03  Team13  Team07  Team07  Team18  Team12  Team07   \n",
       "7   Team08  Team08  Team04  Team08  Team08  Team16  Team08  Team05  Team08   \n",
       "8   Team09  Team09  Team02  Team08  Team09  Team09  Team17  Team04  Team09   \n",
       "9   Team10  Team13  Team10  Team10  Team16  Team01  Team10  Team10  Team18   \n",
       "10  Team11  Team11  Team18  Team11  Team12  Team07  Team11  Team06  Team09   \n",
       "11  Team12  Team12  Team01  Team15  Team12  Team12  Team13  Team12  Team19   \n",
       "12  Team13  Team13  Team06  Team13  Team09  Team20  Team13  Team13  Team02   \n",
       "13  Team14  Team08  Team14  Team10  Team14  Team14  Team05  Team15  Team14   \n",
       "14  Team15  Team15  Team10  Team15  Team01  Team15  Team04  Team15  Team16   \n",
       "15  Team16  Team17  Team16  Team04  Team16  Team16  Team11  Team01  Team16   \n",
       "16  Team17  Team17  Team14  Team17  Team19  Team15  Team17  Team17  Team06   \n",
       "17  Team18  Team12  Team18  Team20  Team18  Team19  Team18  Team03  Team18   \n",
       "18  Team19  Team19  Team20  Team02  Team19  Team19  Team08  Team13  Team19   \n",
       "19  Team20  Team15  Team20  Team20  Team06  Team20  Team10  Team17  Team20   \n",
       "\n",
       "        9   ...      30      31      32      33      34      35      36  \\\n",
       "0   Team01  ...  Team01  Team04  Team01  Team06  Team01  Team07  Team01   \n",
       "1   Team20  ...  Team03  Team05  Team02  Team02  Team16  Team02  Team01   \n",
       "2   Team17  ...  Team03  Team13  Team20  Team03  Team12  Team10  Team03   \n",
       "3   Team04  ...  Team04  Team04  Team19  Team20  Team04  Team04  Team03   \n",
       "4   Team01  ...  Team17  Team05  Team10  Team15  Team05  Team05  Team12   \n",
       "5   Team14  ...  Team06  Team12  Team06  Team06  Team07  Team18  Team06   \n",
       "6   Team07  ...  Team04  Team07  Team07  Team17  Team07  Team07  Team09   \n",
       "7   Team12  ...  Team20  Team08  Team18  Team08  Team11  Team08  Team17   \n",
       "8   Team09  ...  Team12  Team09  Team01  Team19  Team09  Team16  Team09   \n",
       "9   Team09  ...  Team10  Team08  Team10  Team10  Team04  Team10  Team06   \n",
       "10  Team11  ...  Team14  Team11  Team02  Team03  Team11  Team11  Team15   \n",
       "11  Team12  ...  Team12  Team12  Team17  Team10  Team12  Team04  Team12   \n",
       "12  Team04  ...  Team15  Team13  Team14  Team08  Team13  Team05  Team13   \n",
       "13  Team14  ...  Team14  Team18  Team14  Team14  Team01  Team14  Team20   \n",
       "14  Team07  ...  Team15  Team09  Team06  Team15  Team18  Team08  Team15   \n",
       "15  Team18  ...  Team06  Team16  Team07  Team14  Team16  Team16  Team19   \n",
       "16  Team17  ...  Team17  Team11  Team17  Team17  Team13  Team02  Team17   \n",
       "17  Team18  ...  Team01  Team18  Team18  Team02  Team18  Team18  Team13   \n",
       "18  Team11  ...  Team10  Team07  Team19  Team19  Team05  Team14  Team19   \n",
       "19  Team20  ...  Team20  Team16  Team20  Team20  Team09  Team11  Team20   \n",
       "\n",
       "        37      38      39  \n",
       "0   Team13  Team01  Team01  \n",
       "1   Team15  Team02  Team02  \n",
       "2   Team19  Team03  Team03  \n",
       "3   Team11  Team04  Team04  \n",
       "4   Team05  Team06  Team05  \n",
       "5   Team08  Team06  Team06  \n",
       "6   Team07  Team14  Team07  \n",
       "7   Team08  Team02  Team08  \n",
       "8   Team09  Team18  Team09  \n",
       "9   Team17  Team10  Team10  \n",
       "10  Team11  Team10  Team11  \n",
       "11  Team12  Team20  Team12  \n",
       "12  Team13  Team16  Team13  \n",
       "13  Team09  Team14  Team14  \n",
       "14  Team15  Team03  Team15  \n",
       "15  Team12  Team16  Team16  \n",
       "16  Team17  Team04  Team17  \n",
       "17  Team05  Team18  Team18  \n",
       "18  Team19  Team01  Team19  \n",
       "19  Team07  Team20  Team20  \n",
       "\n",
       "[20 rows x 40 columns]"
      ]
     },
     "execution_count": 21,
     "metadata": {},
     "output_type": "execute_result"
    }
   ],
   "source": [
    "rounds=['Round 1', 'Round 2', 'Round 3', 'Round 4', 'Round 5', 'Round 6', 'Round 7', 'Round 8', 'Round 9', \n",
    "        'Round 10', 'Round 11', 'Round 12', 'Round 13', 'Round 14', 'Round 15', 'Round 16', 'Round 17', \n",
    "        'Round 18', 'Round 19']\n",
    "\n",
    "trek=[]\n",
    "for jj in range(len(generic)):\n",
    "    team_trek=[generic[jj]]+2*matches.loc[generic[jj],:].tolist()+[generic[jj]]\n",
    "    for ii in range(len(rounds)):\n",
    "        if locations.loc[generic[jj],rounds[ii]]==0:\n",
    "            team_trek[ii+1]=generic[jj]\n",
    "        else:\n",
    "            team_trek[ii+20]=generic[jj]\n",
    "\n",
    "    trek.append(team_trek)\n",
    "    \n",
    "trek=pd.DataFrame(trek)\n",
    "trek"
   ]
  },
  {
   "cell_type": "markdown",
   "metadata": {
    "id": "8IiH5sPbdmvo"
   },
   "source": [
    "Let's load the original list of teams."
   ]
  },
  {
   "cell_type": "code",
   "execution_count": 22,
   "metadata": {
    "colab": {
     "base_uri": "https://localhost:8080/",
     "height": 700
    },
    "id": "FwK7KEU1dmvp",
    "outputId": "741cd9c1-ec9a-4404-a40d-20f0a715ae48"
   },
   "outputs": [
    {
     "data": {
      "text/html": [
       "<div>\n",
       "<style scoped>\n",
       "    .dataframe tbody tr th:only-of-type {\n",
       "        vertical-align: middle;\n",
       "    }\n",
       "\n",
       "    .dataframe tbody tr th {\n",
       "        vertical-align: top;\n",
       "    }\n",
       "\n",
       "    .dataframe thead th {\n",
       "        text-align: right;\n",
       "    }\n",
       "</style>\n",
       "<table border=\"1\" class=\"dataframe\">\n",
       "  <thead>\n",
       "    <tr style=\"text-align: right;\">\n",
       "      <th></th>\n",
       "      <th>Team</th>\n",
       "    </tr>\n",
       "    <tr>\n",
       "      <th>Team</th>\n",
       "      <th></th>\n",
       "    </tr>\n",
       "  </thead>\n",
       "  <tbody>\n",
       "    <tr>\n",
       "      <th>Team01</th>\n",
       "      <td>Atlético Goianiense</td>\n",
       "    </tr>\n",
       "    <tr>\n",
       "      <th>Team02</th>\n",
       "      <td>Atlético Mineiro</td>\n",
       "    </tr>\n",
       "    <tr>\n",
       "      <th>Team03</th>\n",
       "      <td>Athletico Paranaense</td>\n",
       "    </tr>\n",
       "    <tr>\n",
       "      <th>Team04</th>\n",
       "      <td>Bahia</td>\n",
       "    </tr>\n",
       "    <tr>\n",
       "      <th>Team05</th>\n",
       "      <td>Botafogo</td>\n",
       "    </tr>\n",
       "    <tr>\n",
       "      <th>Team06</th>\n",
       "      <td>Ceará</td>\n",
       "    </tr>\n",
       "    <tr>\n",
       "      <th>Team07</th>\n",
       "      <td>Corinthians</td>\n",
       "    </tr>\n",
       "    <tr>\n",
       "      <th>Team08</th>\n",
       "      <td>Coritiba</td>\n",
       "    </tr>\n",
       "    <tr>\n",
       "      <th>Team09</th>\n",
       "      <td>Flamengo</td>\n",
       "    </tr>\n",
       "    <tr>\n",
       "      <th>Team10</th>\n",
       "      <td>Fluminense</td>\n",
       "    </tr>\n",
       "    <tr>\n",
       "      <th>Team11</th>\n",
       "      <td>Fortaleza</td>\n",
       "    </tr>\n",
       "    <tr>\n",
       "      <th>Team12</th>\n",
       "      <td>Goiás</td>\n",
       "    </tr>\n",
       "    <tr>\n",
       "      <th>Team13</th>\n",
       "      <td>Grêmio</td>\n",
       "    </tr>\n",
       "    <tr>\n",
       "      <th>Team14</th>\n",
       "      <td>Internacional</td>\n",
       "    </tr>\n",
       "    <tr>\n",
       "      <th>Team15</th>\n",
       "      <td>Palmeiras</td>\n",
       "    </tr>\n",
       "    <tr>\n",
       "      <th>Team16</th>\n",
       "      <td>Red Bull Bragantino</td>\n",
       "    </tr>\n",
       "    <tr>\n",
       "      <th>Team17</th>\n",
       "      <td>Santos</td>\n",
       "    </tr>\n",
       "    <tr>\n",
       "      <th>Team18</th>\n",
       "      <td>São Paulo</td>\n",
       "    </tr>\n",
       "    <tr>\n",
       "      <th>Team19</th>\n",
       "      <td>Sport</td>\n",
       "    </tr>\n",
       "    <tr>\n",
       "      <th>Team20</th>\n",
       "      <td>Vasco da Gama</td>\n",
       "    </tr>\n",
       "  </tbody>\n",
       "</table>\n",
       "</div>"
      ],
      "text/plain": [
       "                        Team\n",
       "Team                        \n",
       "Team01   Atlético Goianiense\n",
       "Team02      Atlético Mineiro\n",
       "Team03  Athletico Paranaense\n",
       "Team04                 Bahia\n",
       "Team05              Botafogo\n",
       "Team06                 Ceará\n",
       "Team07           Corinthians\n",
       "Team08              Coritiba\n",
       "Team09              Flamengo\n",
       "Team10            Fluminense\n",
       "Team11             Fortaleza\n",
       "Team12                 Goiás\n",
       "Team13                Grêmio\n",
       "Team14         Internacional\n",
       "Team15             Palmeiras\n",
       "Team16   Red Bull Bragantino\n",
       "Team17                Santos\n",
       "Team18             São Paulo\n",
       "Team19                 Sport\n",
       "Team20         Vasco da Gama"
      ]
     },
     "execution_count": 22,
     "metadata": {},
     "output_type": "execute_result"
    }
   ],
   "source": [
    "list_teams['Team']=list_teams_20['Team'].tolist()\n",
    "list_teams"
   ]
  },
  {
   "cell_type": "code",
   "execution_count": 23,
   "metadata": {
    "colab": {
     "base_uri": "https://localhost:8080/"
    },
    "id": "22REg87ydmvp",
    "outputId": "da8de456-8eab-4cf2-ab3e-e9b66dc4f604"
   },
   "outputs": [
    {
     "data": {
      "text/plain": [
       "[37736.14248174618,\n",
       " 30100.61831962806,\n",
       " 33749.727289039845,\n",
       " 42171.58119573057,\n",
       " 28089.63354469981,\n",
       " 69076.81883489023,\n",
       " 25969.252511542232,\n",
       " 33176.14474039522,\n",
       " 28190.258200222743,\n",
       " 28789.744436597444,\n",
       " 67891.38731485106,\n",
       " 34395.8232362118,\n",
       " 41080.00648388408,\n",
       " 39607.78123132498,\n",
       " 27241.23720619874,\n",
       " 25683.52486915348,\n",
       " 28362.891226696363,\n",
       " 27928.186482089965,\n",
       " 46899.301527060175,\n",
       " 29258.46337371812]"
      ]
     },
     "execution_count": 23,
     "metadata": {},
     "output_type": "execute_result"
    }
   ],
   "source": [
    "trek_list=[]\n",
    "for ii in range(trek.shape[0]):\n",
    "    team_travel=0\n",
    "    for jj in range(trek.shape[1]-1):\n",
    "        team_travel += distances.loc[list_teams.loc[trek.iloc[ii,jj],'Team'],\n",
    "                                  list_teams.loc[trek.iloc[ii,jj+1],'Team']]\n",
    "    \n",
    "    trek_list.append(team_travel)\n",
    "\n",
    "trek_list"
   ]
  },
  {
   "cell_type": "code",
   "execution_count": 24,
   "metadata": {
    "colab": {
     "base_uri": "https://localhost:8080/",
     "height": 295
    },
    "id": "pvvhJDladmvp",
    "outputId": "4ce832cd-c7e1-4b5b-8d4c-cacd01642e78"
   },
   "outputs": [
    {
     "data": {
      "image/png": "[encoded data removed]",
      "text/plain": [
       "<Figure size 432x288 with 1 Axes>"
      ]
     },
     "metadata": {
      "needs_background": "light"
     },
     "output_type": "display_data"
    }
   ],
   "source": [
    "plt.hist(trek_list, bins = 6)\n",
    "plt.xlabel('Team travel')\n",
    "plt.ylabel('Number of Teams')\n",
    "plt.title('Distance Distribution')\n",
    "plt.show()"
   ]
  },
  {
   "cell_type": "markdown",
   "metadata": {
    "id": "PROc3ISqfx0V"
   },
   "source": [
    "The first evaluation function is the sum of the distances."
   ]
  },
  {
   "cell_type": "code",
   "execution_count": 25,
   "metadata": {
    "colab": {
     "base_uri": "https://localhost:8080/"
    },
    "id": "ObrBSh4mfxjK",
    "outputId": "af1d7b03-42e1-49a3-d074-0a98a032aef9"
   },
   "outputs": [
    {
     "name": "stdout",
     "output_type": "stream",
     "text": [
      "The total distance for this configuration is: 725398.524505681\n"
     ]
    }
   ],
   "source": [
    "total_distance = np.sum(trek_list)\n",
    "print('The total distance for this configuration is:',total_distance)"
   ]
  },
  {
   "cell_type": "markdown",
   "metadata": {
    "id": "_3L-rE_Hfwy0"
   },
   "source": [
    "The second evaluation function is the difference between the largest and smallest distance."
   ]
  },
  {
   "cell_type": "code",
   "execution_count": 26,
   "metadata": {
    "colab": {
     "base_uri": "https://localhost:8080/"
    },
    "id": "mfsOT25_fv_N",
    "outputId": "64915697-6150-4e9b-88a8-e68de81aa51b"
   },
   "outputs": [
    {
     "name": "stdout",
     "output_type": "stream",
     "text": [
      "The difference in the largest and the smallest distances traveled for this configuration is: 43393.29396573675\n"
     ]
    }
   ],
   "source": [
    "difference = max(trek_list) - min(trek_list)\n",
    "print('The difference in the largest and the smallest distances traveled for this configuration is:',difference)"
   ]
  },
  {
   "cell_type": "markdown",
   "metadata": {
    "id": "XP5z_ktRdmvq"
   },
   "source": [
    "We have the distance distribution, so we can get the standard deviation, our third evaluation function."
   ]
  },
  {
   "cell_type": "code",
   "execution_count": 27,
   "metadata": {
    "colab": {
     "base_uri": "https://localhost:8080/"
    },
    "id": "EZ0k3z0Udmvq",
    "outputId": "790f23f7-871f-4301-e3b8-73c1e3fde88a"
   },
   "outputs": [
    {
     "name": "stdout",
     "output_type": "stream",
     "text": [
      "The standard deviation for this configuration is: 12220.999097401962\n"
     ]
    }
   ],
   "source": [
    "standard_deviation = np.std(trek_list)\n",
    "print('The standard deviation for this configuration is:',standard_deviation)"
   ]
  },
  {
   "cell_type": "markdown",
   "metadata": {
    "id": "9x_PmYljdmvq"
   },
   "source": [
    "We mapped the process, step by step. We will use this to evaluate each configuration we create, so it is better to define a function for it."
   ]
  },
  {
   "cell_type": "code",
   "execution_count": 28,
   "metadata": {
    "id": "Eujy8jBydmvq"
   },
   "outputs": [],
   "source": [
    "def evaluation(team_order,match_order,round_order):\n",
    "    trek = []\n",
    "    rounds = round_order.columns\n",
    "    for jj in range(len(generic)):\n",
    "        team_trek = [generic[jj]] + 2*round_order.loc[generic[jj],:].tolist() + [generic[jj]]\n",
    "        for ii in range(len(rounds)):\n",
    "            if match_order.loc[generic[jj],rounds[ii]] == 0:\n",
    "                team_trek[ii+1] = generic[jj]\n",
    "            else:\n",
    "                team_trek[ii+team_order.shape[0]] = generic[jj]\n",
    "\n",
    "        trek.append(team_trek)\n",
    "\n",
    "    trek = pd.DataFrame(trek)\n",
    "    trek_list = []\n",
    "    for ii in range(trek.shape[0]):\n",
    "        team_travel = 0\n",
    "        for jj in range(trek.shape[1]-1):\n",
    "            team_travel += distances.loc[team_order.loc[trek.iloc[ii,jj],'Team'],\n",
    "                                      team_order.loc[trek.iloc[ii,jj+1],'Team']]\n",
    "\n",
    "        trek_list.append(team_travel)\n",
    "    total_distance = np.sum(trek_list)\n",
    "    difference = max(trek_list) - min(trek_list)\n",
    "    standard_deviation = np.std(trek_list)\n",
    "    optimization = [total_distance,difference,standard_deviation]\n",
    "    return optimization\n",
    "\n"
   ]
  },
  {
   "cell_type": "markdown",
   "metadata": {
    "id": "YlIgcjbcdmvr"
   },
   "source": [
    "## 7. Optimizing the Team Order"
   ]
  },
  {
   "cell_type": "markdown",
   "metadata": {
    "id": "j3M2d6pwdmvr"
   },
   "source": [
    "We are going to modify the order of the teams while keeping the locations and the matches tables fixed. In other words, we will define what team is '*Team01*, which one is '*Team02*', up to '*Team20*'."
   ]
  },
  {
   "cell_type": "code",
   "execution_count": 29,
   "metadata": {
    "id": "fQq91TZQdmvr"
   },
   "outputs": [],
   "source": [
    "matches_solution = matches.copy()\n",
    "location_solution = locations.copy()"
   ]
  },
  {
   "cell_type": "markdown",
   "metadata": {
    "id": "ikbAppNMdmvr"
   },
   "source": [
    "Our gene is a vector with the ordering of the teams, based on the original order."
   ]
  },
  {
   "cell_type": "code",
   "execution_count": 30,
   "metadata": {
    "colab": {
     "base_uri": "https://localhost:8080/"
    },
    "id": "Jq9md9rzdmvr",
    "outputId": "ed70887e-4a81-4ac7-97fc-52e66a0c1ea1"
   },
   "outputs": [
    {
     "name": "stdout",
     "output_type": "stream",
     "text": [
      "That is, the vector (0,1,2,3,4,5,6,7,8,9,10,11,12,13,141,15,16,17,18,19) is: ['Atlético Goianiense', 'Atlético Mineiro', 'Athletico Paranaense', 'Bahia', 'Botafogo', 'Ceará', 'Corinthians', 'Coritiba', 'Flamengo', 'Fluminense', 'Fortaleza', 'Goiás', 'Grêmio', 'Internacional', 'Palmeiras', 'Red Bull Bragantino', 'Santos', 'São Paulo', 'Sport', 'Vasco da Gama']\n"
     ]
    }
   ],
   "source": [
    "print('That is, the vector (0,1,2,3,4,5,6,7,8,9,10,11,12,13,141,15,16,17,18,19) is:', list_teams_20['Team'].tolist())"
   ]
  },
  {
   "cell_type": "markdown",
   "metadata": {
    "id": "FPhA6D0ydmvs"
   },
   "source": [
    "At the end of our algorithm, we will present a graph with the evolution of the best evaluation function for each generation. We hope to find an optimized value.<br>\n",
    "We have four parameters to define:\n",
    "1. the number of genes (configurations) we will evaluate in each generation: **6**;\n",
    "2. the number of genes we will use to create the new generation: **2**;\n",
    "3. the number of generations: **500**;\n",
    "4. the original configurations."
   ]
  },
  {
   "cell_type": "markdown",
   "metadata": {
    "id": "Sq9e2qhLdmvs"
   },
   "source": [
    "We will create six random configurations below."
   ]
  },
  {
   "cell_type": "code",
   "execution_count": 31,
   "metadata": {
    "colab": {
     "base_uri": "https://localhost:8080/",
     "height": 235
    },
    "id": "y08DHmDxdmvs",
    "outputId": "193a3dcf-1878-4169-92b1-af4cd66e61da"
   },
   "outputs": [
    {
     "data": {
      "text/html": [
       "<div>\n",
       "<style scoped>\n",
       "    .dataframe tbody tr th:only-of-type {\n",
       "        vertical-align: middle;\n",
       "    }\n",
       "\n",
       "    .dataframe tbody tr th {\n",
       "        vertical-align: top;\n",
       "    }\n",
       "\n",
       "    .dataframe thead th {\n",
       "        text-align: right;\n",
       "    }\n",
       "</style>\n",
       "<table border=\"1\" class=\"dataframe\">\n",
       "  <thead>\n",
       "    <tr style=\"text-align: right;\">\n",
       "      <th></th>\n",
       "      <th>0</th>\n",
       "      <th>1</th>\n",
       "      <th>2</th>\n",
       "      <th>3</th>\n",
       "      <th>4</th>\n",
       "      <th>5</th>\n",
       "      <th>6</th>\n",
       "      <th>7</th>\n",
       "      <th>8</th>\n",
       "      <th>9</th>\n",
       "      <th>10</th>\n",
       "      <th>11</th>\n",
       "      <th>12</th>\n",
       "      <th>13</th>\n",
       "      <th>14</th>\n",
       "      <th>15</th>\n",
       "      <th>16</th>\n",
       "      <th>17</th>\n",
       "      <th>18</th>\n",
       "      <th>19</th>\n",
       "    </tr>\n",
       "  </thead>\n",
       "  <tbody>\n",
       "    <tr>\n",
       "      <th>0</th>\n",
       "      <td>15</td>\n",
       "      <td>1</td>\n",
       "      <td>13</td>\n",
       "      <td>19</td>\n",
       "      <td>3</td>\n",
       "      <td>17</td>\n",
       "      <td>0</td>\n",
       "      <td>12</td>\n",
       "      <td>7</td>\n",
       "      <td>6</td>\n",
       "      <td>9</td>\n",
       "      <td>11</td>\n",
       "      <td>10</td>\n",
       "      <td>4</td>\n",
       "      <td>16</td>\n",
       "      <td>14</td>\n",
       "      <td>2</td>\n",
       "      <td>18</td>\n",
       "      <td>5</td>\n",
       "      <td>8</td>\n",
       "    </tr>\n",
       "    <tr>\n",
       "      <th>1</th>\n",
       "      <td>17</td>\n",
       "      <td>16</td>\n",
       "      <td>11</td>\n",
       "      <td>8</td>\n",
       "      <td>18</td>\n",
       "      <td>12</td>\n",
       "      <td>1</td>\n",
       "      <td>10</td>\n",
       "      <td>4</td>\n",
       "      <td>6</td>\n",
       "      <td>7</td>\n",
       "      <td>3</td>\n",
       "      <td>19</td>\n",
       "      <td>13</td>\n",
       "      <td>15</td>\n",
       "      <td>2</td>\n",
       "      <td>14</td>\n",
       "      <td>0</td>\n",
       "      <td>9</td>\n",
       "      <td>5</td>\n",
       "    </tr>\n",
       "    <tr>\n",
       "      <th>2</th>\n",
       "      <td>6</td>\n",
       "      <td>8</td>\n",
       "      <td>0</td>\n",
       "      <td>13</td>\n",
       "      <td>18</td>\n",
       "      <td>5</td>\n",
       "      <td>10</td>\n",
       "      <td>4</td>\n",
       "      <td>7</td>\n",
       "      <td>19</td>\n",
       "      <td>12</td>\n",
       "      <td>17</td>\n",
       "      <td>14</td>\n",
       "      <td>11</td>\n",
       "      <td>9</td>\n",
       "      <td>15</td>\n",
       "      <td>2</td>\n",
       "      <td>16</td>\n",
       "      <td>3</td>\n",
       "      <td>1</td>\n",
       "    </tr>\n",
       "    <tr>\n",
       "      <th>3</th>\n",
       "      <td>8</td>\n",
       "      <td>10</td>\n",
       "      <td>9</td>\n",
       "      <td>1</td>\n",
       "      <td>16</td>\n",
       "      <td>18</td>\n",
       "      <td>12</td>\n",
       "      <td>5</td>\n",
       "      <td>11</td>\n",
       "      <td>0</td>\n",
       "      <td>7</td>\n",
       "      <td>14</td>\n",
       "      <td>6</td>\n",
       "      <td>3</td>\n",
       "      <td>4</td>\n",
       "      <td>15</td>\n",
       "      <td>2</td>\n",
       "      <td>19</td>\n",
       "      <td>13</td>\n",
       "      <td>17</td>\n",
       "    </tr>\n",
       "    <tr>\n",
       "      <th>4</th>\n",
       "      <td>7</td>\n",
       "      <td>9</td>\n",
       "      <td>8</td>\n",
       "      <td>11</td>\n",
       "      <td>3</td>\n",
       "      <td>17</td>\n",
       "      <td>18</td>\n",
       "      <td>13</td>\n",
       "      <td>0</td>\n",
       "      <td>4</td>\n",
       "      <td>15</td>\n",
       "      <td>6</td>\n",
       "      <td>2</td>\n",
       "      <td>14</td>\n",
       "      <td>5</td>\n",
       "      <td>12</td>\n",
       "      <td>10</td>\n",
       "      <td>1</td>\n",
       "      <td>19</td>\n",
       "      <td>16</td>\n",
       "    </tr>\n",
       "    <tr>\n",
       "      <th>5</th>\n",
       "      <td>5</td>\n",
       "      <td>15</td>\n",
       "      <td>8</td>\n",
       "      <td>12</td>\n",
       "      <td>4</td>\n",
       "      <td>11</td>\n",
       "      <td>18</td>\n",
       "      <td>16</td>\n",
       "      <td>0</td>\n",
       "      <td>9</td>\n",
       "      <td>19</td>\n",
       "      <td>17</td>\n",
       "      <td>6</td>\n",
       "      <td>14</td>\n",
       "      <td>10</td>\n",
       "      <td>13</td>\n",
       "      <td>3</td>\n",
       "      <td>7</td>\n",
       "      <td>1</td>\n",
       "      <td>2</td>\n",
       "    </tr>\n",
       "  </tbody>\n",
       "</table>\n",
       "</div>"
      ],
      "text/plain": [
       "   0   1   2   3   4   5   6   7   8   9   10  11  12  13  14  15  16  17  18  \\\n",
       "0  15   1  13  19   3  17   0  12   7   6   9  11  10   4  16  14   2  18   5   \n",
       "1  17  16  11   8  18  12   1  10   4   6   7   3  19  13  15   2  14   0   9   \n",
       "2   6   8   0  13  18   5  10   4   7  19  12  17  14  11   9  15   2  16   3   \n",
       "3   8  10   9   1  16  18  12   5  11   0   7  14   6   3   4  15   2  19  13   \n",
       "4   7   9   8  11   3  17  18  13   0   4  15   6   2  14   5  12  10   1  19   \n",
       "5   5  15   8  12   4  11  18  16   0   9  19  17   6  14  10  13   3   7   1   \n",
       "\n",
       "   19  \n",
       "0   8  \n",
       "1   5  \n",
       "2   1  \n",
       "3  17  \n",
       "4  16  \n",
       "5   2  "
      ]
     },
     "execution_count": 31,
     "metadata": {},
     "output_type": "execute_result"
    }
   ],
   "source": [
    "import random\n",
    "gene_pool=[]\n",
    "for ii in range(6):\n",
    "    gene = random.sample(range(0, 20),k=20)\n",
    "    gene_pool.append(gene)\n",
    "        \n",
    "gene_pool=pd.DataFrame(gene_pool)\n",
    "gene_pool"
   ]
  },
  {
   "cell_type": "markdown",
   "metadata": {
    "id": "qM8Hlg9-dmvs"
   },
   "source": [
    "Here is the core of our algorithm. For each generation, six genes will be evaluated. The best two configurations will be kept and two new candidates will be created from each, by swapping the position of two teams.<br>\n",
    "At the end, we will have the order that minimizes our chosen evaluation function and a graph with the evolution of the metric for each generation."
   ]
  },
  {
   "cell_type": "markdown",
   "metadata": {
    "id": "3AsBMe-PskbO"
   },
   "source": [
    "### 7.1 First evaluation - Total Sum"
   ]
  },
  {
   "cell_type": "markdown",
   "metadata": {},
   "source": [
    "Starting with our first function, sum of the distances."
   ]
  },
  {
   "cell_type": "code",
   "execution_count": 32,
   "metadata": {
    "colab": {
     "base_uri": "https://localhost:8080/"
    },
    "id": "IuV4vxEClrwK",
    "outputId": "e259c2af-8bae-4396-d7a6-a1b55723d764"
   },
   "outputs": [
    {
     "name": "stdout",
     "output_type": "stream",
     "text": [
      "Generation: 0\n",
      "Generation: 50\n",
      "Generation: 100\n",
      "Generation: 150\n",
      "Generation: 200\n",
      "Generation: 250\n",
      "Generation: 300\n",
      "Generation: 350\n",
      "Generation: 400\n",
      "Generation: 450\n"
     ]
    }
   ],
   "source": [
    "generation=0\n",
    "max_generation=500\n",
    "metric=[]\n",
    "# Choose evaluation function: (0) Total (1) Difference (2) Standard Deviation\n",
    "method = 0 \n",
    "while (generation < max_generation):\n",
    "    if (generation%50 == 0):\n",
    "        print('Generation:', generation)\n",
    "    scores = []\n",
    "    #for each gene\n",
    "    for ii in range(gene_pool.shape[0]):\n",
    "        #creating team order\n",
    "        list_teams_gene = []\n",
    "        for jj in range(gene_pool.shape[1]):\n",
    "            list_teams_gene.append(list_teams_20['Team'].tolist()[gene_pool.iloc[ii,jj].astype(int)])\n",
    "        \n",
    "        team_order = list_teams.copy()\n",
    "        team_order['Team']=list_teams_gene\n",
    "        #evaluation function\n",
    "        scores.append(evaluation(team_order, location_solution, matches_solution)[method])\n",
    "    \n",
    "    #ranking results\n",
    "    gene_pool['evaluation']=scores\n",
    "    gene_pool = gene_pool.sort_values(by=['evaluation']).reset_index(drop=True)\n",
    "    \n",
    "    #storing best result\n",
    "    metric.append(gene_pool.iloc[0,-1])\n",
    "    \n",
    "    #creating new candidates\n",
    "    gene_pool.iloc[2,:] = gene_pool.iloc[0,:]\n",
    "    gene_pool.iloc[3,:] = gene_pool.iloc[0,:]\n",
    "    gene_pool.iloc[4,:] = gene_pool.iloc[1,:]\n",
    "    gene_pool.iloc[5,:] = gene_pool.iloc[1,:]\n",
    "    \n",
    "    for ii in range(2,6):\n",
    "        x1 = random.randint(0,19)\n",
    "        x2 = x1\n",
    "        while x2 == x1:\n",
    "            x2 = random.randint(0,19)\n",
    "        pos1 = gene_pool.iloc[ii,x1]\n",
    "        pos2 = gene_pool.iloc[ii,x2]\n",
    "        gene_pool.iloc[ii,x1] = pos2\n",
    "        gene_pool.iloc[ii,x2] = pos1\n",
    "    \n",
    "    #prepping for next generation\n",
    "    gene_pool.drop(columns=['evaluation'],inplace=True)\n",
    "    generation += 1\n",
    "    "
   ]
  },
  {
   "cell_type": "code",
   "execution_count": 33,
   "metadata": {
    "colab": {
     "base_uri": "https://localhost:8080/",
     "height": 295
    },
    "id": "cWFO5pZ7s5OX",
    "outputId": "554636ac-a959-41d3-abb1-7dbc4179dc2e"
   },
   "outputs": [
    {
     "data": {
      "image/png": "[encoded data removed]",
      "text/plain": [
       "<Figure size 432x288 with 1 Axes>"
      ]
     },
     "metadata": {
      "needs_background": "light"
     },
     "output_type": "display_data"
    }
   ],
   "source": [
    "plt.plot(range(max_generation), metric)\n",
    "plt.xlabel('Generation')\n",
    "plt.ylabel('Smallest total sum of distance')\n",
    "plt.title('Evolution of evaluation metric')\n",
    "plt.show()"
   ]
  },
  {
   "cell_type": "code",
   "execution_count": 34,
   "metadata": {
    "colab": {
     "base_uri": "https://localhost:8080/"
    },
    "id": "LL6IERf9up8u",
    "outputId": "b0b1f3f1-b5df-489a-cac4-fe5303496bac"
   },
   "outputs": [
    {
     "name": "stdout",
     "output_type": "stream",
     "text": [
      "The best configuration has a total distance of: 659363.8482429333 , ordered as below.\n",
      "The original order had a total of 725398.524505681 km. That means we reduced the total in 9 %\n"
     ]
    }
   ],
   "source": [
    "print('The best configuration has a total distance of:',metric[-1],', ordered as below.')\n",
    "print('The original order had a total of',total_distance,'km. That means we reduced the total in',round(100*(1-metric[-1]/total_distance)),'%')"
   ]
  },
  {
   "cell_type": "code",
   "execution_count": 35,
   "metadata": {
    "colab": {
     "base_uri": "https://localhost:8080/"
    },
    "id": "bDHradAOvbCm",
    "outputId": "0dc6b893-6885-444a-d2eb-5bae8e128f0d"
   },
   "outputs": [
    {
     "data": {
      "text/plain": [
       "['Botafogo',\n",
       " 'São Paulo',\n",
       " 'Santos',\n",
       " 'Grêmio',\n",
       " 'Athletico Paranaense',\n",
       " 'Red Bull Bragantino',\n",
       " 'Sport',\n",
       " 'Corinthians',\n",
       " 'Goiás',\n",
       " 'Vasco da Gama',\n",
       " 'Flamengo',\n",
       " 'Fortaleza',\n",
       " 'Palmeiras',\n",
       " 'Bahia',\n",
       " 'Fluminense',\n",
       " 'Coritiba',\n",
       " 'Internacional',\n",
       " 'Atlético Mineiro',\n",
       " 'Ceará',\n",
       " 'Atlético Goianiense']"
      ]
     },
     "execution_count": 35,
     "metadata": {},
     "output_type": "execute_result"
    }
   ],
   "source": [
    "best_list_teams = []\n",
    "for jj in range(gene_pool.shape[1]):\n",
    "    best_list_teams.append(list_teams_20['Team'].tolist()[gene_pool.iloc[0,jj].astype(int)])\n",
    "best_list_teams     "
   ]
  },
  {
   "cell_type": "code",
   "execution_count": 36,
   "metadata": {
    "colab": {
     "base_uri": "https://localhost:8080/",
     "height": 700
    },
    "id": "HKVOAVCOvlop",
    "outputId": "32e1a1cc-b7a1-40cd-cfe2-f6b73633a31c"
   },
   "outputs": [
    {
     "data": {
      "text/html": [
       "<div>\n",
       "<style scoped>\n",
       "    .dataframe tbody tr th:only-of-type {\n",
       "        vertical-align: middle;\n",
       "    }\n",
       "\n",
       "    .dataframe tbody tr th {\n",
       "        vertical-align: top;\n",
       "    }\n",
       "\n",
       "    .dataframe thead th {\n",
       "        text-align: right;\n",
       "    }\n",
       "</style>\n",
       "<table border=\"1\" class=\"dataframe\">\n",
       "  <thead>\n",
       "    <tr style=\"text-align: right;\">\n",
       "      <th></th>\n",
       "      <th>Team</th>\n",
       "      <th>Total Distance</th>\n",
       "    </tr>\n",
       "    <tr>\n",
       "      <th>Team</th>\n",
       "      <th></th>\n",
       "      <th></th>\n",
       "    </tr>\n",
       "  </thead>\n",
       "  <tbody>\n",
       "    <tr>\n",
       "      <th>Team01</th>\n",
       "      <td>Botafogo</td>\n",
       "      <td>29380.750887</td>\n",
       "    </tr>\n",
       "    <tr>\n",
       "      <th>Team02</th>\n",
       "      <td>São Paulo</td>\n",
       "      <td>23179.576684</td>\n",
       "    </tr>\n",
       "    <tr>\n",
       "      <th>Team03</th>\n",
       "      <td>Santos</td>\n",
       "      <td>27864.516127</td>\n",
       "    </tr>\n",
       "    <tr>\n",
       "      <th>Team04</th>\n",
       "      <td>Grêmio</td>\n",
       "      <td>36769.010348</td>\n",
       "    </tr>\n",
       "    <tr>\n",
       "      <th>Team05</th>\n",
       "      <td>Athletico Paranaense</td>\n",
       "      <td>31855.342649</td>\n",
       "    </tr>\n",
       "    <tr>\n",
       "      <th>Team06</th>\n",
       "      <td>Red Bull Bragantino</td>\n",
       "      <td>26768.478096</td>\n",
       "    </tr>\n",
       "    <tr>\n",
       "      <th>Team07</th>\n",
       "      <td>Sport</td>\n",
       "      <td>55896.261040</td>\n",
       "    </tr>\n",
       "    <tr>\n",
       "      <th>Team08</th>\n",
       "      <td>Corinthians</td>\n",
       "      <td>23947.545786</td>\n",
       "    </tr>\n",
       "    <tr>\n",
       "      <th>Team09</th>\n",
       "      <td>Goiás</td>\n",
       "      <td>29436.584653</td>\n",
       "    </tr>\n",
       "    <tr>\n",
       "      <th>Team10</th>\n",
       "      <td>Vasco da Gama</td>\n",
       "      <td>28233.518911</td>\n",
       "    </tr>\n",
       "    <tr>\n",
       "      <th>Team11</th>\n",
       "      <td>Flamengo</td>\n",
       "      <td>24983.248579</td>\n",
       "    </tr>\n",
       "    <tr>\n",
       "      <th>Team12</th>\n",
       "      <td>Fortaleza</td>\n",
       "      <td>55673.149781</td>\n",
       "    </tr>\n",
       "    <tr>\n",
       "      <th>Team13</th>\n",
       "      <td>Palmeiras</td>\n",
       "      <td>21159.790566</td>\n",
       "    </tr>\n",
       "    <tr>\n",
       "      <th>Team14</th>\n",
       "      <td>Bahia</td>\n",
       "      <td>39454.274237</td>\n",
       "    </tr>\n",
       "    <tr>\n",
       "      <th>Team15</th>\n",
       "      <td>Fluminense</td>\n",
       "      <td>29249.244876</td>\n",
       "    </tr>\n",
       "    <tr>\n",
       "      <th>Team16</th>\n",
       "      <td>Coritiba</td>\n",
       "      <td>23725.996857</td>\n",
       "    </tr>\n",
       "    <tr>\n",
       "      <th>Team17</th>\n",
       "      <td>Internacional</td>\n",
       "      <td>36195.738749</td>\n",
       "    </tr>\n",
       "    <tr>\n",
       "      <th>Team18</th>\n",
       "      <td>Atlético Mineiro</td>\n",
       "      <td>29768.471844</td>\n",
       "    </tr>\n",
       "    <tr>\n",
       "      <th>Team19</th>\n",
       "      <td>Ceará</td>\n",
       "      <td>51768.976352</td>\n",
       "    </tr>\n",
       "    <tr>\n",
       "      <th>Team20</th>\n",
       "      <td>Atlético Goianiense</td>\n",
       "      <td>34053.371221</td>\n",
       "    </tr>\n",
       "  </tbody>\n",
       "</table>\n",
       "</div>"
      ],
      "text/plain": [
       "                        Team  Total Distance\n",
       "Team                                        \n",
       "Team01              Botafogo    29380.750887\n",
       "Team02             São Paulo    23179.576684\n",
       "Team03                Santos    27864.516127\n",
       "Team04                Grêmio    36769.010348\n",
       "Team05  Athletico Paranaense    31855.342649\n",
       "Team06   Red Bull Bragantino    26768.478096\n",
       "Team07                 Sport    55896.261040\n",
       "Team08           Corinthians    23947.545786\n",
       "Team09                 Goiás    29436.584653\n",
       "Team10         Vasco da Gama    28233.518911\n",
       "Team11              Flamengo    24983.248579\n",
       "Team12             Fortaleza    55673.149781\n",
       "Team13             Palmeiras    21159.790566\n",
       "Team14                 Bahia    39454.274237\n",
       "Team15            Fluminense    29249.244876\n",
       "Team16              Coritiba    23725.996857\n",
       "Team17         Internacional    36195.738749\n",
       "Team18      Atlético Mineiro    29768.471844\n",
       "Team19                 Ceará    51768.976352\n",
       "Team20   Atlético Goianiense    34053.371221"
      ]
     },
     "execution_count": 36,
     "metadata": {},
     "output_type": "execute_result"
    }
   ],
   "source": [
    "best_order_teams = list_teams.copy()\n",
    "best_order_teams['Team'] = best_list_teams\n",
    "trek_list = []\n",
    "for ii in range(trek.shape[0]):\n",
    "    team_trek=0\n",
    "    for jj in range(trek.shape[1]-1):\n",
    "        team_trek += distances.loc[best_order_teams.loc[trek.iloc[ii,jj],'Team'],\n",
    "                                  best_order_teams.loc[trek.iloc[ii,jj+1],'Team']]\n",
    "    \n",
    "    trek_list.append(team_trek)\n",
    "best_order_teams['Total Distance']=trek_list\n",
    "best_order_teams"
   ]
  },
  {
   "cell_type": "code",
   "execution_count": 37,
   "metadata": {
    "colab": {
     "base_uri": "https://localhost:8080/",
     "height": 295
    },
    "id": "dSNjHwvSv1ZJ",
    "outputId": "4180fd2a-2c2f-48dd-acce-5051e125644a"
   },
   "outputs": [
    {
     "data": {
      "image/png": "[encoded data removed]",
      "text/plain": [
       "<Figure size 432x288 with 1 Axes>"
      ]
     },
     "metadata": {
      "needs_background": "light"
     },
     "output_type": "display_data"
    }
   ],
   "source": [
    "plt.hist(trek_list, bins = 6)\n",
    "plt.xlabel('Total Distance')\n",
    "plt.ylabel('Number of Teams')\n",
    "plt.title('Distance Distribution')\n",
    "plt.show()"
   ]
  },
  {
   "cell_type": "markdown",
   "metadata": {},
   "source": [
    "### 7.2 Second evaluation - Difference"
   ]
  },
  {
   "cell_type": "markdown",
   "metadata": {
    "id": "9LtlhMNcwAGI"
   },
   "source": [
    "Moving on to the second function, the difference between the smaller and the largest distance."
   ]
  },
  {
   "cell_type": "code",
   "execution_count": 38,
   "metadata": {},
   "outputs": [
    {
     "data": {
      "text/html": [
       "<div>\n",
       "<style scoped>\n",
       "    .dataframe tbody tr th:only-of-type {\n",
       "        vertical-align: middle;\n",
       "    }\n",
       "\n",
       "    .dataframe tbody tr th {\n",
       "        vertical-align: top;\n",
       "    }\n",
       "\n",
       "    .dataframe thead th {\n",
       "        text-align: right;\n",
       "    }\n",
       "</style>\n",
       "<table border=\"1\" class=\"dataframe\">\n",
       "  <thead>\n",
       "    <tr style=\"text-align: right;\">\n",
       "      <th></th>\n",
       "      <th>0</th>\n",
       "      <th>1</th>\n",
       "      <th>2</th>\n",
       "      <th>3</th>\n",
       "      <th>4</th>\n",
       "      <th>5</th>\n",
       "      <th>6</th>\n",
       "      <th>7</th>\n",
       "      <th>8</th>\n",
       "      <th>9</th>\n",
       "      <th>10</th>\n",
       "      <th>11</th>\n",
       "      <th>12</th>\n",
       "      <th>13</th>\n",
       "      <th>14</th>\n",
       "      <th>15</th>\n",
       "      <th>16</th>\n",
       "      <th>17</th>\n",
       "      <th>18</th>\n",
       "      <th>19</th>\n",
       "    </tr>\n",
       "  </thead>\n",
       "  <tbody>\n",
       "    <tr>\n",
       "      <th>0</th>\n",
       "      <td>12</td>\n",
       "      <td>0</td>\n",
       "      <td>7</td>\n",
       "      <td>3</td>\n",
       "      <td>13</td>\n",
       "      <td>10</td>\n",
       "      <td>15</td>\n",
       "      <td>16</td>\n",
       "      <td>11</td>\n",
       "      <td>14</td>\n",
       "      <td>5</td>\n",
       "      <td>8</td>\n",
       "      <td>6</td>\n",
       "      <td>1</td>\n",
       "      <td>2</td>\n",
       "      <td>18</td>\n",
       "      <td>19</td>\n",
       "      <td>17</td>\n",
       "      <td>4</td>\n",
       "      <td>9</td>\n",
       "    </tr>\n",
       "    <tr>\n",
       "      <th>1</th>\n",
       "      <td>0</td>\n",
       "      <td>14</td>\n",
       "      <td>15</td>\n",
       "      <td>17</td>\n",
       "      <td>6</td>\n",
       "      <td>4</td>\n",
       "      <td>1</td>\n",
       "      <td>12</td>\n",
       "      <td>3</td>\n",
       "      <td>16</td>\n",
       "      <td>11</td>\n",
       "      <td>8</td>\n",
       "      <td>18</td>\n",
       "      <td>13</td>\n",
       "      <td>9</td>\n",
       "      <td>7</td>\n",
       "      <td>10</td>\n",
       "      <td>19</td>\n",
       "      <td>5</td>\n",
       "      <td>2</td>\n",
       "    </tr>\n",
       "    <tr>\n",
       "      <th>2</th>\n",
       "      <td>17</td>\n",
       "      <td>6</td>\n",
       "      <td>10</td>\n",
       "      <td>18</td>\n",
       "      <td>9</td>\n",
       "      <td>0</td>\n",
       "      <td>13</td>\n",
       "      <td>19</td>\n",
       "      <td>5</td>\n",
       "      <td>1</td>\n",
       "      <td>16</td>\n",
       "      <td>15</td>\n",
       "      <td>7</td>\n",
       "      <td>12</td>\n",
       "      <td>2</td>\n",
       "      <td>4</td>\n",
       "      <td>3</td>\n",
       "      <td>14</td>\n",
       "      <td>11</td>\n",
       "      <td>8</td>\n",
       "    </tr>\n",
       "    <tr>\n",
       "      <th>3</th>\n",
       "      <td>8</td>\n",
       "      <td>1</td>\n",
       "      <td>3</td>\n",
       "      <td>19</td>\n",
       "      <td>16</td>\n",
       "      <td>0</td>\n",
       "      <td>2</td>\n",
       "      <td>17</td>\n",
       "      <td>7</td>\n",
       "      <td>10</td>\n",
       "      <td>5</td>\n",
       "      <td>18</td>\n",
       "      <td>6</td>\n",
       "      <td>15</td>\n",
       "      <td>9</td>\n",
       "      <td>4</td>\n",
       "      <td>12</td>\n",
       "      <td>14</td>\n",
       "      <td>11</td>\n",
       "      <td>13</td>\n",
       "    </tr>\n",
       "    <tr>\n",
       "      <th>4</th>\n",
       "      <td>10</td>\n",
       "      <td>3</td>\n",
       "      <td>8</td>\n",
       "      <td>13</td>\n",
       "      <td>9</td>\n",
       "      <td>12</td>\n",
       "      <td>11</td>\n",
       "      <td>2</td>\n",
       "      <td>0</td>\n",
       "      <td>15</td>\n",
       "      <td>5</td>\n",
       "      <td>19</td>\n",
       "      <td>16</td>\n",
       "      <td>18</td>\n",
       "      <td>7</td>\n",
       "      <td>6</td>\n",
       "      <td>4</td>\n",
       "      <td>1</td>\n",
       "      <td>14</td>\n",
       "      <td>17</td>\n",
       "    </tr>\n",
       "    <tr>\n",
       "      <th>5</th>\n",
       "      <td>18</td>\n",
       "      <td>5</td>\n",
       "      <td>3</td>\n",
       "      <td>0</td>\n",
       "      <td>11</td>\n",
       "      <td>7</td>\n",
       "      <td>10</td>\n",
       "      <td>8</td>\n",
       "      <td>1</td>\n",
       "      <td>12</td>\n",
       "      <td>6</td>\n",
       "      <td>2</td>\n",
       "      <td>9</td>\n",
       "      <td>13</td>\n",
       "      <td>15</td>\n",
       "      <td>17</td>\n",
       "      <td>14</td>\n",
       "      <td>4</td>\n",
       "      <td>16</td>\n",
       "      <td>19</td>\n",
       "    </tr>\n",
       "  </tbody>\n",
       "</table>\n",
       "</div>"
      ],
      "text/plain": [
       "   0   1   2   3   4   5   6   7   8   9   10  11  12  13  14  15  16  17  18  \\\n",
       "0  12   0   7   3  13  10  15  16  11  14   5   8   6   1   2  18  19  17   4   \n",
       "1   0  14  15  17   6   4   1  12   3  16  11   8  18  13   9   7  10  19   5   \n",
       "2  17   6  10  18   9   0  13  19   5   1  16  15   7  12   2   4   3  14  11   \n",
       "3   8   1   3  19  16   0   2  17   7  10   5  18   6  15   9   4  12  14  11   \n",
       "4  10   3   8  13   9  12  11   2   0  15   5  19  16  18   7   6   4   1  14   \n",
       "5  18   5   3   0  11   7  10   8   1  12   6   2   9  13  15  17  14   4  16   \n",
       "\n",
       "   19  \n",
       "0   9  \n",
       "1   2  \n",
       "2   8  \n",
       "3  13  \n",
       "4  17  \n",
       "5  19  "
      ]
     },
     "execution_count": 38,
     "metadata": {},
     "output_type": "execute_result"
    }
   ],
   "source": [
    "gene_pool=[]\n",
    "for ii in range(6):\n",
    "    gene = random.sample(range(0, 20),k=20)\n",
    "    gene_pool.append(gene)\n",
    "        \n",
    "gene_pool=pd.DataFrame(gene_pool)\n",
    "gene_pool"
   ]
  },
  {
   "cell_type": "code",
   "execution_count": 39,
   "metadata": {
    "colab": {
     "base_uri": "https://localhost:8080/"
    },
    "id": "YDp8SFQywLDS",
    "outputId": "27ddce2e-e713-48a7-bc1d-b141c8df936b"
   },
   "outputs": [
    {
     "name": "stdout",
     "output_type": "stream",
     "text": [
      "Generation: 0\n",
      "Generation: 50\n",
      "Generation: 100\n",
      "Generation: 150\n",
      "Generation: 200\n",
      "Generation: 250\n",
      "Generation: 300\n",
      "Generation: 350\n",
      "Generation: 400\n",
      "Generation: 450\n"
     ]
    }
   ],
   "source": [
    "generation=0\n",
    "max_generation=500\n",
    "metric=[]\n",
    "# Choose evaluation function: (0) Total (1) Difference (2) Standard Deviation\n",
    "method = 1 \n",
    "while (generation < max_generation):\n",
    "    if (generation%50 == 0):\n",
    "        print('Generation:', generation)\n",
    "    scores = []\n",
    "    #for each gene\n",
    "    for ii in range(gene_pool.shape[0]):\n",
    "        #creating team order\n",
    "        list_teams_gene = []\n",
    "        for jj in range(gene_pool.shape[1]):\n",
    "            list_teams_gene.append(list_teams_20['Team'].tolist()[gene_pool.iloc[ii,jj].astype(int)])\n",
    "        \n",
    "        team_order = list_teams.copy()\n",
    "        team_order['Team']=list_teams_gene\n",
    "        #evaluation function\n",
    "        scores.append(evaluation(team_order, location_solution, matches_solution)[method])\n",
    "    \n",
    "    #ranking results\n",
    "    gene_pool['evaluation']=scores\n",
    "    gene_pool = gene_pool.sort_values(by=['evaluation']).reset_index(drop=True)\n",
    "    \n",
    "    #storing best result\n",
    "    metric.append(gene_pool.iloc[0,-1])\n",
    "    \n",
    "    #creating new candidates\n",
    "    gene_pool.iloc[2,:] = gene_pool.iloc[0,:]\n",
    "    gene_pool.iloc[3,:] = gene_pool.iloc[0,:]\n",
    "    gene_pool.iloc[4,:] = gene_pool.iloc[1,:]\n",
    "    gene_pool.iloc[5,:] = gene_pool.iloc[1,:]\n",
    "    \n",
    "    for ii in range(2,6):\n",
    "        x1 = random.randint(0,19)\n",
    "        x2 = x1\n",
    "        while x2 == x1:\n",
    "            x2 = random.randint(0,19)\n",
    "        pos1 = gene_pool.iloc[ii,x1]\n",
    "        pos2 = gene_pool.iloc[ii,x2]\n",
    "        gene_pool.iloc[ii,x1] = pos2\n",
    "        gene_pool.iloc[ii,x2] = pos1\n",
    "    \n",
    "    #prepping for next generation\n",
    "    gene_pool.drop(columns=['evaluation'],inplace=True)\n",
    "    generation += 1\n",
    "    "
   ]
  },
  {
   "cell_type": "code",
   "execution_count": 40,
   "metadata": {
    "colab": {
     "base_uri": "https://localhost:8080/",
     "height": 295
    },
    "id": "SCLxnDOSwV4s",
    "outputId": "a9634794-7fb2-421b-90ba-8b776120e62c"
   },
   "outputs": [
    {
     "data": {
      "image/png": "[encoded data removed]",
      "text/plain": [
       "<Figure size 432x288 with 1 Axes>"
      ]
     },
     "metadata": {
      "needs_background": "light"
     },
     "output_type": "display_data"
    }
   ],
   "source": [
    "plt.plot(range(max_generation), metric)\n",
    "plt.xlabel('Generation')\n",
    "plt.ylabel('Smallest difference in distance')\n",
    "plt.title('Evolution of evaluation metric')\n",
    "plt.show()"
   ]
  },
  {
   "cell_type": "code",
   "execution_count": 41,
   "metadata": {
    "colab": {
     "base_uri": "https://localhost:8080/"
    },
    "id": "fmIRnNVnwjXm",
    "outputId": "b096efb6-0170-4d8f-e2bd-44cf1269800f"
   },
   "outputs": [
    {
     "name": "stdout",
     "output_type": "stream",
     "text": [
      "The best configuration has a difference of distance of: 26492.703026263618 , ordered as below.\n",
      "The original order had a difference of 43393.29396573675 km. That means we reduced the total in 39 %\n"
     ]
    }
   ],
   "source": [
    "print('The best configuration has a difference of distance of:',metric[-1],', ordered as below.')\n",
    "print('The original order had a difference of',difference,'km. That means we reduced the total in',round(100*(1-metric[-1]/difference)),'%')"
   ]
  },
  {
   "cell_type": "code",
   "execution_count": 42,
   "metadata": {
    "colab": {
     "base_uri": "https://localhost:8080/"
    },
    "id": "roUltuR7wa8x",
    "outputId": "a54bbc21-02ce-4e58-c740-5b927239f472"
   },
   "outputs": [
    {
     "data": {
      "text/plain": [
       "['Corinthians',\n",
       " 'Athletico Paranaense',\n",
       " 'Fortaleza',\n",
       " 'Goiás',\n",
       " 'Coritiba',\n",
       " 'São Paulo',\n",
       " 'Internacional',\n",
       " 'Vasco da Gama',\n",
       " 'Santos',\n",
       " 'Flamengo',\n",
       " 'Palmeiras',\n",
       " 'Atlético Mineiro',\n",
       " 'Fluminense',\n",
       " 'Grêmio',\n",
       " 'Bahia',\n",
       " 'Sport',\n",
       " 'Botafogo',\n",
       " 'Red Bull Bragantino',\n",
       " 'Ceará',\n",
       " 'Atlético Goianiense']"
      ]
     },
     "execution_count": 42,
     "metadata": {},
     "output_type": "execute_result"
    }
   ],
   "source": [
    "best_list_teams = []\n",
    "for jj in range(gene_pool.shape[1]):\n",
    "    best_list_teams.append(list_teams_20['Team'].tolist()[gene_pool.iloc[0,jj].astype(int)])\n",
    "best_list_teams    "
   ]
  },
  {
   "cell_type": "code",
   "execution_count": 43,
   "metadata": {
    "colab": {
     "base_uri": "https://localhost:8080/",
     "height": 700
    },
    "id": "zzQC7-E1yFIn",
    "outputId": "64873775-5582-481f-a534-8ae549df22d4"
   },
   "outputs": [
    {
     "data": {
      "text/html": [
       "<div>\n",
       "<style scoped>\n",
       "    .dataframe tbody tr th:only-of-type {\n",
       "        vertical-align: middle;\n",
       "    }\n",
       "\n",
       "    .dataframe tbody tr th {\n",
       "        vertical-align: top;\n",
       "    }\n",
       "\n",
       "    .dataframe thead th {\n",
       "        text-align: right;\n",
       "    }\n",
       "</style>\n",
       "<table border=\"1\" class=\"dataframe\">\n",
       "  <thead>\n",
       "    <tr style=\"text-align: right;\">\n",
       "      <th></th>\n",
       "      <th>Team</th>\n",
       "      <th>Total Distance</th>\n",
       "    </tr>\n",
       "    <tr>\n",
       "      <th>Team</th>\n",
       "      <th></th>\n",
       "      <th></th>\n",
       "    </tr>\n",
       "  </thead>\n",
       "  <tbody>\n",
       "    <tr>\n",
       "      <th>Team01</th>\n",
       "      <td>Corinthians</td>\n",
       "      <td>28120.655441</td>\n",
       "    </tr>\n",
       "    <tr>\n",
       "      <th>Team02</th>\n",
       "      <td>Athletico Paranaense</td>\n",
       "      <td>31886.058943</td>\n",
       "    </tr>\n",
       "    <tr>\n",
       "      <th>Team03</th>\n",
       "      <td>Fortaleza</td>\n",
       "      <td>53320.624986</td>\n",
       "    </tr>\n",
       "    <tr>\n",
       "      <th>Team04</th>\n",
       "      <td>Goiás</td>\n",
       "      <td>33102.709863</td>\n",
       "    </tr>\n",
       "    <tr>\n",
       "      <th>Team05</th>\n",
       "      <td>Coritiba</td>\n",
       "      <td>31880.614706</td>\n",
       "    </tr>\n",
       "    <tr>\n",
       "      <th>Team06</th>\n",
       "      <td>São Paulo</td>\n",
       "      <td>27114.299730</td>\n",
       "    </tr>\n",
       "    <tr>\n",
       "      <th>Team07</th>\n",
       "      <td>Internacional</td>\n",
       "      <td>37333.614771</td>\n",
       "    </tr>\n",
       "    <tr>\n",
       "      <th>Team08</th>\n",
       "      <td>Vasco da Gama</td>\n",
       "      <td>27618.675347</td>\n",
       "    </tr>\n",
       "    <tr>\n",
       "      <th>Team09</th>\n",
       "      <td>Santos</td>\n",
       "      <td>27224.687815</td>\n",
       "    </tr>\n",
       "    <tr>\n",
       "      <th>Team10</th>\n",
       "      <td>Flamengo</td>\n",
       "      <td>28538.183556</td>\n",
       "    </tr>\n",
       "    <tr>\n",
       "      <th>Team11</th>\n",
       "      <td>Palmeiras</td>\n",
       "      <td>28473.986612</td>\n",
       "    </tr>\n",
       "    <tr>\n",
       "      <th>Team12</th>\n",
       "      <td>Atlético Mineiro</td>\n",
       "      <td>28496.259243</td>\n",
       "    </tr>\n",
       "    <tr>\n",
       "      <th>Team13</th>\n",
       "      <td>Fluminense</td>\n",
       "      <td>27639.079405</td>\n",
       "    </tr>\n",
       "    <tr>\n",
       "      <th>Team14</th>\n",
       "      <td>Grêmio</td>\n",
       "      <td>42801.013252</td>\n",
       "    </tr>\n",
       "    <tr>\n",
       "      <th>Team15</th>\n",
       "      <td>Bahia</td>\n",
       "      <td>44801.699077</td>\n",
       "    </tr>\n",
       "    <tr>\n",
       "      <th>Team16</th>\n",
       "      <td>Sport</td>\n",
       "      <td>53429.417413</td>\n",
       "    </tr>\n",
       "    <tr>\n",
       "      <th>Team17</th>\n",
       "      <td>Botafogo</td>\n",
       "      <td>26936.714387</td>\n",
       "    </tr>\n",
       "    <tr>\n",
       "      <th>Team18</th>\n",
       "      <td>Red Bull Bragantino</td>\n",
       "      <td>27879.608018</td>\n",
       "    </tr>\n",
       "    <tr>\n",
       "      <th>Team19</th>\n",
       "      <td>Ceará</td>\n",
       "      <td>52186.412543</td>\n",
       "    </tr>\n",
       "    <tr>\n",
       "      <th>Team20</th>\n",
       "      <td>Atlético Goianiense</td>\n",
       "      <td>33882.248450</td>\n",
       "    </tr>\n",
       "  </tbody>\n",
       "</table>\n",
       "</div>"
      ],
      "text/plain": [
       "                        Team  Total Distance\n",
       "Team                                        \n",
       "Team01           Corinthians    28120.655441\n",
       "Team02  Athletico Paranaense    31886.058943\n",
       "Team03             Fortaleza    53320.624986\n",
       "Team04                 Goiás    33102.709863\n",
       "Team05              Coritiba    31880.614706\n",
       "Team06             São Paulo    27114.299730\n",
       "Team07         Internacional    37333.614771\n",
       "Team08         Vasco da Gama    27618.675347\n",
       "Team09                Santos    27224.687815\n",
       "Team10              Flamengo    28538.183556\n",
       "Team11             Palmeiras    28473.986612\n",
       "Team12      Atlético Mineiro    28496.259243\n",
       "Team13            Fluminense    27639.079405\n",
       "Team14                Grêmio    42801.013252\n",
       "Team15                 Bahia    44801.699077\n",
       "Team16                 Sport    53429.417413\n",
       "Team17              Botafogo    26936.714387\n",
       "Team18   Red Bull Bragantino    27879.608018\n",
       "Team19                 Ceará    52186.412543\n",
       "Team20   Atlético Goianiense    33882.248450"
      ]
     },
     "execution_count": 43,
     "metadata": {},
     "output_type": "execute_result"
    }
   ],
   "source": [
    "best_order_teams = list_teams.copy()\n",
    "best_order_teams['Team'] = best_list_teams\n",
    "trek_list = []\n",
    "for ii in range(trek.shape[0]):\n",
    "    team_trek=0\n",
    "    for jj in range(trek.shape[1]-1):\n",
    "        team_trek += distances.loc[best_order_teams.loc[trek.iloc[ii,jj],'Team'],\n",
    "                                  best_order_teams.loc[trek.iloc[ii,jj+1],'Team']]\n",
    "    \n",
    "    trek_list.append(team_trek)\n",
    "best_order_teams['Total Distance']=trek_list\n",
    "best_order_teams"
   ]
  },
  {
   "cell_type": "code",
   "execution_count": 44,
   "metadata": {
    "colab": {
     "base_uri": "https://localhost:8080/",
     "height": 295
    },
    "id": "pYdYaZ3RySiC",
    "outputId": "929d537a-1cfc-41be-fa22-848718ff7419"
   },
   "outputs": [
    {
     "data": {
      "image/png": "[encoded data removed]",
      "text/plain": [
       "<Figure size 432x288 with 1 Axes>"
      ]
     },
     "metadata": {
      "needs_background": "light"
     },
     "output_type": "display_data"
    }
   ],
   "source": [
    "plt.hist(trek_list, bins = 6)\n",
    "plt.xlabel('Total Distance')\n",
    "plt.ylabel('Number of Teams')\n",
    "plt.title('Distance Distribution')\n",
    "plt.show()"
   ]
  },
  {
   "cell_type": "markdown",
   "metadata": {},
   "source": [
    "### 7.3 Third evaluation - Standard Deviation"
   ]
  },
  {
   "cell_type": "markdown",
   "metadata": {
    "id": "xk9P4iRQyVLt"
   },
   "source": [
    "Moving on to the third function, the standard deviation of the distance distribution. "
   ]
  },
  {
   "cell_type": "code",
   "execution_count": 45,
   "metadata": {},
   "outputs": [
    {
     "data": {
      "text/html": [
       "<div>\n",
       "<style scoped>\n",
       "    .dataframe tbody tr th:only-of-type {\n",
       "        vertical-align: middle;\n",
       "    }\n",
       "\n",
       "    .dataframe tbody tr th {\n",
       "        vertical-align: top;\n",
       "    }\n",
       "\n",
       "    .dataframe thead th {\n",
       "        text-align: right;\n",
       "    }\n",
       "</style>\n",
       "<table border=\"1\" class=\"dataframe\">\n",
       "  <thead>\n",
       "    <tr style=\"text-align: right;\">\n",
       "      <th></th>\n",
       "      <th>0</th>\n",
       "      <th>1</th>\n",
       "      <th>2</th>\n",
       "      <th>3</th>\n",
       "      <th>4</th>\n",
       "      <th>5</th>\n",
       "      <th>6</th>\n",
       "      <th>7</th>\n",
       "      <th>8</th>\n",
       "      <th>9</th>\n",
       "      <th>10</th>\n",
       "      <th>11</th>\n",
       "      <th>12</th>\n",
       "      <th>13</th>\n",
       "      <th>14</th>\n",
       "      <th>15</th>\n",
       "      <th>16</th>\n",
       "      <th>17</th>\n",
       "      <th>18</th>\n",
       "      <th>19</th>\n",
       "    </tr>\n",
       "  </thead>\n",
       "  <tbody>\n",
       "    <tr>\n",
       "      <th>0</th>\n",
       "      <td>16</td>\n",
       "      <td>3</td>\n",
       "      <td>11</td>\n",
       "      <td>12</td>\n",
       "      <td>9</td>\n",
       "      <td>18</td>\n",
       "      <td>1</td>\n",
       "      <td>7</td>\n",
       "      <td>14</td>\n",
       "      <td>2</td>\n",
       "      <td>6</td>\n",
       "      <td>5</td>\n",
       "      <td>13</td>\n",
       "      <td>4</td>\n",
       "      <td>19</td>\n",
       "      <td>8</td>\n",
       "      <td>17</td>\n",
       "      <td>15</td>\n",
       "      <td>10</td>\n",
       "      <td>0</td>\n",
       "    </tr>\n",
       "    <tr>\n",
       "      <th>1</th>\n",
       "      <td>6</td>\n",
       "      <td>2</td>\n",
       "      <td>19</td>\n",
       "      <td>10</td>\n",
       "      <td>8</td>\n",
       "      <td>17</td>\n",
       "      <td>5</td>\n",
       "      <td>11</td>\n",
       "      <td>18</td>\n",
       "      <td>13</td>\n",
       "      <td>16</td>\n",
       "      <td>1</td>\n",
       "      <td>0</td>\n",
       "      <td>15</td>\n",
       "      <td>12</td>\n",
       "      <td>3</td>\n",
       "      <td>9</td>\n",
       "      <td>14</td>\n",
       "      <td>4</td>\n",
       "      <td>7</td>\n",
       "    </tr>\n",
       "    <tr>\n",
       "      <th>2</th>\n",
       "      <td>6</td>\n",
       "      <td>15</td>\n",
       "      <td>12</td>\n",
       "      <td>8</td>\n",
       "      <td>18</td>\n",
       "      <td>0</td>\n",
       "      <td>17</td>\n",
       "      <td>11</td>\n",
       "      <td>9</td>\n",
       "      <td>19</td>\n",
       "      <td>14</td>\n",
       "      <td>1</td>\n",
       "      <td>5</td>\n",
       "      <td>2</td>\n",
       "      <td>7</td>\n",
       "      <td>16</td>\n",
       "      <td>13</td>\n",
       "      <td>10</td>\n",
       "      <td>3</td>\n",
       "      <td>4</td>\n",
       "    </tr>\n",
       "    <tr>\n",
       "      <th>3</th>\n",
       "      <td>3</td>\n",
       "      <td>6</td>\n",
       "      <td>16</td>\n",
       "      <td>13</td>\n",
       "      <td>9</td>\n",
       "      <td>15</td>\n",
       "      <td>10</td>\n",
       "      <td>0</td>\n",
       "      <td>1</td>\n",
       "      <td>4</td>\n",
       "      <td>5</td>\n",
       "      <td>18</td>\n",
       "      <td>8</td>\n",
       "      <td>19</td>\n",
       "      <td>7</td>\n",
       "      <td>11</td>\n",
       "      <td>17</td>\n",
       "      <td>12</td>\n",
       "      <td>14</td>\n",
       "      <td>2</td>\n",
       "    </tr>\n",
       "    <tr>\n",
       "      <th>4</th>\n",
       "      <td>16</td>\n",
       "      <td>11</td>\n",
       "      <td>18</td>\n",
       "      <td>6</td>\n",
       "      <td>5</td>\n",
       "      <td>10</td>\n",
       "      <td>12</td>\n",
       "      <td>14</td>\n",
       "      <td>7</td>\n",
       "      <td>9</td>\n",
       "      <td>17</td>\n",
       "      <td>13</td>\n",
       "      <td>15</td>\n",
       "      <td>1</td>\n",
       "      <td>8</td>\n",
       "      <td>3</td>\n",
       "      <td>4</td>\n",
       "      <td>2</td>\n",
       "      <td>19</td>\n",
       "      <td>0</td>\n",
       "    </tr>\n",
       "    <tr>\n",
       "      <th>5</th>\n",
       "      <td>19</td>\n",
       "      <td>3</td>\n",
       "      <td>9</td>\n",
       "      <td>1</td>\n",
       "      <td>12</td>\n",
       "      <td>0</td>\n",
       "      <td>15</td>\n",
       "      <td>10</td>\n",
       "      <td>4</td>\n",
       "      <td>16</td>\n",
       "      <td>5</td>\n",
       "      <td>17</td>\n",
       "      <td>11</td>\n",
       "      <td>18</td>\n",
       "      <td>13</td>\n",
       "      <td>7</td>\n",
       "      <td>2</td>\n",
       "      <td>6</td>\n",
       "      <td>14</td>\n",
       "      <td>8</td>\n",
       "    </tr>\n",
       "  </tbody>\n",
       "</table>\n",
       "</div>"
      ],
      "text/plain": [
       "   0   1   2   3   4   5   6   7   8   9   10  11  12  13  14  15  16  17  18  \\\n",
       "0  16   3  11  12   9  18   1   7  14   2   6   5  13   4  19   8  17  15  10   \n",
       "1   6   2  19  10   8  17   5  11  18  13  16   1   0  15  12   3   9  14   4   \n",
       "2   6  15  12   8  18   0  17  11   9  19  14   1   5   2   7  16  13  10   3   \n",
       "3   3   6  16  13   9  15  10   0   1   4   5  18   8  19   7  11  17  12  14   \n",
       "4  16  11  18   6   5  10  12  14   7   9  17  13  15   1   8   3   4   2  19   \n",
       "5  19   3   9   1  12   0  15  10   4  16   5  17  11  18  13   7   2   6  14   \n",
       "\n",
       "   19  \n",
       "0   0  \n",
       "1   7  \n",
       "2   4  \n",
       "3   2  \n",
       "4   0  \n",
       "5   8  "
      ]
     },
     "execution_count": 45,
     "metadata": {},
     "output_type": "execute_result"
    }
   ],
   "source": [
    "gene_pool=[]\n",
    "for ii in range(6):\n",
    "    gene = random.sample(range(0, 20),k=20)\n",
    "    gene_pool.append(gene)\n",
    "        \n",
    "gene_pool=pd.DataFrame(gene_pool)\n",
    "gene_pool"
   ]
  },
  {
   "cell_type": "code",
   "execution_count": 46,
   "metadata": {
    "colab": {
     "base_uri": "https://localhost:8080/"
    },
    "id": "WV6wHK37lbaJ",
    "outputId": "2e0251a7-90ee-466e-961d-4bab27ee87bc"
   },
   "outputs": [
    {
     "name": "stdout",
     "output_type": "stream",
     "text": [
      "Generation: 0\n",
      "Generation: 50\n",
      "Generation: 100\n",
      "Generation: 150\n",
      "Generation: 200\n",
      "Generation: 250\n",
      "Generation: 300\n",
      "Generation: 350\n",
      "Generation: 400\n",
      "Generation: 450\n"
     ]
    }
   ],
   "source": [
    "generation=0\n",
    "max_generation=500\n",
    "metric=[]\n",
    "# Choose evaluation function: (0) Total (1) Difference (2) Standard Deviation\n",
    "method = 2 \n",
    "while (generation < max_generation):\n",
    "    if (generation%50 == 0):\n",
    "        print('Generation:', generation)\n",
    "    scores = []\n",
    "    #for each gene\n",
    "    for ii in range(gene_pool.shape[0]):\n",
    "        #creating team order\n",
    "        list_teams_gene = []\n",
    "        for jj in range(gene_pool.shape[1]):\n",
    "            list_teams_gene.append(list_teams_20['Team'].tolist()[gene_pool.iloc[ii,jj].astype(int)])\n",
    "        \n",
    "        team_order = list_teams.copy()\n",
    "        team_order['Team']=list_teams_gene\n",
    "        #evaluation function\n",
    "        scores.append(evaluation(team_order, location_solution, matches_solution)[method])\n",
    "    \n",
    "    #ranking results\n",
    "    gene_pool['evaluation']=scores\n",
    "    gene_pool = gene_pool.sort_values(by=['evaluation']).reset_index(drop=True)\n",
    "    \n",
    "    #storing best result\n",
    "    metric.append(gene_pool.iloc[0,-1])\n",
    "    \n",
    "    #creating new candidates\n",
    "    gene_pool.iloc[2,:] = gene_pool.iloc[0,:]\n",
    "    gene_pool.iloc[3,:] = gene_pool.iloc[0,:]\n",
    "    gene_pool.iloc[4,:] = gene_pool.iloc[1,:]\n",
    "    gene_pool.iloc[5,:] = gene_pool.iloc[1,:]\n",
    "    \n",
    "    for ii in range(2,6):\n",
    "        x1 = random.randint(0,19)\n",
    "        x2 = x1\n",
    "        while x2 == x1:\n",
    "            x2 = random.randint(0,19)\n",
    "        pos1 = gene_pool.iloc[ii,x1]\n",
    "        pos2 = gene_pool.iloc[ii,x2]\n",
    "        gene_pool.iloc[ii,x1] = pos2\n",
    "        gene_pool.iloc[ii,x2] = pos1\n",
    "    \n",
    "    #prepping for next generation\n",
    "    gene_pool.drop(columns=['evaluation'],inplace=True)\n",
    "    generation += 1\n",
    "    "
   ]
  },
  {
   "cell_type": "code",
   "execution_count": 47,
   "metadata": {
    "colab": {
     "base_uri": "https://localhost:8080/",
     "height": 295
    },
    "id": "J_a4Rq92dmvt",
    "outputId": "4750e979-cf89-4503-ba84-c88c6937c12e"
   },
   "outputs": [
    {
     "data": {
      "image/png": "[encoded data removed]",
      "text/plain": [
       "<Figure size 432x288 with 1 Axes>"
      ]
     },
     "metadata": {
      "needs_background": "light"
     },
     "output_type": "display_data"
    }
   ],
   "source": [
    "plt.plot(range(max_generation), metric)\n",
    "plt.xlabel('Generation')\n",
    "plt.ylabel('Smallest standard deviation')\n",
    "plt.title('Evolution of evaluation metric')\n",
    "plt.show()"
   ]
  },
  {
   "cell_type": "code",
   "execution_count": 48,
   "metadata": {
    "colab": {
     "base_uri": "https://localhost:8080/"
    },
    "id": "7f6uWJJSdmvt",
    "outputId": "37e9aff2-62a4-4724-a4a3-28fb8f79a459"
   },
   "outputs": [
    {
     "name": "stdout",
     "output_type": "stream",
     "text": [
      "The best configuration has a standard deviation of: 7972.135087910702 , ordered as below.\n",
      "The original order had a difference of 12220.999097401962 . That means we reduced the total in 35 %\n"
     ]
    }
   ],
   "source": [
    "print('The best configuration has a standard deviation of:',metric[-1],', ordered as below.')\n",
    "print('The original order had a difference of',standard_deviation,'. That means we reduced the total in',round(100*(1-metric[-1]/standard_deviation)),'%')"
   ]
  },
  {
   "cell_type": "code",
   "execution_count": 49,
   "metadata": {
    "colab": {
     "base_uri": "https://localhost:8080/"
    },
    "id": "OCkY-Vbjdmvu",
    "outputId": "a47129d3-8244-4bff-eefe-aea25358ba2c"
   },
   "outputs": [
    {
     "data": {
      "text/plain": [
       "['São Paulo',\n",
       " 'Grêmio',\n",
       " 'Atlético Goianiense',\n",
       " 'Sport',\n",
       " 'Red Bull Bragantino',\n",
       " 'Vasco da Gama',\n",
       " 'Corinthians',\n",
       " 'Palmeiras',\n",
       " 'Santos',\n",
       " 'Botafogo',\n",
       " 'Athletico Paranaense',\n",
       " 'Fortaleza',\n",
       " 'Internacional',\n",
       " 'Atlético Mineiro',\n",
       " 'Coritiba',\n",
       " 'Goiás',\n",
       " 'Fluminense',\n",
       " 'Flamengo',\n",
       " 'Ceará',\n",
       " 'Bahia']"
      ]
     },
     "execution_count": 49,
     "metadata": {},
     "output_type": "execute_result"
    }
   ],
   "source": [
    "best_list_teams = []\n",
    "for jj in range(gene_pool.shape[1]):\n",
    "    best_list_teams.append(list_teams_20['Team'].tolist()[gene_pool.iloc[0,jj].astype(int)])\n",
    "best_list_teams    "
   ]
  },
  {
   "cell_type": "code",
   "execution_count": 50,
   "metadata": {
    "colab": {
     "base_uri": "https://localhost:8080/",
     "height": 700
    },
    "id": "nsePNm0Bdmvu",
    "outputId": "ca4b8786-9ce4-40db-bcf5-4fceab4b9ee7"
   },
   "outputs": [
    {
     "data": {
      "text/html": [
       "<div>\n",
       "<style scoped>\n",
       "    .dataframe tbody tr th:only-of-type {\n",
       "        vertical-align: middle;\n",
       "    }\n",
       "\n",
       "    .dataframe tbody tr th {\n",
       "        vertical-align: top;\n",
       "    }\n",
       "\n",
       "    .dataframe thead th {\n",
       "        text-align: right;\n",
       "    }\n",
       "</style>\n",
       "<table border=\"1\" class=\"dataframe\">\n",
       "  <thead>\n",
       "    <tr style=\"text-align: right;\">\n",
       "      <th></th>\n",
       "      <th>Team</th>\n",
       "      <th>Total Distance</th>\n",
       "    </tr>\n",
       "    <tr>\n",
       "      <th>Team</th>\n",
       "      <th></th>\n",
       "      <th></th>\n",
       "    </tr>\n",
       "  </thead>\n",
       "  <tbody>\n",
       "    <tr>\n",
       "      <th>Team01</th>\n",
       "      <td>São Paulo</td>\n",
       "      <td>28721.663596</td>\n",
       "    </tr>\n",
       "    <tr>\n",
       "      <th>Team02</th>\n",
       "      <td>Grêmio</td>\n",
       "      <td>39257.331631</td>\n",
       "    </tr>\n",
       "    <tr>\n",
       "      <th>Team03</th>\n",
       "      <td>Atlético Goianiense</td>\n",
       "      <td>34175.249224</td>\n",
       "    </tr>\n",
       "    <tr>\n",
       "      <th>Team04</th>\n",
       "      <td>Sport</td>\n",
       "      <td>47147.630080</td>\n",
       "    </tr>\n",
       "    <tr>\n",
       "      <th>Team05</th>\n",
       "      <td>Red Bull Bragantino</td>\n",
       "      <td>27713.749605</td>\n",
       "    </tr>\n",
       "    <tr>\n",
       "      <th>Team06</th>\n",
       "      <td>Vasco da Gama</td>\n",
       "      <td>26967.477637</td>\n",
       "    </tr>\n",
       "    <tr>\n",
       "      <th>Team07</th>\n",
       "      <td>Corinthians</td>\n",
       "      <td>26700.412331</td>\n",
       "    </tr>\n",
       "    <tr>\n",
       "      <th>Team08</th>\n",
       "      <td>Palmeiras</td>\n",
       "      <td>28742.018834</td>\n",
       "    </tr>\n",
       "    <tr>\n",
       "      <th>Team09</th>\n",
       "      <td>Santos</td>\n",
       "      <td>28441.081735</td>\n",
       "    </tr>\n",
       "    <tr>\n",
       "      <th>Team10</th>\n",
       "      <td>Botafogo</td>\n",
       "      <td>29136.877532</td>\n",
       "    </tr>\n",
       "    <tr>\n",
       "      <th>Team11</th>\n",
       "      <td>Athletico Paranaense</td>\n",
       "      <td>33792.184394</td>\n",
       "    </tr>\n",
       "    <tr>\n",
       "      <th>Team12</th>\n",
       "      <td>Fortaleza</td>\n",
       "      <td>53377.398472</td>\n",
       "    </tr>\n",
       "    <tr>\n",
       "      <th>Team13</th>\n",
       "      <td>Internacional</td>\n",
       "      <td>39380.894459</td>\n",
       "    </tr>\n",
       "    <tr>\n",
       "      <th>Team14</th>\n",
       "      <td>Atlético Mineiro</td>\n",
       "      <td>29623.007503</td>\n",
       "    </tr>\n",
       "    <tr>\n",
       "      <th>Team15</th>\n",
       "      <td>Coritiba</td>\n",
       "      <td>33966.808407</td>\n",
       "    </tr>\n",
       "    <tr>\n",
       "      <th>Team16</th>\n",
       "      <td>Goiás</td>\n",
       "      <td>31293.318982</td>\n",
       "    </tr>\n",
       "    <tr>\n",
       "      <th>Team17</th>\n",
       "      <td>Fluminense</td>\n",
       "      <td>27376.106140</td>\n",
       "    </tr>\n",
       "    <tr>\n",
       "      <th>Team18</th>\n",
       "      <td>Flamengo</td>\n",
       "      <td>29316.057754</td>\n",
       "    </tr>\n",
       "    <tr>\n",
       "      <th>Team19</th>\n",
       "      <td>Ceará</td>\n",
       "      <td>50275.133038</td>\n",
       "    </tr>\n",
       "    <tr>\n",
       "      <th>Team20</th>\n",
       "      <td>Bahia</td>\n",
       "      <td>41688.051558</td>\n",
       "    </tr>\n",
       "  </tbody>\n",
       "</table>\n",
       "</div>"
      ],
      "text/plain": [
       "                        Team  Total Distance\n",
       "Team                                        \n",
       "Team01             São Paulo    28721.663596\n",
       "Team02                Grêmio    39257.331631\n",
       "Team03   Atlético Goianiense    34175.249224\n",
       "Team04                 Sport    47147.630080\n",
       "Team05   Red Bull Bragantino    27713.749605\n",
       "Team06         Vasco da Gama    26967.477637\n",
       "Team07           Corinthians    26700.412331\n",
       "Team08             Palmeiras    28742.018834\n",
       "Team09                Santos    28441.081735\n",
       "Team10              Botafogo    29136.877532\n",
       "Team11  Athletico Paranaense    33792.184394\n",
       "Team12             Fortaleza    53377.398472\n",
       "Team13         Internacional    39380.894459\n",
       "Team14      Atlético Mineiro    29623.007503\n",
       "Team15              Coritiba    33966.808407\n",
       "Team16                 Goiás    31293.318982\n",
       "Team17            Fluminense    27376.106140\n",
       "Team18              Flamengo    29316.057754\n",
       "Team19                 Ceará    50275.133038\n",
       "Team20                 Bahia    41688.051558"
      ]
     },
     "execution_count": 50,
     "metadata": {},
     "output_type": "execute_result"
    }
   ],
   "source": [
    "best_order_teams = list_teams.copy()\n",
    "best_order_teams['Team'] = best_list_teams\n",
    "trek_list = []\n",
    "for ii in range(trek.shape[0]):\n",
    "    team_trek=0\n",
    "    for jj in range(trek.shape[1]-1):\n",
    "        team_trek += distances.loc[best_order_teams.loc[trek.iloc[ii,jj],'Team'],\n",
    "                                  best_order_teams.loc[trek.iloc[ii,jj+1],'Team']]\n",
    "    \n",
    "    trek_list.append(team_trek)\n",
    "best_order_teams['Total Distance']=trek_list\n",
    "best_order_teams"
   ]
  },
  {
   "cell_type": "code",
   "execution_count": 51,
   "metadata": {
    "colab": {
     "base_uri": "https://localhost:8080/",
     "height": 295
    },
    "id": "iDXtenaZdmvu",
    "outputId": "cb8ef6e4-1870-47fc-9b47-6b206ee562ef"
   },
   "outputs": [
    {
     "data": {
      "image/png": "[encoded data removed]",
      "text/plain": [
       "<Figure size 432x288 with 1 Axes>"
      ]
     },
     "metadata": {
      "needs_background": "light"
     },
     "output_type": "display_data"
    }
   ],
   "source": [
    "plt.hist(trek_list, bins = 6)\n",
    "plt.xlabel('Total Distance')\n",
    "plt.ylabel('Number of Teams')\n",
    "plt.title('Distance Distribution')\n",
    "plt.show()"
   ]
  },
  {
   "cell_type": "markdown",
   "metadata": {
    "id": "9aCuux3Ndmvv"
   },
   "source": [
    "We have finished the optimization using only the order of the teams. Looking at the distances and their distributions, it seems that the third option, the standatd deviation, is the most equalitarian one."
   ]
  },
  {
   "cell_type": "markdown",
   "metadata": {
    "id": "C1XLbmlxdmvv"
   },
   "source": [
    "## 8. Optimizing the Locations table"
   ]
  },
  {
   "cell_type": "markdown",
   "metadata": {
    "id": "2lFBsqD0dmvv"
   },
   "source": [
    "We are going to modify the location of the matches while keeping the order of the teams and the matches table fixed. In other words, we will define the sequence of home and away games for each team, respecting the condition that no team can play more than two games in a row at home or away."
   ]
  },
  {
   "cell_type": "code",
   "execution_count": 52,
   "metadata": {
    "id": "WBAazGYKdmvv"
   },
   "outputs": [],
   "source": [
    "matches_solution = matches.copy()\n",
    "list_teams_solution = list_teams.copy()"
   ]
  },
  {
   "cell_type": "markdown",
   "metadata": {
    "id": "XiBHiRnMdmvv"
   },
   "source": [
    "For this case, our gene is a table just like the location table, where each row is a team and each column is a round. The mutation is done by randomly selecting a game in the matches table and swapping the home and away teams. We need to validate this mutation so the condition is still met.\n",
    "\n",
    "Let's build a function that verifies the condition for all teams."
   ]
  },
  {
   "cell_type": "code",
   "execution_count": 53,
   "metadata": {
    "id": "2terJ3x4dmvw"
   },
   "outputs": [],
   "source": [
    "#returns 0 if there are no problems, 1 if condition is not valid\n",
    "def verifyCondition(location_gene):\n",
    "    ok = 0\n",
    "    for ii in range(location_gene.shape[0]):\n",
    "        for jj in range(location_gene.shape[1]-2):\n",
    "            test = location_gene.iloc[ii,jj]+location_gene.iloc[ii,jj+1]+location_gene.iloc[ii,jj+2]\n",
    "            if test == 0 or test == 3:\n",
    "                ok = 1\n",
    "        test = (1 - location_gene.iloc[ii,0]) + location_gene.iloc[ii,-2] + location_gene.iloc[ii,-1]\n",
    "        if test == 0 or test == 3:\n",
    "            ok = 1\n",
    "        test = (1 - location_gene.iloc[ii,0]) + (1 - location_gene.iloc[ii,1]) + location_gene.iloc[ii,-1]\n",
    "        if test == 0 or test == 3:\n",
    "            ok = 1\n",
    "    \n",
    "    return ok    "
   ]
  },
  {
   "cell_type": "markdown",
   "metadata": {
    "id": "G8qM3k4pdmvw"
   },
   "source": [
    "At the end of our algorithm, we will present a graph with the evolution of the best evaluation function for each generation. We hope to find an optimized value.\n",
    "We have four parameters to define:\n",
    "\n",
    "1. the number of genes (configurations) we will evaluate in each generation: 6;\n",
    "2. the number of genes we will use to create the new generation: 2;\n",
    "3. the number of generations: 500;\n",
    "4. the original configurations."
   ]
  },
  {
   "cell_type": "markdown",
   "metadata": {
    "id": "zDf9Be_Udmvw"
   },
   "source": [
    "The creation of an original set of valid configurations is more complex in this case. From the original table, we are going to generate 5 new tables, with only one mutation each."
   ]
  },
  {
   "cell_type": "code",
   "execution_count": 54,
   "metadata": {
    "id": "JpLuMm0Ndmvx"
   },
   "outputs": [],
   "source": [
    "gene_pool = []\n",
    "gene_pool.append(locations)\n",
    "jj = 0\n",
    "for ii in range(5):\n",
    "    ok = 1\n",
    "    #we will create new configurations until we find a valid one \n",
    "    while ok > 0:\n",
    "        location_gene = locations.copy()\n",
    "        #randomly selecting a team and a round\n",
    "        x1 = random.randint(0,19)\n",
    "        x2 = random.randint(0,18)\n",
    "        team1 = generic[x1]\n",
    "        team2 = matches_solution.iloc[x1,x2]\n",
    "        location_gene.loc[team1,rounds[x2]] = 1 - location_gene.loc[team1,rounds[x2]]\n",
    "        location_gene.loc[team2,rounds[x2]] = 1 - location_gene.loc[team2,rounds[x2]]\n",
    "        \n",
    "        ok = verifyCondition(location_gene)\n",
    "         \n",
    "    gene_pool.append(location_gene)\n"
   ]
  },
  {
   "cell_type": "markdown",
   "metadata": {},
   "source": [
    "### 8.1 First evaluation - Total sum"
   ]
  },
  {
   "cell_type": "code",
   "execution_count": 55,
   "metadata": {},
   "outputs": [
    {
     "name": "stdout",
     "output_type": "stream",
     "text": [
      "Generation: 0\n",
      "Generation: 50\n",
      "Generation: 100\n",
      "Generation: 150\n",
      "Generation: 200\n",
      "Generation: 250\n",
      "Generation: 300\n",
      "Generation: 350\n",
      "Generation: 400\n",
      "Generation: 450\n"
     ]
    }
   ],
   "source": [
    "generation=0\n",
    "max_generation=500\n",
    "metric=[]\n",
    "# Choose evaluation function: (0) Total (1) Difference (2) Standard Deviation\n",
    "method = 0 \n",
    "while (generation < max_generation):\n",
    "    if (generation%50 == 0):\n",
    "        print('Generation:', generation)\n",
    "    scores = []\n",
    "    #for each gene\n",
    "    for ii in range(len(gene_pool)):\n",
    "        scores.append(evaluation(list_teams_solution, gene_pool[ii], matches_solution)[method])\n",
    "    \n",
    "    #ranking results\n",
    "    ranking = sorted(range(len(scores)), key=lambda k: scores[k])\n",
    "    \n",
    "    ranked_gene_pool = []\n",
    "    for ii in range(len(gene_pool)):\n",
    "        ranked_gene_pool.append(gene_pool[ranking[ii]])\n",
    "    \n",
    "    gene_pool = ranked_gene_pool\n",
    "    \n",
    "    #storing best result\n",
    "    metric.append(np.min(scores))\n",
    "    \n",
    "    #creating new candidates    \n",
    "    for ii in range(2,4):\n",
    "        ok = 1\n",
    "        #we will create new configurations until we find a valid one \n",
    "        while ok > 0:\n",
    "            location_gene = gene_pool[0].copy()\n",
    "            #randomly selecting a team and a round\n",
    "            x1 = random.randint(0,19)\n",
    "            x2 = random.randint(0,18)\n",
    "            team1 = generic[x1]\n",
    "            team2 = matches_solution.iloc[x1,x2]\n",
    "            location_gene.loc[team1,rounds[x2]] = 1 - location_gene.loc[team1,rounds[x2]]\n",
    "            location_gene.loc[team2,rounds[x2]] = 1 - location_gene.loc[team2,rounds[x2]]\n",
    "\n",
    "            ok = verifyCondition(location_gene)\n",
    "\n",
    "        gene_pool[ii] = location_gene\n",
    "\n",
    "    for ii in range(4,6):\n",
    "        ok = 1\n",
    "        #we will create new configurations until we find a valid one \n",
    "        while ok > 0:\n",
    "            location_gene = gene_pool[1].copy()\n",
    "            #randomly selecting a team and a round\n",
    "            x1 = random.randint(0,19)\n",
    "            x2 = random.randint(0,18)\n",
    "            team1 = generic[x1]\n",
    "            team2 = matches_solution.iloc[x1,x2]\n",
    "            location_gene.loc[team1,rounds[x2]] = 1 - location_gene.loc[team1,rounds[x2]]\n",
    "            location_gene.loc[team2,rounds[x2]] = 1 - location_gene.loc[team2,rounds[x2]]\n",
    "\n",
    "            ok = verifyCondition(location_gene)\n",
    "\n",
    "        gene_pool[ii] = location_gene\n",
    "        \n",
    "    #prepping for next generation\n",
    "    generation += 1\n",
    "    "
   ]
  },
  {
   "cell_type": "code",
   "execution_count": 56,
   "metadata": {},
   "outputs": [
    {
     "data": {
      "image/png": "[encoded data removed]",
      "text/plain": [
       "<Figure size 432x288 with 1 Axes>"
      ]
     },
     "metadata": {
      "needs_background": "light"
     },
     "output_type": "display_data"
    }
   ],
   "source": [
    "plt.plot(range(max_generation), metric)\n",
    "plt.xlabel('Generation')\n",
    "plt.ylabel('Smallest total sum of distance')\n",
    "plt.title('Evolution of evaluation metric')\n",
    "plt.show()"
   ]
  },
  {
   "cell_type": "code",
   "execution_count": 57,
   "metadata": {},
   "outputs": [
    {
     "name": "stdout",
     "output_type": "stream",
     "text": [
      "The best configuration has a total distance of: 717442.1922690459 , ordered as below.\n",
      "The original order had a total of 725398.524505681 km. That means we reduced the total in 1 %\n"
     ]
    }
   ],
   "source": [
    "print('The best configuration has a total distance of:',metric[-1],', ordered as below.')\n",
    "print('The original order had a total of',total_distance,'km. That means we reduced the total in',round(100*(1-metric[-1]/total_distance)),'%')"
   ]
  },
  {
   "cell_type": "code",
   "execution_count": 58,
   "metadata": {},
   "outputs": [],
   "source": [
    "best_locations = gene_pool[0]\n",
    "trek=[]\n",
    "for jj in range(len(generic)):\n",
    "    team_trek=[generic[jj]]+2*matches_solution.loc[generic[jj],:].tolist()+[generic[jj]]\n",
    "    for ii in range(len(rounds)):\n",
    "        if best_locations.loc[generic[jj],rounds[ii]]==0:\n",
    "            team_trek[ii+1]=generic[jj]\n",
    "        else:\n",
    "            team_trek[ii+20]=generic[jj]\n",
    "\n",
    "    trek.append(team_trek)\n",
    "    \n",
    "trek=pd.DataFrame(trek)"
   ]
  },
  {
   "cell_type": "code",
   "execution_count": 59,
   "metadata": {},
   "outputs": [
    {
     "data": {
      "text/html": [
       "<div>\n",
       "<style scoped>\n",
       "    .dataframe tbody tr th:only-of-type {\n",
       "        vertical-align: middle;\n",
       "    }\n",
       "\n",
       "    .dataframe tbody tr th {\n",
       "        vertical-align: top;\n",
       "    }\n",
       "\n",
       "    .dataframe thead th {\n",
       "        text-align: right;\n",
       "    }\n",
       "</style>\n",
       "<table border=\"1\" class=\"dataframe\">\n",
       "  <thead>\n",
       "    <tr style=\"text-align: right;\">\n",
       "      <th></th>\n",
       "      <th>Team</th>\n",
       "      <th>Total Distance</th>\n",
       "    </tr>\n",
       "    <tr>\n",
       "      <th>Team</th>\n",
       "      <th></th>\n",
       "      <th></th>\n",
       "    </tr>\n",
       "  </thead>\n",
       "  <tbody>\n",
       "    <tr>\n",
       "      <th>Team01</th>\n",
       "      <td>Atlético Goianiense</td>\n",
       "      <td>37736.142482</td>\n",
       "    </tr>\n",
       "    <tr>\n",
       "      <th>Team02</th>\n",
       "      <td>Atlético Mineiro</td>\n",
       "      <td>29539.060127</td>\n",
       "    </tr>\n",
       "    <tr>\n",
       "      <th>Team03</th>\n",
       "      <td>Athletico Paranaense</td>\n",
       "      <td>31912.217869</td>\n",
       "    </tr>\n",
       "    <tr>\n",
       "      <th>Team04</th>\n",
       "      <td>Bahia</td>\n",
       "      <td>42088.782686</td>\n",
       "    </tr>\n",
       "    <tr>\n",
       "      <th>Team05</th>\n",
       "      <td>Botafogo</td>\n",
       "      <td>28089.633545</td>\n",
       "    </tr>\n",
       "    <tr>\n",
       "      <th>Team06</th>\n",
       "      <td>Ceará</td>\n",
       "      <td>69076.818835</td>\n",
       "    </tr>\n",
       "    <tr>\n",
       "      <th>Team07</th>\n",
       "      <td>Corinthians</td>\n",
       "      <td>25969.252512</td>\n",
       "    </tr>\n",
       "    <tr>\n",
       "      <th>Team08</th>\n",
       "      <td>Coritiba</td>\n",
       "      <td>33176.144740</td>\n",
       "    </tr>\n",
       "    <tr>\n",
       "      <th>Team09</th>\n",
       "      <td>Flamengo</td>\n",
       "      <td>24640.195066</td>\n",
       "    </tr>\n",
       "    <tr>\n",
       "      <th>Team10</th>\n",
       "      <td>Fluminense</td>\n",
       "      <td>27868.826281</td>\n",
       "    </tr>\n",
       "    <tr>\n",
       "      <th>Team11</th>\n",
       "      <td>Fortaleza</td>\n",
       "      <td>67875.042801</td>\n",
       "    </tr>\n",
       "    <tr>\n",
       "      <th>Team12</th>\n",
       "      <td>Goiás</td>\n",
       "      <td>34429.878555</td>\n",
       "    </tr>\n",
       "    <tr>\n",
       "      <th>Team13</th>\n",
       "      <td>Grêmio</td>\n",
       "      <td>41707.980095</td>\n",
       "    </tr>\n",
       "    <tr>\n",
       "      <th>Team14</th>\n",
       "      <td>Internacional</td>\n",
       "      <td>39628.789425</td>\n",
       "    </tr>\n",
       "    <tr>\n",
       "      <th>Team15</th>\n",
       "      <td>Palmeiras</td>\n",
       "      <td>27241.237206</td>\n",
       "    </tr>\n",
       "    <tr>\n",
       "      <th>Team16</th>\n",
       "      <td>Red Bull Bragantino</td>\n",
       "      <td>25778.976638</td>\n",
       "    </tr>\n",
       "    <tr>\n",
       "      <th>Team17</th>\n",
       "      <td>Santos</td>\n",
       "      <td>27750.943113</td>\n",
       "    </tr>\n",
       "    <tr>\n",
       "      <th>Team18</th>\n",
       "      <td>São Paulo</td>\n",
       "      <td>27928.186482</td>\n",
       "    </tr>\n",
       "    <tr>\n",
       "      <th>Team19</th>\n",
       "      <td>Sport</td>\n",
       "      <td>46899.301527</td>\n",
       "    </tr>\n",
       "    <tr>\n",
       "      <th>Team20</th>\n",
       "      <td>Vasco da Gama</td>\n",
       "      <td>28104.782283</td>\n",
       "    </tr>\n",
       "  </tbody>\n",
       "</table>\n",
       "</div>"
      ],
      "text/plain": [
       "                        Team  Total Distance\n",
       "Team                                        \n",
       "Team01   Atlético Goianiense    37736.142482\n",
       "Team02      Atlético Mineiro    29539.060127\n",
       "Team03  Athletico Paranaense    31912.217869\n",
       "Team04                 Bahia    42088.782686\n",
       "Team05              Botafogo    28089.633545\n",
       "Team06                 Ceará    69076.818835\n",
       "Team07           Corinthians    25969.252512\n",
       "Team08              Coritiba    33176.144740\n",
       "Team09              Flamengo    24640.195066\n",
       "Team10            Fluminense    27868.826281\n",
       "Team11             Fortaleza    67875.042801\n",
       "Team12                 Goiás    34429.878555\n",
       "Team13                Grêmio    41707.980095\n",
       "Team14         Internacional    39628.789425\n",
       "Team15             Palmeiras    27241.237206\n",
       "Team16   Red Bull Bragantino    25778.976638\n",
       "Team17                Santos    27750.943113\n",
       "Team18             São Paulo    27928.186482\n",
       "Team19                 Sport    46899.301527\n",
       "Team20         Vasco da Gama    28104.782283"
      ]
     },
     "execution_count": 59,
     "metadata": {},
     "output_type": "execute_result"
    }
   ],
   "source": [
    "trek_list = []\n",
    "for ii in range(trek.shape[0]):\n",
    "    team_trek=0\n",
    "    for jj in range(trek.shape[1]-1):\n",
    "        team_trek += distances.loc[list_teams_solution.loc[trek.iloc[ii,jj],'Team'],\n",
    "                                  list_teams_solution.loc[trek.iloc[ii,jj+1],'Team']]\n",
    "    \n",
    "    trek_list.append(team_trek)\n",
    "list_teams_solution['Total Distance']=trek_list\n",
    "list_teams_solution"
   ]
  },
  {
   "cell_type": "code",
   "execution_count": 60,
   "metadata": {},
   "outputs": [
    {
     "data": {
      "image/png": "[encoded data removed]",
      "text/plain": [
       "<Figure size 432x288 with 1 Axes>"
      ]
     },
     "metadata": {
      "needs_background": "light"
     },
     "output_type": "display_data"
    }
   ],
   "source": [
    "plt.hist(trek_list, bins = 6)\n",
    "plt.xlabel('Total Distance')\n",
    "plt.ylabel('Number of Teams')\n",
    "plt.title('Distance Distribution')\n",
    "plt.show()"
   ]
  },
  {
   "cell_type": "markdown",
   "metadata": {},
   "source": [
    "### 8.2 Second evaluation - Difference"
   ]
  },
  {
   "cell_type": "code",
   "execution_count": 61,
   "metadata": {},
   "outputs": [],
   "source": [
    "gene_pool = []\n",
    "gene_pool.append(locations)\n",
    "jj = 0\n",
    "for ii in range(5):\n",
    "    ok = 1\n",
    "    #we will create new configurations until we find a valid one \n",
    "    while ok > 0:\n",
    "        location_gene = locations.copy()\n",
    "        #randomly selecting a team and a round\n",
    "        x1 = random.randint(0,19)\n",
    "        x2 = random.randint(0,18)\n",
    "        team1 = generic[x1]\n",
    "        team2 = matches_solution.iloc[x1,x2]\n",
    "        location_gene.loc[team1,rounds[x2]] = 1 - location_gene.loc[team1,rounds[x2]]\n",
    "        location_gene.loc[team2,rounds[x2]] = 1 - location_gene.loc[team2,rounds[x2]]\n",
    "        \n",
    "        ok = verifyCondition(location_gene)\n",
    "         \n",
    "    gene_pool.append(location_gene)\n"
   ]
  },
  {
   "cell_type": "code",
   "execution_count": 62,
   "metadata": {},
   "outputs": [
    {
     "name": "stdout",
     "output_type": "stream",
     "text": [
      "Generation: 0\n",
      "Generation: 50\n",
      "Generation: 100\n",
      "Generation: 150\n",
      "Generation: 200\n",
      "Generation: 250\n",
      "Generation: 300\n",
      "Generation: 350\n",
      "Generation: 400\n",
      "Generation: 450\n"
     ]
    }
   ],
   "source": [
    "generation=0\n",
    "max_generation=500\n",
    "metric=[]\n",
    "# Choose evaluation function: (0) Total (1) Difference (2) Standard Deviation\n",
    "method = 1 \n",
    "while (generation < max_generation):\n",
    "    if (generation%50 == 0):\n",
    "        print('Generation:', generation)\n",
    "    scores = []\n",
    "    #for each gene\n",
    "    for ii in range(len(gene_pool)):\n",
    "        scores.append(evaluation(list_teams_solution, gene_pool[ii], matches_solution)[method])\n",
    "    \n",
    "    #ranking results\n",
    "    ranking = sorted(range(len(scores)), key=lambda k: scores[k])\n",
    "    \n",
    "    ranked_gene_pool = []\n",
    "    for ii in range(len(gene_pool)):\n",
    "        ranked_gene_pool.append(gene_pool[ranking[ii]])\n",
    "    \n",
    "    gene_pool = ranked_gene_pool\n",
    "    \n",
    "    #storing best result\n",
    "    metric.append(np.min(scores))\n",
    "    \n",
    "    #creating new candidates    \n",
    "    for ii in range(2,4):\n",
    "        ok = 1\n",
    "        #we will create new configurations until we find a valid one \n",
    "        while ok > 0:\n",
    "            location_gene = gene_pool[0].copy()\n",
    "            #randomly selecting a team and a round\n",
    "            x1 = random.randint(0,19)\n",
    "            x2 = random.randint(0,18)\n",
    "            team1 = generic[x1]\n",
    "            team2 = matches_solution.iloc[x1,x2]\n",
    "            location_gene.loc[team1,rounds[x2]] = 1 - location_gene.loc[team1,rounds[x2]]\n",
    "            location_gene.loc[team2,rounds[x2]] = 1 - location_gene.loc[team2,rounds[x2]]\n",
    "\n",
    "            ok = verifyCondition(location_gene)\n",
    "\n",
    "        gene_pool[ii] = location_gene\n",
    "\n",
    "    for ii in range(4,6):\n",
    "        ok = 1\n",
    "        #we will create new configurations until we find a valid one \n",
    "        while ok > 0:\n",
    "            location_gene = gene_pool[1].copy()\n",
    "            #randomly selecting a team and a round\n",
    "            x1 = random.randint(0,19)\n",
    "            x2 = random.randint(0,18)\n",
    "            team1 = generic[x1]\n",
    "            team2 = matches_solution.iloc[x1,x2]\n",
    "            location_gene.loc[team1,rounds[x2]] = 1 - location_gene.loc[team1,rounds[x2]]\n",
    "            location_gene.loc[team2,rounds[x2]] = 1 - location_gene.loc[team2,rounds[x2]]\n",
    "\n",
    "            ok = verifyCondition(location_gene)\n",
    "\n",
    "        gene_pool[ii] = location_gene\n",
    "        \n",
    "    #prepping for next generation\n",
    "    generation += 1\n",
    "    "
   ]
  },
  {
   "cell_type": "code",
   "execution_count": 63,
   "metadata": {},
   "outputs": [
    {
     "data": {
      "image/png": "[encoded data removed]",
      "text/plain": [
       "<Figure size 432x288 with 1 Axes>"
      ]
     },
     "metadata": {
      "needs_background": "light"
     },
     "output_type": "display_data"
    }
   ],
   "source": [
    "plt.plot(range(max_generation), metric)\n",
    "plt.xlabel('Generation')\n",
    "plt.ylabel('Smallest difference in distance')\n",
    "plt.title('Evolution of evaluation metric')\n",
    "plt.show()"
   ]
  },
  {
   "cell_type": "code",
   "execution_count": 64,
   "metadata": {},
   "outputs": [
    {
     "name": "stdout",
     "output_type": "stream",
     "text": [
      "The best configuration has a difference of distance of: 42490.59215550201 , ordered as below.\n",
      "The original order had a difference of 43393.29396573675 km. That means we reduced the total in 2 %\n"
     ]
    }
   ],
   "source": [
    "print('The best configuration has a difference of distance of:',metric[-1],', ordered as below.')\n",
    "print('The original order had a difference of',difference,'km. That means we reduced the total in',round(100*(1-metric[-1]/difference)),'%')"
   ]
  },
  {
   "cell_type": "code",
   "execution_count": 65,
   "metadata": {},
   "outputs": [],
   "source": [
    "best_locations = gene_pool[0]\n",
    "trek=[]\n",
    "for jj in range(len(generic)):\n",
    "    team_trek=[generic[jj]]+2*matches_solution.loc[generic[jj],:].tolist()+[generic[jj]]\n",
    "    for ii in range(len(rounds)):\n",
    "        if best_locations.loc[generic[jj],rounds[ii]]==0:\n",
    "            team_trek[ii+1]=generic[jj]\n",
    "        else:\n",
    "            team_trek[ii+20]=generic[jj]\n",
    "\n",
    "    trek.append(team_trek)\n",
    "    \n",
    "trek=pd.DataFrame(trek)"
   ]
  },
  {
   "cell_type": "code",
   "execution_count": 66,
   "metadata": {},
   "outputs": [
    {
     "data": {
      "text/html": [
       "<div>\n",
       "<style scoped>\n",
       "    .dataframe tbody tr th:only-of-type {\n",
       "        vertical-align: middle;\n",
       "    }\n",
       "\n",
       "    .dataframe tbody tr th {\n",
       "        vertical-align: top;\n",
       "    }\n",
       "\n",
       "    .dataframe thead th {\n",
       "        text-align: right;\n",
       "    }\n",
       "</style>\n",
       "<table border=\"1\" class=\"dataframe\">\n",
       "  <thead>\n",
       "    <tr style=\"text-align: right;\">\n",
       "      <th></th>\n",
       "      <th>Team</th>\n",
       "      <th>Total Distance</th>\n",
       "    </tr>\n",
       "    <tr>\n",
       "      <th>Team</th>\n",
       "      <th></th>\n",
       "      <th></th>\n",
       "    </tr>\n",
       "  </thead>\n",
       "  <tbody>\n",
       "    <tr>\n",
       "      <th>Team01</th>\n",
       "      <td>Atlético Goianiense</td>\n",
       "      <td>37736.142482</td>\n",
       "    </tr>\n",
       "    <tr>\n",
       "      <th>Team02</th>\n",
       "      <td>Atlético Mineiro</td>\n",
       "      <td>30100.618320</td>\n",
       "    </tr>\n",
       "    <tr>\n",
       "      <th>Team03</th>\n",
       "      <td>Athletico Paranaense</td>\n",
       "      <td>33733.382776</td>\n",
       "    </tr>\n",
       "    <tr>\n",
       "      <th>Team04</th>\n",
       "      <td>Bahia</td>\n",
       "      <td>42171.581196</td>\n",
       "    </tr>\n",
       "    <tr>\n",
       "      <th>Team05</th>\n",
       "      <td>Botafogo</td>\n",
       "      <td>28089.633545</td>\n",
       "    </tr>\n",
       "    <tr>\n",
       "      <th>Team06</th>\n",
       "      <td>Ceará</td>\n",
       "      <td>69076.818835</td>\n",
       "    </tr>\n",
       "    <tr>\n",
       "      <th>Team07</th>\n",
       "      <td>Corinthians</td>\n",
       "      <td>26723.256711</td>\n",
       "    </tr>\n",
       "    <tr>\n",
       "      <th>Team08</th>\n",
       "      <td>Coritiba</td>\n",
       "      <td>33176.144740</td>\n",
       "    </tr>\n",
       "    <tr>\n",
       "      <th>Team09</th>\n",
       "      <td>Flamengo</td>\n",
       "      <td>28190.258200</td>\n",
       "    </tr>\n",
       "    <tr>\n",
       "      <th>Team10</th>\n",
       "      <td>Fluminense</td>\n",
       "      <td>28789.744437</td>\n",
       "    </tr>\n",
       "    <tr>\n",
       "      <th>Team11</th>\n",
       "      <td>Fortaleza</td>\n",
       "      <td>67891.387315</td>\n",
       "    </tr>\n",
       "    <tr>\n",
       "      <th>Team12</th>\n",
       "      <td>Goiás</td>\n",
       "      <td>34395.823236</td>\n",
       "    </tr>\n",
       "    <tr>\n",
       "      <th>Team13</th>\n",
       "      <td>Grêmio</td>\n",
       "      <td>41080.006484</td>\n",
       "    </tr>\n",
       "    <tr>\n",
       "      <th>Team14</th>\n",
       "      <td>Internacional</td>\n",
       "      <td>39607.781231</td>\n",
       "    </tr>\n",
       "    <tr>\n",
       "      <th>Team15</th>\n",
       "      <td>Palmeiras</td>\n",
       "      <td>27241.237206</td>\n",
       "    </tr>\n",
       "    <tr>\n",
       "      <th>Team16</th>\n",
       "      <td>Red Bull Bragantino</td>\n",
       "      <td>26586.226679</td>\n",
       "    </tr>\n",
       "    <tr>\n",
       "      <th>Team17</th>\n",
       "      <td>Santos</td>\n",
       "      <td>28362.891227</td>\n",
       "    </tr>\n",
       "    <tr>\n",
       "      <th>Team18</th>\n",
       "      <td>São Paulo</td>\n",
       "      <td>27928.186482</td>\n",
       "    </tr>\n",
       "    <tr>\n",
       "      <th>Team19</th>\n",
       "      <td>Sport</td>\n",
       "      <td>46899.301527</td>\n",
       "    </tr>\n",
       "    <tr>\n",
       "      <th>Team20</th>\n",
       "      <td>Vasco da Gama</td>\n",
       "      <td>29258.463374</td>\n",
       "    </tr>\n",
       "  </tbody>\n",
       "</table>\n",
       "</div>"
      ],
      "text/plain": [
       "                        Team  Total Distance\n",
       "Team                                        \n",
       "Team01   Atlético Goianiense    37736.142482\n",
       "Team02      Atlético Mineiro    30100.618320\n",
       "Team03  Athletico Paranaense    33733.382776\n",
       "Team04                 Bahia    42171.581196\n",
       "Team05              Botafogo    28089.633545\n",
       "Team06                 Ceará    69076.818835\n",
       "Team07           Corinthians    26723.256711\n",
       "Team08              Coritiba    33176.144740\n",
       "Team09              Flamengo    28190.258200\n",
       "Team10            Fluminense    28789.744437\n",
       "Team11             Fortaleza    67891.387315\n",
       "Team12                 Goiás    34395.823236\n",
       "Team13                Grêmio    41080.006484\n",
       "Team14         Internacional    39607.781231\n",
       "Team15             Palmeiras    27241.237206\n",
       "Team16   Red Bull Bragantino    26586.226679\n",
       "Team17                Santos    28362.891227\n",
       "Team18             São Paulo    27928.186482\n",
       "Team19                 Sport    46899.301527\n",
       "Team20         Vasco da Gama    29258.463374"
      ]
     },
     "execution_count": 66,
     "metadata": {},
     "output_type": "execute_result"
    }
   ],
   "source": [
    "trek_list = []\n",
    "for ii in range(trek.shape[0]):\n",
    "    team_trek=0\n",
    "    for jj in range(trek.shape[1]-1):\n",
    "        team_trek += distances.loc[list_teams_solution.loc[trek.iloc[ii,jj],'Team'],\n",
    "                                  list_teams_solution.loc[trek.iloc[ii,jj+1],'Team']]\n",
    "    \n",
    "    trek_list.append(team_trek)\n",
    "list_teams_solution['Total Distance']=trek_list\n",
    "list_teams_solution"
   ]
  },
  {
   "cell_type": "code",
   "execution_count": 67,
   "metadata": {},
   "outputs": [
    {
     "data": {
      "image/png": "[encoded data removed]",
      "text/plain": [
       "<Figure size 432x288 with 1 Axes>"
      ]
     },
     "metadata": {
      "needs_background": "light"
     },
     "output_type": "display_data"
    }
   ],
   "source": [
    "plt.hist(trek_list, bins = 6)\n",
    "plt.xlabel('Total Distance')\n",
    "plt.ylabel('Number of Teams')\n",
    "plt.title('Distance Distribution')\n",
    "plt.show()"
   ]
  },
  {
   "cell_type": "markdown",
   "metadata": {},
   "source": [
    "### 8.3 Third evaluation - Standard Deviation"
   ]
  },
  {
   "cell_type": "code",
   "execution_count": 68,
   "metadata": {},
   "outputs": [],
   "source": [
    "gene_pool = []\n",
    "gene_pool.append(locations)\n",
    "jj = 0\n",
    "for ii in range(5):\n",
    "    ok = 1\n",
    "    #we will create new configurations until we find a valid one \n",
    "    while ok > 0:\n",
    "        location_gene = locations.copy()\n",
    "        #randomly selecting a team and a round\n",
    "        x1 = random.randint(0,19)\n",
    "        x2 = random.randint(0,18)\n",
    "        team1 = generic[x1]\n",
    "        team2 = matches_solution.iloc[x1,x2]\n",
    "        location_gene.loc[team1,rounds[x2]] = 1 - location_gene.loc[team1,rounds[x2]]\n",
    "        location_gene.loc[team2,rounds[x2]] = 1 - location_gene.loc[team2,rounds[x2]]\n",
    "        \n",
    "        ok = verifyCondition(location_gene)\n",
    "         \n",
    "    gene_pool.append(location_gene)\n"
   ]
  },
  {
   "cell_type": "code",
   "execution_count": 69,
   "metadata": {},
   "outputs": [
    {
     "name": "stdout",
     "output_type": "stream",
     "text": [
      "Generation: 0\n",
      "Generation: 50\n",
      "Generation: 100\n",
      "Generation: 150\n",
      "Generation: 200\n",
      "Generation: 250\n",
      "Generation: 300\n",
      "Generation: 350\n",
      "Generation: 400\n",
      "Generation: 450\n"
     ]
    }
   ],
   "source": [
    "generation=0\n",
    "max_generation=500\n",
    "metric=[]\n",
    "# Choose evaluation function: (0) Total (1) Difference (2) Standard Deviation\n",
    "method = 2 \n",
    "while (generation < max_generation):\n",
    "    if (generation%50 == 0):\n",
    "        print('Generation:', generation)\n",
    "    scores = []\n",
    "    #for each gene\n",
    "    for ii in range(len(gene_pool)):\n",
    "        scores.append(evaluation(list_teams_solution, gene_pool[ii], matches_solution)[method])\n",
    "    \n",
    "    #ranking results\n",
    "    ranking = sorted(range(len(scores)), key=lambda k: scores[k])\n",
    "    \n",
    "    ranked_gene_pool = []\n",
    "    for ii in range(len(gene_pool)):\n",
    "        ranked_gene_pool.append(gene_pool[ranking[ii]])\n",
    "    \n",
    "    gene_pool = ranked_gene_pool\n",
    "    \n",
    "    #storing best result\n",
    "    metric.append(np.min(scores))\n",
    "    \n",
    "    #creating new candidates    \n",
    "    for ii in range(2,4):\n",
    "        ok = 1\n",
    "        #we will create new configurations until we find a valid one \n",
    "        while ok > 0:\n",
    "            location_gene = gene_pool[0].copy()\n",
    "            #randomly selecting a team and a round\n",
    "            x1 = random.randint(0,19)\n",
    "            x2 = random.randint(0,18)\n",
    "            team1 = generic[x1]\n",
    "            team2 = matches_solution.iloc[x1,x2]\n",
    "            location_gene.loc[team1,rounds[x2]] = 1 - location_gene.loc[team1,rounds[x2]]\n",
    "            location_gene.loc[team2,rounds[x2]] = 1 - location_gene.loc[team2,rounds[x2]]\n",
    "\n",
    "            ok = verifyCondition(location_gene)\n",
    "\n",
    "        gene_pool[ii] = location_gene\n",
    "\n",
    "    for ii in range(4,6):\n",
    "        ok = 1\n",
    "        #we will create new configurations until we find a valid one \n",
    "        while ok > 0:\n",
    "            location_gene = gene_pool[1].copy()\n",
    "            #randomly selecting a team and a round\n",
    "            x1 = random.randint(0,19)\n",
    "            x2 = random.randint(0,18)\n",
    "            team1 = generic[x1]\n",
    "            team2 = matches_solution.iloc[x1,x2]\n",
    "            location_gene.loc[team1,rounds[x2]] = 1 - location_gene.loc[team1,rounds[x2]]\n",
    "            location_gene.loc[team2,rounds[x2]] = 1 - location_gene.loc[team2,rounds[x2]]\n",
    "\n",
    "            ok = verifyCondition(location_gene)\n",
    "\n",
    "        gene_pool[ii] = location_gene\n",
    "        \n",
    "    #prepping for next generation\n",
    "    generation += 1\n",
    "    "
   ]
  },
  {
   "cell_type": "code",
   "execution_count": 70,
   "metadata": {},
   "outputs": [
    {
     "data": {
      "image/png": "[encoded data removed]",
      "text/plain": [
       "<Figure size 432x288 with 1 Axes>"
      ]
     },
     "metadata": {
      "needs_background": "light"
     },
     "output_type": "display_data"
    }
   ],
   "source": [
    "plt.plot(range(max_generation), metric)\n",
    "plt.xlabel('Generation')\n",
    "plt.ylabel('Smallest standard deviation')\n",
    "plt.title('Evolution of evaluation metric')\n",
    "plt.show()"
   ]
  },
  {
   "cell_type": "code",
   "execution_count": 71,
   "metadata": {},
   "outputs": [
    {
     "name": "stdout",
     "output_type": "stream",
     "text": [
      "The best configuration has a standard deviation of: 12101.671142290073 , ordered as below.\n",
      "The original order had a difference of 12220.999097401962 . That means we reduced the total in 1 %\n"
     ]
    }
   ],
   "source": [
    "print('The best configuration has a standard deviation of:',metric[-1],', ordered as below.')\n",
    "print('The original order had a difference of',standard_deviation,'. That means we reduced the total in',round(100*(1-metric[-1]/standard_deviation)),'%')"
   ]
  },
  {
   "cell_type": "code",
   "execution_count": 72,
   "metadata": {},
   "outputs": [],
   "source": [
    "best_locations = gene_pool[0]\n",
    "trek=[]\n",
    "for jj in range(len(generic)):\n",
    "    team_trek=[generic[jj]]+2*matches_solution.loc[generic[jj],:].tolist()+[generic[jj]]\n",
    "    for ii in range(len(rounds)):\n",
    "        if best_locations.loc[generic[jj],rounds[ii]]==0:\n",
    "            team_trek[ii+1]=generic[jj]\n",
    "        else:\n",
    "            team_trek[ii+20]=generic[jj]\n",
    "\n",
    "    trek.append(team_trek)\n",
    "    \n",
    "trek=pd.DataFrame(trek)"
   ]
  },
  {
   "cell_type": "code",
   "execution_count": 73,
   "metadata": {},
   "outputs": [
    {
     "data": {
      "text/html": [
       "<div>\n",
       "<style scoped>\n",
       "    .dataframe tbody tr th:only-of-type {\n",
       "        vertical-align: middle;\n",
       "    }\n",
       "\n",
       "    .dataframe tbody tr th {\n",
       "        vertical-align: top;\n",
       "    }\n",
       "\n",
       "    .dataframe thead th {\n",
       "        text-align: right;\n",
       "    }\n",
       "</style>\n",
       "<table border=\"1\" class=\"dataframe\">\n",
       "  <thead>\n",
       "    <tr style=\"text-align: right;\">\n",
       "      <th></th>\n",
       "      <th>Team</th>\n",
       "      <th>Total Distance</th>\n",
       "    </tr>\n",
       "    <tr>\n",
       "      <th>Team</th>\n",
       "      <th></th>\n",
       "      <th></th>\n",
       "    </tr>\n",
       "  </thead>\n",
       "  <tbody>\n",
       "    <tr>\n",
       "      <th>Team01</th>\n",
       "      <td>Atlético Goianiense</td>\n",
       "      <td>37736.142482</td>\n",
       "    </tr>\n",
       "    <tr>\n",
       "      <th>Team02</th>\n",
       "      <td>Atlético Mineiro</td>\n",
       "      <td>29473.996967</td>\n",
       "    </tr>\n",
       "    <tr>\n",
       "      <th>Team03</th>\n",
       "      <td>Athletico Paranaense</td>\n",
       "      <td>33733.382776</td>\n",
       "    </tr>\n",
       "    <tr>\n",
       "      <th>Team04</th>\n",
       "      <td>Bahia</td>\n",
       "      <td>42171.581196</td>\n",
       "    </tr>\n",
       "    <tr>\n",
       "      <th>Team05</th>\n",
       "      <td>Botafogo</td>\n",
       "      <td>28089.633545</td>\n",
       "    </tr>\n",
       "    <tr>\n",
       "      <th>Team06</th>\n",
       "      <td>Ceará</td>\n",
       "      <td>69076.818835</td>\n",
       "    </tr>\n",
       "    <tr>\n",
       "      <th>Team07</th>\n",
       "      <td>Corinthians</td>\n",
       "      <td>26723.256711</td>\n",
       "    </tr>\n",
       "    <tr>\n",
       "      <th>Team08</th>\n",
       "      <td>Coritiba</td>\n",
       "      <td>35121.776295</td>\n",
       "    </tr>\n",
       "    <tr>\n",
       "      <th>Team09</th>\n",
       "      <td>Flamengo</td>\n",
       "      <td>28190.258200</td>\n",
       "    </tr>\n",
       "    <tr>\n",
       "      <th>Team10</th>\n",
       "      <td>Fluminense</td>\n",
       "      <td>28789.744437</td>\n",
       "    </tr>\n",
       "    <tr>\n",
       "      <th>Team11</th>\n",
       "      <td>Fortaleza</td>\n",
       "      <td>67891.387315</td>\n",
       "    </tr>\n",
       "    <tr>\n",
       "      <th>Team12</th>\n",
       "      <td>Goiás</td>\n",
       "      <td>35977.539886</td>\n",
       "    </tr>\n",
       "    <tr>\n",
       "      <th>Team13</th>\n",
       "      <td>Grêmio</td>\n",
       "      <td>41000.139595</td>\n",
       "    </tr>\n",
       "    <tr>\n",
       "      <th>Team14</th>\n",
       "      <td>Internacional</td>\n",
       "      <td>39607.781231</td>\n",
       "    </tr>\n",
       "    <tr>\n",
       "      <th>Team15</th>\n",
       "      <td>Palmeiras</td>\n",
       "      <td>28198.575556</td>\n",
       "    </tr>\n",
       "    <tr>\n",
       "      <th>Team16</th>\n",
       "      <td>Red Bull Bragantino</td>\n",
       "      <td>26570.589444</td>\n",
       "    </tr>\n",
       "    <tr>\n",
       "      <th>Team17</th>\n",
       "      <td>Santos</td>\n",
       "      <td>28380.193422</td>\n",
       "    </tr>\n",
       "    <tr>\n",
       "      <th>Team18</th>\n",
       "      <td>São Paulo</td>\n",
       "      <td>28088.670411</td>\n",
       "    </tr>\n",
       "    <tr>\n",
       "      <th>Team19</th>\n",
       "      <td>Sport</td>\n",
       "      <td>46899.301527</td>\n",
       "    </tr>\n",
       "    <tr>\n",
       "      <th>Team20</th>\n",
       "      <td>Vasco da Gama</td>\n",
       "      <td>29258.463374</td>\n",
       "    </tr>\n",
       "  </tbody>\n",
       "</table>\n",
       "</div>"
      ],
      "text/plain": [
       "                        Team  Total Distance\n",
       "Team                                        \n",
       "Team01   Atlético Goianiense    37736.142482\n",
       "Team02      Atlético Mineiro    29473.996967\n",
       "Team03  Athletico Paranaense    33733.382776\n",
       "Team04                 Bahia    42171.581196\n",
       "Team05              Botafogo    28089.633545\n",
       "Team06                 Ceará    69076.818835\n",
       "Team07           Corinthians    26723.256711\n",
       "Team08              Coritiba    35121.776295\n",
       "Team09              Flamengo    28190.258200\n",
       "Team10            Fluminense    28789.744437\n",
       "Team11             Fortaleza    67891.387315\n",
       "Team12                 Goiás    35977.539886\n",
       "Team13                Grêmio    41000.139595\n",
       "Team14         Internacional    39607.781231\n",
       "Team15             Palmeiras    28198.575556\n",
       "Team16   Red Bull Bragantino    26570.589444\n",
       "Team17                Santos    28380.193422\n",
       "Team18             São Paulo    28088.670411\n",
       "Team19                 Sport    46899.301527\n",
       "Team20         Vasco da Gama    29258.463374"
      ]
     },
     "execution_count": 73,
     "metadata": {},
     "output_type": "execute_result"
    }
   ],
   "source": [
    "trek_list = []\n",
    "for ii in range(trek.shape[0]):\n",
    "    team_trek=0\n",
    "    for jj in range(trek.shape[1]-1):\n",
    "        team_trek += distances.loc[list_teams_solution.loc[trek.iloc[ii,jj],'Team'],\n",
    "                                  list_teams_solution.loc[trek.iloc[ii,jj+1],'Team']]\n",
    "    \n",
    "    trek_list.append(team_trek)\n",
    "list_teams_solution['Total Distance']=trek_list\n",
    "list_teams_solution"
   ]
  },
  {
   "cell_type": "code",
   "execution_count": 74,
   "metadata": {},
   "outputs": [
    {
     "data": {
      "image/png": "[encoded data removed]",
      "text/plain": [
       "<Figure size 432x288 with 1 Axes>"
      ]
     },
     "metadata": {
      "needs_background": "light"
     },
     "output_type": "display_data"
    }
   ],
   "source": [
    "plt.hist(trek_list, bins = 6)\n",
    "plt.xlabel('Total Distance')\n",
    "plt.ylabel('Number of Teams')\n",
    "plt.title('Distance Distribution')\n",
    "plt.show()"
   ]
  },
  {
   "cell_type": "markdown",
   "metadata": {},
   "source": [
    "Our results in this case is much worse than the ones optimizing the order of the teams. When we compare the improvements, we also see lower values."
   ]
  },
  {
   "cell_type": "markdown",
   "metadata": {
    "id": "OTzlKIgidmvx"
   },
   "source": [
    "## 9. Optimizing matches"
   ]
  },
  {
   "cell_type": "markdown",
   "metadata": {
    "id": "7_Px02bldmvx"
   },
   "source": [
    "We are going to modify the order of the rounds while keeping the order of the teams fixed. In this case, we will need to alter the location table too. In other words, we will modify the order of the columns in the matches table and also in the locations table. We still need to validate the condition that no team can play more than two games in a row at home or away."
   ]
  },
  {
   "cell_type": "code",
   "execution_count": 75,
   "metadata": {
    "id": "UgE4mwDzdmvx"
   },
   "outputs": [],
   "source": [
    "list_teams_solution = list_teams.copy()"
   ]
  },
  {
   "cell_type": "markdown",
   "metadata": {
    "id": "VCkYGDzJdmvy"
   },
   "source": [
    "For this case, our gene is a vector with the reordering of the rounds."
   ]
  },
  {
   "cell_type": "code",
   "execution_count": 76,
   "metadata": {
    "id": "Y0bak6AIdmvy",
    "outputId": "bd088272-d91e-443c-c9c3-8140a33b725e"
   },
   "outputs": [
    {
     "name": "stdout",
     "output_type": "stream",
     "text": [
      "That is, the vector (0,1,2,3,4,5,6,7,8,9,10,11,12,13,141,15,16,17,18,19) is : ['Round 1', 'Round 2', 'Round 3', 'Round 4', 'Round 5', 'Round 6', 'Round 7', 'Round 8', 'Round 9', 'Round 10', 'Round 11', 'Round 12', 'Round 13', 'Round 14', 'Round 15', 'Round 16', 'Round 17', 'Round 18', 'Round 19']\n"
     ]
    }
   ],
   "source": [
    "print('That is, the vector (0,1,2,3,4,5,6,7,8,9,10,11,12,13,141,15,16,17,18,19) is :', rounds)"
   ]
  },
  {
   "cell_type": "markdown",
   "metadata": {
    "id": "ATLfr8aJdmvy"
   },
   "source": [
    "At the end of our algorithm, we will present a graph with the evolution of the best evaluation function for each generation. We hope to find an optimized value.<br>\n",
    "We have four parameters to define:\n",
    "1. the number of genes (configurations) we will evaluate in each generation: **6**;\n",
    "2. the number of genes we will use to create the new generation: **2**;\n",
    "3. the number of generations: **500**;\n",
    "4. the original configurations."
   ]
  },
  {
   "cell_type": "markdown",
   "metadata": {
    "id": "C0TPpkRadmvy"
   },
   "source": [
    "The creation of an original set of valid configurations is more complex in this case. From the original table, we are going to generate 5 new tables, with only one mutation each."
   ]
  },
  {
   "cell_type": "code",
   "execution_count": 77,
   "metadata": {
    "id": "ouCRWTv6dmvz",
    "outputId": "8181537b-9732-4d79-cbc4-6cac4b145c1b"
   },
   "outputs": [],
   "source": [
    "gene_pool = []\n",
    "gene_pool.append(rounds)\n",
    "for ii in range(5):\n",
    "    ok = 1\n",
    "    #we will create new configurations until we find a valid one \n",
    "    while ok>0:\n",
    "        rounds_gene = rounds.copy()\n",
    "        x1 = random.randint(0,18)\n",
    "        x2 = x1\n",
    "        while x2 == x1:\n",
    "            x2 = random.randint(0,18)\n",
    "        pos1 = rounds_gene[x1]\n",
    "        pos2 = rounds_gene[x2]\n",
    "        rounds_gene[x1] = pos2\n",
    "        rounds_gene[x2] = pos1\n",
    "                \n",
    "        ok = verifyCondition(location_solution[rounds_gene])\n",
    "    gene_pool.append(rounds_gene)"
   ]
  },
  {
   "cell_type": "markdown",
   "metadata": {
    "id": "0K-PaN1jdmvz"
   },
   "source": [
    "### 9.1 First evaluation - Total sum"
   ]
  },
  {
   "cell_type": "code",
   "execution_count": null,
   "metadata": {},
   "outputs": [],
   "source": [
    "generation=0\n",
    "max_generation=500\n",
    "metric=[]\n",
    "# Choose evaluation function: (0) Total (1) Difference (2) Standard Deviation\n",
    "method = 0 \n",
    "while (generation < max_generation):\n",
    "    if (generation%50 == 0):\n",
    "        print('Generation:', generation)\n",
    "    scores = []\n",
    "    #for each gene\n",
    "    for ii in range(len(gene_pool)):\n",
    "        location_solution = locations[gene_pool[ii]]\n",
    "        matches_solution = matches[gene_pool[ii]]\n",
    "        \n",
    "        #evaluation function\n",
    "        scores.append(evaluation(list_teams_solution, location_solution, matches_solution)[method])\n",
    "    \n",
    "    #ranking results\n",
    "    ranking = sorted(range(len(scores)), key=lambda k: scores[k])\n",
    "    \n",
    "    ranked_gene_pool = []\n",
    "    for ii in range(len(gene_pool)):\n",
    "        ranked_gene_pool.append(gene_pool[ranking[ii]])\n",
    "    \n",
    "    gene_pool = ranked_gene_pool    \n",
    "    \n",
    "    #storing best result\n",
    "    metric.append(np.min(scores))\n",
    "    \n",
    "    #creating new candidates\n",
    "    for ii in range(2,4):\n",
    "        ok = 1\n",
    "        jj=0\n",
    "        #we will create new configurations until we find a valid one \n",
    "        while ok>0:\n",
    "            new_gene = gene_pool[0]\n",
    "            x1 = random.randint(0,18)\n",
    "            x2 = x1\n",
    "            while x2 == x1:\n",
    "                x2 = random.randint(0,18)\n",
    "            pos1 = new_gene[x1]\n",
    "            pos2 = new_gene[x2]\n",
    "            new_gene[x1] = pos2\n",
    "            new_gene[x2] = pos1\n",
    "            location_test = locations[new_gene]\n",
    "\n",
    "            ok = verifyCondition(location_test)\n",
    "            jj+=1\n",
    "            if jj%100==0:\n",
    "                print(ii,jj)\n",
    "        gene_pool[ii] = new_gene\n",
    "        \n",
    "    for ii in range(4,6):\n",
    "        ok = 1\n",
    "        #we will create new configurations until we find a valid one \n",
    "        while ok>0:\n",
    "            new_gene = gene_pool[1]\n",
    "            x1 = random.randint(0,18)\n",
    "            x2 = x1\n",
    "            while x2 == x1:\n",
    "                x2 = random.randint(0,18)\n",
    "            pos1 = new_gene[x1]\n",
    "            pos2 = new_gene[x2]\n",
    "            new_gene[x1] = pos2\n",
    "            new_gene[x2] = pos1\n",
    "            \n",
    "            location_test = locations[new_gene]\n",
    "\n",
    "\n",
    "            ok = verifyCondition(location_test)\n",
    "        gene_pool[ii] = new_gene\n",
    "    \n",
    "    #prepping for next generation\n",
    "    generation += 1\n",
    "    "
   ]
  },
  {
   "cell_type": "markdown",
   "metadata": {},
   "source": [
    "**We had to stop this run, because it wasn't able to find new valid configurations.** This is independent of the evaluation function, so we won't be proceeding with this kind of optimization."
   ]
  },
  {
   "cell_type": "markdown",
   "metadata": {
    "id": "8WtAwiPEdmvz"
   },
   "source": [
    "## 10. Conclusion"
   ]
  },
  {
   "cell_type": "markdown",
   "metadata": {
    "id": "kPVCBf3admvz"
   },
   "source": [
    "The Traveling Tournament Problem is really complex, and creating a competition with 20 teams is very hard. We split the problem in three tables and tried approaching the task one by one. Even so, we were able to move forward with two of them."
   ]
  },
  {
   "cell_type": "markdown",
   "metadata": {
    "id": "zXKjXuqFdmv0"
   },
   "source": [
    "We found that changing the order of the teams has a bigger impact than modifying the location of the games. In the former, we had a maximum distance traveled close to 54k kilometers, while in the latter it was close to 70k. "
   ]
  },
  {
   "cell_type": "markdown",
   "metadata": {
    "id": "PZRUj2Wvdmv6"
   },
   "source": [
    "This solution can be applied to any new Brazilian Championship. For the 2021 edition, we should update the list of teams and their cities, and then run the optimization of the order of the teams using the standard deviation as an evaluation metric."
   ]
  },
  {
   "cell_type": "markdown",
   "metadata": {},
   "source": [
    "# **Final Conclusion: we can generate an optimized tournament using genetic algorithms by modifying the order of the teams using standard deviation as an evaluation metric.**"
   ]
  },
  {
   "cell_type": "code",
   "execution_count": null,
   "metadata": {},
   "outputs": [],
   "source": []
  }
 ],
 "metadata": {
  "colab": {
   "collapsed_sections": [
    "C1XLbmlxdmvv",
    "OTzlKIgidmvx",
    "8WtAwiPEdmvz"
   ],
   "name": "brasileirao.ipynb",
   "provenance": [],
   "toc_visible": true
  },
  "kernelspec": {
   "display_name": "Python 3",
   "language": "python",
   "name": "python3"
  },
  "language_info": {
   "codemirror_mode": {
    "name": "ipython",
    "version": 3
   },
   "file_extension": ".py",
   "mimetype": "text/x-python",
   "name": "python",
   "nbconvert_exporter": "python",
   "pygments_lexer": "ipython3",
   "version": "3.8.5"
  }
 },
 "nbformat": 4,
 "nbformat_minor": 4
}
